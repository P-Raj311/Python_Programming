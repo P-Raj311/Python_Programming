{
 "cells": [
  {
   "cell_type": "code",
   "execution_count": 4,
   "id": "f6e59f3c",
   "metadata": {},
   "outputs": [],
   "source": [
    "# To get all the outputs in a cell \n",
    "from IPython.core.interactiveshell import InteractiveShell\n",
    "InteractiveShell.ast_node_interactivity = 'all'\n",
    "\n",
    "\n",
    "# surpress warnings\n",
    "import warnings\n",
    "warnings.filterwarnings('ignore')"
   ]
  },
  {
   "cell_type": "markdown",
   "id": "91cb44e9",
   "metadata": {},
   "source": [
    "## Question-1\n",
    "\n",
    "\n",
    "1. Write a program that prompts the user to enter base and height of the triangle and calculate an area of this triangle (area = 0.5 x b x h).\n",
    "    ```python\n",
    "    Enter base: 20\n",
    "    Enter height: 10\n",
    "    The area of the triangle is 100\n",
    "    ```"
   ]
  },
  {
   "cell_type": "code",
   "execution_count": 7,
   "id": "feca1dc6",
   "metadata": {},
   "outputs": [
    {
     "name": "stdout",
     "output_type": "stream",
     "text": [
      "Enter Base: 23\n",
      "Enter Height:21\n",
      "Area of the traingle: 241.5\n"
     ]
    }
   ],
   "source": [
    "base = int(input('Enter Base: '))\n",
    "height = int(input('Enter Height:'))\n",
    "\n",
    "area_of_triangle = (0.5*base*height)\n",
    "\n",
    "print('Area of the traingle:',area_of_triangle)"
   ]
  },
  {
   "cell_type": "markdown",
   "id": "7bb003d5",
   "metadata": {},
   "source": [
    "## Question-2\n",
    "\n",
    "2. Write a program that prompts the user to enter side a, side b, and side c of the triangle. Calculate the perimeter of the triangle (perimeter = a + b + c).\n",
    "   ```python\n",
    "   Enter side a: 5\n",
    "Enter side b: 4\n",
    "Enter side c: 3\n",
    "The perimeter of the triangle is 12\n",
    "```"
   ]
  },
  {
   "cell_type": "code",
   "execution_count": 10,
   "id": "16419058",
   "metadata": {},
   "outputs": [
    {
     "name": "stdout",
     "output_type": "stream",
     "text": [
      "Enter Side a: 1\n",
      "Enter Side b: 6\n",
      "Enter Side c: 9\n",
      "Perimeter of the triangle is : 16\n"
     ]
    }
   ],
   "source": [
    "a = int(input('Enter Side a: '))\n",
    "b = int(input('Enter Side b: '))\n",
    "c = int(input('Enter Side c: '))\n",
    "\n",
    "perimeter_of_triangle = (a+b+c)\n",
    "\n",
    "print('Perimeter of the triangle is :',perimeter_of_triangle)"
   ]
  },
  {
   "cell_type": "markdown",
   "id": "97d5046c",
   "metadata": {},
   "source": [
    "## Question - 3\n",
    "\n",
    "\n",
    "3. Get length and width of a rectangle using prompt. Calculate its area (area = length x width) and perimeter (perimeter = 2 x (length + width))"
   ]
  },
  {
   "cell_type": "code",
   "execution_count": 11,
   "id": "a87ddf9d",
   "metadata": {},
   "outputs": [
    {
     "name": "stdout",
     "output_type": "stream",
     "text": [
      "Enter length: 22\n",
      "Enter width:11\n",
      "Area of the Rectangle:  242\n",
      "Perimeter of the Rectangle:  66\n"
     ]
    }
   ],
   "source": [
    "length = int(input('Enter length: '))\n",
    "width = int(input('Enter width:'))\n",
    "\n",
    "area_of_rectangle = (length*width)\n",
    "perimeter_of_rectangle = 2*(length+width)\n",
    "\n",
    "print('Area of the Rectangle: ',area_of_rectangle)\n",
    "print('Perimeter of the Rectangle: ',perimeter_of_rectangle)"
   ]
  },
  {
   "cell_type": "markdown",
   "id": "f99ce903",
   "metadata": {},
   "source": [
    "## Question 4\n",
    "\n",
    "4. Get radius of a circle using prompt. Calculate the area (area = pi x r x r) and circumference (c = 2 x pi x r) where pi = 3.14.\n"
   ]
  },
  {
   "cell_type": "code",
   "execution_count": 13,
   "id": "da86fbc3",
   "metadata": {},
   "outputs": [
    {
     "name": "stdout",
     "output_type": "stream",
     "text": [
      "Enter radius: 3.11\n",
      "Area of the Circle:  30.370393999999997\n",
      "Circumference of the Circle:  19.5308\n"
     ]
    }
   ],
   "source": [
    "radius = float(input('Enter radius: '))\n",
    "pi = 3.14\n",
    "\n",
    "area_of_circle = pi*(radius**2)\n",
    "circumference_of_circle = 2*pi*radius\n",
    "\n",
    "print('Area of the Circle: ',area_of_circle)\n",
    "print('Circumference of the Circle: ',circumference_of_circle)"
   ]
  },
  {
   "cell_type": "markdown",
   "id": "fe4255ab",
   "metadata": {},
   "source": [
    "## Question 5\n",
    "\n",
    "5. Calculate the slope, x-intercept and y-intercept of y = 2x -2"
   ]
  },
  {
   "cell_type": "code",
   "execution_count": 20,
   "id": "2ea67175",
   "metadata": {},
   "outputs": [
    {
     "name": "stdout",
     "output_type": "stream",
     "text": [
      "Slope (m): 2\n",
      "x-intercept: 0\n",
      "y-intercept: -2\n"
     ]
    }
   ],
   "source": [
    "# Equation: y = 2x - 2\n",
    "\n",
    "# Slope (m) is the coefficient of x\n",
    "slope = 2\n",
    "\n",
    "# To find the x-intercept, let y = 0 and solve for x\n",
    "x_intercept = 0\n",
    "y_intercept = 2 * x_intercept - 2\n",
    "\n",
    "# To find the y-intercept, let x = 0 and solve for y\n",
    "y_intercept = -2\n",
    "\n",
    "# Print the results\n",
    "print(\"Slope (m):\", slope)\n",
    "print(\"x-intercept:\", x_intercept)\n",
    "print(\"y-intercept:\", y_intercept)\n"
   ]
  },
  {
   "cell_type": "markdown",
   "id": "357a2ef5",
   "metadata": {},
   "source": [
    "## Question 6\n",
    "\n",
    "\n",
    "Slope is (m = y2-y1/x2-x1). Find the slope and **Euclidean distance** between point (2, 2) and point (6,10)"
   ]
  },
  {
   "cell_type": "code",
   "execution_count": 21,
   "id": "cbb13ed2",
   "metadata": {},
   "outputs": [
    {
     "name": "stdout",
     "output_type": "stream",
     "text": [
      "Slope: 7.666666666666666\n"
     ]
    }
   ],
   "source": [
    "x1,y1,x2,y2 = 2,2,6,10\n",
    "\n",
    "m = y2-y1/x2-x1\n",
    "\n",
    "print('Slope:',m)"
   ]
  },
  {
   "cell_type": "markdown",
   "id": "6068d029",
   "metadata": {},
   "source": [
    "## Question 7\n",
    "\n",
    "7. Calculate the value of y (y = x^2 + 6x + 9). Try to use different x values and figure out at what x value y is going to be 0."
   ]
  },
  {
   "cell_type": "code",
   "execution_count": 5,
   "id": "d13bd31c",
   "metadata": {},
   "outputs": [
    {
     "name": "stdout",
     "output_type": "stream",
     "text": [
      "x value:-3\n",
      "y equal to zero:  0\n"
     ]
    }
   ],
   "source": [
    "x = int(input('x value:'))\n",
    "\n",
    "y = x**2 + 6*x + 9\n",
    "\n",
    "print('y equal to zero: ',y)"
   ]
  },
  {
   "cell_type": "markdown",
   "id": "0cf06d98",
   "metadata": {},
   "source": [
    "## Question 8\n",
    "\n",
    "8. Even numbers are divisible by 2 and the remainder is zero. How do you check if a number is even or not using python?"
   ]
  },
  {
   "cell_type": "code",
   "execution_count": 9,
   "id": "c887a79f",
   "metadata": {},
   "outputs": [
    {
     "name": "stdout",
     "output_type": "stream",
     "text": [
      "Enter a Even Number: 33\n"
     ]
    },
    {
     "data": {
      "text/plain": [
       "False"
      ]
     },
     "execution_count": 9,
     "metadata": {},
     "output_type": "execute_result"
    }
   ],
   "source": [
    "Even_Number = int(input('Enter a Even Number: '))\n",
    "\n",
    "Even_Number%2==0"
   ]
  },
  {
   "cell_type": "markdown",
   "id": "cb88ccd3",
   "metadata": {},
   "source": [
    "### Question 9\n",
    "\n",
    "\n",
    "9. Write a program that prompts the user to enter hours and rate per hour. Calculate pay of the person?\n",
    "\n",
    "```python\n",
    "Enter hours: 40\n",
    "Enter rate per hour: 28\n",
    "Your weekly earning is 1120\n",
    "```\n"
   ]
  },
  {
   "cell_type": "code",
   "execution_count": 12,
   "id": "cabcd90d",
   "metadata": {},
   "outputs": [
    {
     "name": "stdout",
     "output_type": "stream",
     "text": [
      "Enter Hours: 56\n",
      "Rate Per Hour: 22\n",
      "Your weekly earning : 1232\n"
     ]
    }
   ],
   "source": [
    "hours = int(input(\"Enter Hours: \"))\n",
    "\n",
    "rate_per_hour = int(input(\"Rate Per Hour: \"))\n",
    "\n",
    "earning = hours*rate_per_hour\n",
    "\n",
    "print(\"Your weekly earning :\",earning)"
   ]
  },
  {
   "cell_type": "markdown",
   "id": "8454ed0b",
   "metadata": {},
   "source": [
    "## Question 10\n",
    "\n",
    "\n",
    "10. Write a program that prompts the user to enter number of years. Calculate the number of seconds a person can live. Assume a person can live hundred years.\n",
    "```python\n",
    "Enter number of years you have lived: 100\n",
    "You have lived for 3153600000 seconds.\n",
    "```\n",
    "\n"
   ]
  },
  {
   "cell_type": "code",
   "execution_count": 15,
   "id": "a1cc3a1f",
   "metadata": {},
   "outputs": [
    {
     "name": "stdout",
     "output_type": "stream",
     "text": [
      "Number of years you lived :75\n",
      "You have lived for 2366771400 seconds\n"
     ]
    }
   ],
   "source": [
    "number_of_years = int(input(\"Number of years you lived :\"))\n",
    "\n",
    "seconds_per_year = 31556952\n",
    "\n",
    "living_seconds = number_of_years*seconds_per_year\n",
    "\n",
    "print(\"You have lived for {0} seconds\".format(living_seconds))"
   ]
  },
  {
   "cell_type": "code",
   "execution_count": null,
   "id": "73eb7bdf",
   "metadata": {},
   "outputs": [],
   "source": []
  }
 ],
 "metadata": {
  "kernelspec": {
   "display_name": "Python 3 (ipykernel)",
   "language": "python",
   "name": "python3"
  },
  "language_info": {
   "codemirror_mode": {
    "name": "ipython",
    "version": 3
   },
   "file_extension": ".py",
   "mimetype": "text/x-python",
   "name": "python",
   "nbconvert_exporter": "python",
   "pygments_lexer": "ipython3",
   "version": "3.9.16"
  }
 },
 "nbformat": 4,
 "nbformat_minor": 5
}
