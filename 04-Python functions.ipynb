{
 "cells": [
  {
   "cell_type": "markdown",
   "id": "928a66ec",
   "metadata": {},
   "source": [
    "# <font color='red'> Python Functions 🠋 </font> "
   ]
  },
  {
   "cell_type": "markdown",
   "id": "d3da8192",
   "metadata": {},
   "source": [
    "## Functions\n",
    "\n",
    "So far we have seen many built-in Python functions. In this section, we will focus on custom functions. What is a function? Before we start making functions, let us learn what a function is and why we need them?\n",
    "\n",
    "### Defining a Function\n",
    "\n",
    "A function is a reusable block of code or programming statements designed to perform a certain task. To define or declare a function, Python provides the _def_ keyword. The following is the syntax for defining a function. The function block of code is executed only if the function is called or invoked.\n",
    "\n",
    "### Declaring and Calling a Function\n",
    "\n",
    "When we make a function, we call it declaring a function. When we start using the it,  we call it *calling* or *invoking* a function. Function can be declared with or without parameters.\n"
   ]
  },
  {
   "cell_type": "markdown",
   "id": "6692215e",
   "metadata": {},
   "source": [
    "### Function is a group of related statements that perform a specific task.\n",
    "\n",
    "### Advantages of Functions:\n",
    "\n",
    "Makes our code more organized and manageable.\n",
    "it avoids repetition and makes code reusable."
   ]
  },
  {
   "cell_type": "code",
   "execution_count": 1,
   "id": "390f99cb",
   "metadata": {},
   "outputs": [],
   "source": [
    "from IPython.core.interactiveshell import InteractiveShell\n",
    "InteractiveShell.ast_node_interactivity = 'all'"
   ]
  },
  {
   "cell_type": "code",
   "execution_count": 2,
   "id": "7c8ec866",
   "metadata": {},
   "outputs": [],
   "source": [
    "# EMI Formula = p * r * (1+r)^n/((1+r)^n-1)\n",
    "\n",
    "# If the interest rate per annum is R% then \n",
    "# interest rate per month is calculated using: \n",
    "\n",
    "# Monthly Interest Rate (r) = R/(12*100)\n",
    "\n",
    "# Varaible name details:\n",
    "# p = Principal or Loan Amount\n",
    "# r = Interest Rate Per Month\n",
    "# n = Number of monthly installments"
   ]
  },
  {
   "cell_type": "code",
   "execution_count": 3,
   "id": "30985db3",
   "metadata": {},
   "outputs": [
    {
     "name": "stdout",
     "output_type": "stream",
     "text": [
      "Enter principal amount: 800000\n",
      "Enter annual interest rate: 8\n",
      "Enter number of months: 60\n",
      "Monthly EMI =  16221.12\n"
     ]
    }
   ],
   "source": [
    "# Reading inputs from user\n",
    "p = float(input(\"Enter principal amount: \"))\n",
    "R = float(input(\"Enter annual interest rate: \"))\n",
    "n = int(input(\"Enter number of months: \" ))\n",
    "\n",
    "# Calculating interest rate per month\n",
    "r = R/(12*100)\n",
    "\n",
    "# Calculating Equated Monthly Installment (EMI)\n",
    "emi = p * r * ((1+r)**n)/((1+r)**n - 1)\n",
    "\n",
    "print(\"Monthly EMI = \", round(emi, 2))"
   ]
  },
  {
   "cell_type": "markdown",
   "id": "243d61b0",
   "metadata": {},
   "source": [
    "### Syntax of Function"
   ]
  },
  {
   "cell_type": "markdown",
   "id": "6eb4dc33",
   "metadata": {},
   "source": [
    "```python\n",
    "def function_name(arguments):\n",
    "    \"\"\"docstring\"\"\"\n",
    "    statement 1\n",
    "    statement 2\n",
    "    statement 3\n",
    "    ...\n",
    "    return output or print(output)\n",
    "```"
   ]
  },
  {
   "cell_type": "markdown",
   "id": "344c7019",
   "metadata": {},
   "source": [
    "1. Keyword `def` marks the start of function header.\n",
    "2. `function_name` to uniquely identify it. Function naming follows the same rules of writing identifiers/variables in Python.\n",
    "3. `Parameters` (arguments) through which we pass values to a function. They are optional.\n",
    "4. A `colon (:)` to mark the end of function header.\n",
    "5. Documentation string `(docstring)` to describe what the function does. This is optional.\n",
    "6. One or more valid python statements that make up the function body. Statements must have same indentation level (usually 4 spaces).\n",
    "7. An optional `return` statement to return a value from the function."
   ]
  },
  {
   "cell_type": "markdown",
   "id": "9cd5d53e",
   "metadata": {},
   "source": [
    "### Write a function to calculate monthly EMI"
   ]
  },
  {
   "cell_type": "code",
   "execution_count": 4,
   "id": "929caf4e",
   "metadata": {},
   "outputs": [],
   "source": [
    "def monthly_emi(p, R, n):\n",
    "    \"\"\"p = Principal or Loan Amount\n",
    "    R = Interest Rate Per annum\n",
    "    n = Number of monthly installments\"\"\"\n",
    "    # Calculating interest rate per month\n",
    "    r = R/(12*100)\n",
    "    # Calculating Equated Monthly Installment (EMI)\n",
    "    emi = p * r * ((1+r)**n)/((1+r)**n - 1)\n",
    "    print(\"Monthly EMI = \", round(emi, 2))"
   ]
  },
  {
   "cell_type": "code",
   "execution_count": 5,
   "id": "7a43d861",
   "metadata": {},
   "outputs": [
    {
     "data": {
      "text/plain": [
       "function"
      ]
     },
     "execution_count": 5,
     "metadata": {},
     "output_type": "execute_result"
    }
   ],
   "source": [
    "type(monthly_emi)"
   ]
  },
  {
   "cell_type": "code",
   "execution_count": 6,
   "id": "a48e5d24",
   "metadata": {},
   "outputs": [
    {
     "data": {
      "text/plain": [
       "builtin_function_or_method"
      ]
     },
     "execution_count": 6,
     "metadata": {},
     "output_type": "execute_result"
    }
   ],
   "source": [
    "type(round)"
   ]
  },
  {
   "cell_type": "code",
   "execution_count": 7,
   "id": "1c1bb87c",
   "metadata": {},
   "outputs": [
    {
     "name": "stdout",
     "output_type": "stream",
     "text": [
      "Monthly EMI =  7119.72\n"
     ]
    }
   ],
   "source": [
    "# call a fucntion to use it\n",
    "monthly_emi(100000,10,15)"
   ]
  },
  {
   "cell_type": "code",
   "execution_count": 8,
   "id": "8c184896",
   "metadata": {},
   "outputs": [
    {
     "name": "stdout",
     "output_type": "stream",
     "text": [
      "Monthly EMI =  7119.72\n",
      "Monthly EMI =  7119.72\n",
      "Monthly EMI =  7119.72\n"
     ]
    }
   ],
   "source": [
    "# pass the params in the same order as in the definition for the fucntion\n",
    "\n",
    "monthly_emi(p = 100000, R=10, n=15)\n",
    "monthly_emi(R=10, n=15, p = 100000)\n",
    "monthly_emi(n=15, p = 100000, R=10)"
   ]
  },
  {
   "cell_type": "code",
   "execution_count": 8,
   "id": "827c06f5",
   "metadata": {},
   "outputs": [
    {
     "ename": "TypeError",
     "evalue": "unsupported operand type(s) for ** or pow(): 'float' and 'str'",
     "output_type": "error",
     "traceback": [
      "\u001b[1;31m---------------------------------------------------------------------------\u001b[0m",
      "\u001b[1;31mTypeError\u001b[0m                                 Traceback (most recent call last)",
      "Input \u001b[1;32mIn [8]\u001b[0m, in \u001b[0;36m<cell line: 1>\u001b[1;34m()\u001b[0m\n\u001b[1;32m----> 1\u001b[0m \u001b[43mmonthly_emi\u001b[49m\u001b[43m(\u001b[49m\u001b[38;5;241;43m10\u001b[39;49m\u001b[43m,\u001b[49m\u001b[38;5;241;43m100000\u001b[39;49m\u001b[43m,\u001b[49m\u001b[38;5;124;43m'\u001b[39;49m\u001b[38;5;124;43m15\u001b[39;49m\u001b[38;5;124;43m'\u001b[39;49m\u001b[43m)\u001b[49m\n",
      "Input \u001b[1;32mIn [2]\u001b[0m, in \u001b[0;36mmonthly_emi\u001b[1;34m(p, R, n)\u001b[0m\n\u001b[0;32m      6\u001b[0m r \u001b[38;5;241m=\u001b[39m R\u001b[38;5;241m/\u001b[39m(\u001b[38;5;241m12\u001b[39m\u001b[38;5;241m*\u001b[39m\u001b[38;5;241m100\u001b[39m)\n\u001b[0;32m      7\u001b[0m \u001b[38;5;66;03m# Calculating Equated Monthly Installment (EMI)\u001b[39;00m\n\u001b[1;32m----> 8\u001b[0m emi \u001b[38;5;241m=\u001b[39m p \u001b[38;5;241m*\u001b[39m r \u001b[38;5;241m*\u001b[39m (\u001b[43m(\u001b[49m\u001b[38;5;241;43m1\u001b[39;49m\u001b[38;5;241;43m+\u001b[39;49m\u001b[43mr\u001b[49m\u001b[43m)\u001b[49m\u001b[38;5;241;43m*\u001b[39;49m\u001b[38;5;241;43m*\u001b[39;49m\u001b[43mn\u001b[49m)\u001b[38;5;241m/\u001b[39m((\u001b[38;5;241m1\u001b[39m\u001b[38;5;241m+\u001b[39mr)\u001b[38;5;241m*\u001b[39m\u001b[38;5;241m*\u001b[39mn \u001b[38;5;241m-\u001b[39m \u001b[38;5;241m1\u001b[39m)\n\u001b[0;32m     10\u001b[0m \u001b[38;5;28mprint\u001b[39m(\u001b[38;5;124m\"\u001b[39m\u001b[38;5;124mMonthly EMI = \u001b[39m\u001b[38;5;124m\"\u001b[39m, \u001b[38;5;28mround\u001b[39m(emi, \u001b[38;5;241m2\u001b[39m))\n",
      "\u001b[1;31mTypeError\u001b[0m: unsupported operand type(s) for ** or pow(): 'float' and 'str'"
     ]
    }
   ],
   "source": [
    "monthly_emi(10,100000,'15') # In-appropriate type of input"
   ]
  },
  {
   "cell_type": "markdown",
   "id": "3c989986",
   "metadata": {},
   "source": [
    "## Function without Parameters\n",
    "Function can be declared without parameters"
   ]
  },
  {
   "cell_type": "code",
   "execution_count": 17,
   "id": "5ada5662",
   "metadata": {},
   "outputs": [
    {
     "name": "stdout",
     "output_type": "stream",
     "text": [
      "Data Scientist\n",
      "Enter a 1st Number : 23\n",
      "Enter a 2nd Number : 21\n",
      "Sum of Two Numbers : 44\n"
     ]
    }
   ],
   "source": [
    "def generate_full_name ():\n",
    "    first_name = 'Data'\n",
    "    last_name = 'Scientist'\n",
    "    space = ' '\n",
    "    full_name = first_name + space + last_name\n",
    "    print(full_name)\n",
    "generate_full_name () # calling a function\n",
    "\n",
    "def add_two_numbers ():\n",
    "    num_one = int(input(\"Enter a 1st Number : \"))\n",
    "    num_two = int(input(\"Enter a 2nd Number : \"))\n",
    "    total = num_one + num_two\n",
    "    print(\"Sum of Two Numbers :\",total)\n",
    "add_two_numbers()"
   ]
  },
  {
   "cell_type": "code",
   "execution_count": 13,
   "id": "8ae53ae2",
   "metadata": {},
   "outputs": [],
   "source": [
    "def generate_name ():\n",
    "    first_name = input(\"Enter a name : \")\n",
    "    last_name = input(\"Enter a name : \")\n",
    "    space = ' '\n",
    "    full_name = first_name + space + last_name\n",
    "    print(full_name)"
   ]
  },
  {
   "cell_type": "code",
   "execution_count": 14,
   "id": "270cc7b8",
   "metadata": {},
   "outputs": [
    {
     "name": "stdout",
     "output_type": "stream",
     "text": [
      "Enter a name : praveen\n",
      "Enter a name : Raj\n",
      "praveen Raj\n"
     ]
    }
   ],
   "source": [
    "generate_name()"
   ]
  },
  {
   "cell_type": "markdown",
   "id": "09d1c950",
   "metadata": {},
   "source": [
    "## Function Returning a Value - Part 1\n",
    "Function can also return values, if a function does not have a return statement, the value of the function is None. Let us rewrite the above functions using return. From now on, we get a value from a function when we call the function and print it."
   ]
  },
  {
   "cell_type": "code",
   "execution_count": 4,
   "id": "3f1ff0da",
   "metadata": {},
   "outputs": [
    {
     "name": "stdout",
     "output_type": "stream",
     "text": [
      "Data Scientist\n",
      "5\n"
     ]
    }
   ],
   "source": [
    "def generate_full_name ():\n",
    "    first_name = 'Data'\n",
    "    last_name = 'Scientist'\n",
    "    space = ' '\n",
    "    full_name = first_name + space + last_name\n",
    "    return full_name\n",
    "print(generate_full_name())\n",
    "\n",
    "def add_two_numbers ():\n",
    "    num_one = 2\n",
    "    num_two = 3\n",
    "    total = num_one + num_two\n",
    "    return total\n",
    "print(add_two_numbers())"
   ]
  },
  {
   "cell_type": "code",
   "execution_count": 18,
   "id": "2230c385",
   "metadata": {},
   "outputs": [],
   "source": [
    "def generate_name ():\n",
    "    first_name = input(\"Enter a name : \")\n",
    "    last_name = input(\"Enter a name : \")\n",
    "    space = ' '\n",
    "    full_name = first_name + space + last_name\n",
    "    return full_name"
   ]
  },
  {
   "cell_type": "code",
   "execution_count": 21,
   "id": "cfaa6b92",
   "metadata": {},
   "outputs": [
    {
     "name": "stdout",
     "output_type": "stream",
     "text": [
      "Enter a name : Praveen\n",
      "Enter a name : Raj\n"
     ]
    },
    {
     "data": {
      "text/plain": [
       "'Praveen Raj'"
      ]
     },
     "execution_count": 21,
     "metadata": {},
     "output_type": "execute_result"
    },
    {
     "name": "stdout",
     "output_type": "stream",
     "text": [
      "------------------------------------------------------------\n",
      "Enter a name : Praveen\n",
      "Enter a name : Raj\n",
      "Praveen Raj\n"
     ]
    }
   ],
   "source": [
    "generate_name() \n",
    "print(\"--\"*20)\n",
    "print(generate_name()) "
   ]
  },
  {
   "cell_type": "markdown",
   "id": "5528805e",
   "metadata": {},
   "source": [
    "## Function with Parameters\n",
    "In a function we can pass different data types(number, string, boolean, list, tuple, dictionary or set) as a parameter\n",
    "\n",
    "Single Parameter: If our function takes a parameter we should call our function with an argument"
   ]
  },
  {
   "cell_type": "code",
   "execution_count": 24,
   "id": "e996e218",
   "metadata": {},
   "outputs": [
    {
     "name": "stdout",
     "output_type": "stream",
     "text": [
      "Praveen Raj, welcome to Python for Everyone!\n",
      "100\n",
      "25\n",
      "314.0\n"
     ]
    }
   ],
   "source": [
    "def greetings (name): # String\n",
    "    message = name + ', welcome to Python for Everyone!'\n",
    "    return message\n",
    "\n",
    "print(greetings('Praveen Raj'))\n",
    "\n",
    "def add_ten(num): # Integer\n",
    "    ten = 10\n",
    "    return num + ten\n",
    "print(add_ten(90))\n",
    "\n",
    "def square_number(x): # integer\n",
    "    return x * x\n",
    "print(square_number(5))\n",
    "\n",
    "def area_of_circle (r):\n",
    "    PI = 3.14\n",
    "    area = PI * r ** 2\n",
    "    return area\n",
    "print(area_of_circle(10))"
   ]
  },
  {
   "cell_type": "code",
   "execution_count": 26,
   "id": "aad9c0f1",
   "metadata": {},
   "outputs": [],
   "source": [
    "def sum_of_numbers(n):\n",
    "    total = 0\n",
    "    for i in range(n+1):\n",
    "        total+=i\n",
    "    print(total)"
   ]
  },
  {
   "cell_type": "code",
   "execution_count": 28,
   "id": "ed3b4117",
   "metadata": {},
   "outputs": [
    {
     "name": "stdout",
     "output_type": "stream",
     "text": [
      "6\n"
     ]
    }
   ],
   "source": [
    "sum_of_numbers(3)"
   ]
  },
  {
   "cell_type": "markdown",
   "id": "ef54579d",
   "metadata": {},
   "source": [
    " **Two Parameter:**\n",
    " \n",
    " A function may or may not have a parameter or parameters. A function may also have two or more parameters. If our function takes parameters we should call it with arguments. Let us check a function with two parameters:"
   ]
  },
  {
   "cell_type": "code",
   "execution_count": 29,
   "id": "bf5cad5e",
   "metadata": {},
   "outputs": [
    {
     "name": "stdout",
     "output_type": "stream",
     "text": [
      "Full Name:  Data Scientist\n",
      "Sum of two numbers:  10\n",
      "Age:  25\n",
      "Weight of an object in Newtons:  981.0 N\n"
     ]
    }
   ],
   "source": [
    "def generate_full_name (first_name, last_name):\n",
    "    space = ' '\n",
    "    full_name = first_name + space + last_name\n",
    "    return full_name\n",
    "print('Full Name: ', generate_full_name('Data','Scientist'))\n",
    "\n",
    "def sum_two_numbers (num_one, num_two):\n",
    "    sum = num_one + num_two\n",
    "    return sum\n",
    "print('Sum of two numbers: ', sum_two_numbers(1, 9))\n",
    "\n",
    "def calculate_age (current_year, birth_year):\n",
    "    age = current_year - birth_year\n",
    "    return age;\n",
    "\n",
    "print('Age: ', calculate_age(2023, 1998))\n",
    "\n",
    "def weight_of_object (mass, gravity):\n",
    "    weight = str(mass * gravity)+ ' N' # the value has to be changed to a string first\n",
    "    return weight\n",
    "print('Weight of an object in Newtons: ', weight_of_object(100, 9.81))"
   ]
  },
  {
   "cell_type": "markdown",
   "id": "c38396da",
   "metadata": {},
   "source": [
    "### Passing Arguments with Key and Value\n",
    "If we pass the arguments with key and value, the order of the arguments does not matter."
   ]
  },
  {
   "cell_type": "code",
   "execution_count": 30,
   "id": "f58147e5",
   "metadata": {},
   "outputs": [
    {
     "name": "stdout",
     "output_type": "stream",
     "text": [
      "Data Scientist\n",
      "None\n",
      "5\n",
      "None\n"
     ]
    }
   ],
   "source": [
    "def print_fullname(firstname, lastname):\n",
    "    space = ' '\n",
    "    full_name = firstname  + space + lastname\n",
    "    print(full_name)\n",
    "print(print_fullname(firstname = 'Data', lastname = 'Scientist'))\n",
    "\n",
    "def add_two_numbers (num1, num2):\n",
    "    total = num1 + num2\n",
    "    print(total)\n",
    "print(add_two_numbers(num2 = 3, num1 = 2)) # Order does not matter"
   ]
  },
  {
   "cell_type": "markdown",
   "id": "7af2a719",
   "metadata": {},
   "source": [
    "## Function Returning a Value - Part 2\n",
    "If we do not return a value with a function, then our function is returning None by default. To return a value with a function we use the keyword return followed by the variable we are returning. We can return any kind of data types from a function."
   ]
  },
  {
   "cell_type": "markdown",
   "id": "6b529524",
   "metadata": {},
   "source": [
    "###  Returning a string: "
   ]
  },
  {
   "cell_type": "code",
   "execution_count": 31,
   "id": "68e90f6f",
   "metadata": {},
   "outputs": [
    {
     "data": {
      "text/plain": [
       "'Praveen Raj'"
      ]
     },
     "execution_count": 31,
     "metadata": {},
     "output_type": "execute_result"
    },
    {
     "data": {
      "text/plain": [
       "'Data Scientist'"
      ]
     },
     "execution_count": 31,
     "metadata": {},
     "output_type": "execute_result"
    }
   ],
   "source": [
    "def print_name(firstname):\n",
    "    return firstname\n",
    "print_name('Praveen Raj') \n",
    "\n",
    "def print_full_name(firstname, lastname):\n",
    "    space = ' '\n",
    "    full_name = firstname  + space + lastname\n",
    "    return full_name\n",
    "print_full_name(firstname='Data', lastname='Scientist')"
   ]
  },
  {
   "cell_type": "markdown",
   "id": "fcf54509",
   "metadata": {},
   "source": [
    "### Returning a number:"
   ]
  },
  {
   "cell_type": "code",
   "execution_count": 32,
   "id": "34377e48",
   "metadata": {},
   "outputs": [
    {
     "name": "stdout",
     "output_type": "stream",
     "text": [
      "5\n",
      "Age:  21\n"
     ]
    }
   ],
   "source": [
    "def add_two_numbers (num1, num2):\n",
    "    total = num1 + num2\n",
    "    return total\n",
    "print(add_two_numbers(2, 3))\n",
    "\n",
    "def calculate_age (current_year, birth_year):\n",
    "    age = current_year - birth_year\n",
    "    return age;\n",
    "print('Age: ', calculate_age(2019, 1998))"
   ]
  },
  {
   "cell_type": "code",
   "execution_count": 33,
   "id": "7ef6aa34",
   "metadata": {},
   "outputs": [
    {
     "data": {
      "text/plain": [
       "8"
      ]
     },
     "execution_count": 33,
     "metadata": {},
     "output_type": "execute_result"
    }
   ],
   "source": [
    "add_two_numbers(3,5)"
   ]
  },
  {
   "cell_type": "markdown",
   "id": "c50d3fa9",
   "metadata": {},
   "source": [
    "### Returning a boolean:"
   ]
  },
  {
   "cell_type": "code",
   "execution_count": 34,
   "id": "a7a9192f",
   "metadata": {},
   "outputs": [
    {
     "name": "stdout",
     "output_type": "stream",
     "text": [
      "even\n",
      "True\n",
      "False\n"
     ]
    }
   ],
   "source": [
    "def is_even (n):\n",
    "    if n % 2 == 0:\n",
    "        print('even')\n",
    "        return True    # return stops further execution of the function, similar to break \n",
    "    return False\n",
    "print(is_even(10)) # True1\n",
    "print(is_even(7)) # False"
   ]
  },
  {
   "cell_type": "code",
   "execution_count": 35,
   "id": "4fb9a075",
   "metadata": {},
   "outputs": [
    {
     "name": "stdout",
     "output_type": "stream",
     "text": [
      "even\n"
     ]
    },
    {
     "data": {
      "text/plain": [
       "True"
      ]
     },
     "execution_count": 35,
     "metadata": {},
     "output_type": "execute_result"
    }
   ],
   "source": [
    "is_even(44)"
   ]
  },
  {
   "cell_type": "markdown",
   "id": "999027d1",
   "metadata": {},
   "source": [
    "### Returning a list"
   ]
  },
  {
   "cell_type": "code",
   "execution_count": 38,
   "id": "ac0f1ce8",
   "metadata": {},
   "outputs": [],
   "source": [
    "def find_even_numbers(n):\n",
    "    evens = []\n",
    "    for i in range(1,n + 1):\n",
    "        if i % 2 == 0:\n",
    "            evens.append(i)\n",
    "    return evens"
   ]
  },
  {
   "cell_type": "code",
   "execution_count": 39,
   "id": "adc74c43",
   "metadata": {},
   "outputs": [
    {
     "name": "stdout",
     "output_type": "stream",
     "text": [
      "[2, 4, 6, 8, 10]\n",
      "[2, 4, 6, 8, 10, 12, 14, 16, 18, 20]\n"
     ]
    }
   ],
   "source": [
    "print(find_even_numbers(10))\n",
    "print(find_even_numbers(20))"
   ]
  },
  {
   "cell_type": "markdown",
   "id": "438fd0d3",
   "metadata": {},
   "source": [
    "## Function with Default Parameters\n",
    "Sometimes we pass default values to parameters, when we invoke the function. If we do not pass arguments when calling the function, their default values will be used."
   ]
  },
  {
   "cell_type": "code",
   "execution_count": 40,
   "id": "163ce6e1",
   "metadata": {},
   "outputs": [
    {
     "name": "stdout",
     "output_type": "stream",
     "text": [
      "Hi!, welcome to Python for Everyone!\n",
      "Praveen Raj, welcome to Python for Everyone!\n",
      "Data Scientist\n",
      "David Smith\n",
      "Age:  200\n",
      "Weight of an object in Newtons:  981.0 N\n",
      "Weight of an object in Newtons:  162.0 N\n"
     ]
    }
   ],
   "source": [
    "def greetings (name = 'Hi!'):\n",
    "    message = name + ', welcome to Python for Everyone!'\n",
    "    return message\n",
    "print(greetings())\n",
    "print(greetings('Praveen Raj'))\n",
    "\n",
    "def generate_full_name (first_name = 'Data', last_name = 'Scientist'):\n",
    "    space = ' '\n",
    "    full_name = first_name + space + last_name\n",
    "    return full_name\n",
    "\n",
    "print(generate_full_name())\n",
    "print(generate_full_name('David','Smith'))\n",
    "\n",
    "def calculate_age (birth_year,current_year = 2021):\n",
    "    age = current_year - birth_year\n",
    "    return age;\n",
    "print('Age: ', calculate_age(1821))\n",
    "\n",
    "def weight_of_object (mass, gravity = 9.81):\n",
    "    weight = str(mass * gravity)+ ' N' # the value has to be changed to string first\n",
    "    return weight\n",
    "print('Weight of an object in Newtons: ', weight_of_object(100)) # 9.81 - average gravity on Earth's surface\n",
    "print('Weight of an object in Newtons: ', weight_of_object(100, 1.62)) # gravity on the surface of the Moon"
   ]
  },
  {
   "cell_type": "markdown",
   "id": "13572f5e",
   "metadata": {},
   "source": [
    "## Arbitrary Number of Arguments\n",
    "If we do not know the number of arguments we pass to our function, we can create a function which can take arbitrary number of arguments by adding * before the parameter name."
   ]
  },
  {
   "cell_type": "code",
   "execution_count": 41,
   "id": "4104d0fb",
   "metadata": {},
   "outputs": [
    {
     "name": "stdout",
     "output_type": "stream",
     "text": [
      "10\n"
     ]
    }
   ],
   "source": [
    "def sum_all_nums(*nums):\n",
    "    total = 0\n",
    "    for num in nums:\n",
    "        total += num     # same as total = total + num \n",
    "    return total\n",
    "print(sum_all_nums(2, 3, 5)) # 10"
   ]
  },
  {
   "cell_type": "markdown",
   "id": "82da1f7e",
   "metadata": {},
   "source": [
    "## Default and Arbitrary Number of Parameters in Functions"
   ]
  },
  {
   "cell_type": "code",
   "execution_count": 14,
   "id": "4aabe10c",
   "metadata": {},
   "outputs": [
    {
     "name": "stdout",
     "output_type": "stream",
     "text": [
      "Team-1\n",
      "['Python', 'SQL', 'Power-BI', 'ML', 'DL']\n"
     ]
    }
   ],
   "source": [
    "def generate_groups (team,*args):\n",
    "    print(team)\n",
    "    elite = []\n",
    "    for i in args:\n",
    "        elite.append(i)\n",
    "    return elite\n",
    "print(generate_groups('Team-1','Python','SQL','Power-BI','ML',\"DL\"))"
   ]
  },
  {
   "cell_type": "markdown",
   "id": "23e58b85",
   "metadata": {},
   "source": [
    "### Function as a Parameter of Another Function"
   ]
  },
  {
   "cell_type": "markdown",
   "id": "26d3279a",
   "metadata": {},
   "source": [
    "# <font color='red'> Important function </font> "
   ]
  },
  {
   "cell_type": "code",
   "execution_count": 2,
   "id": "a76af049",
   "metadata": {},
   "outputs": [],
   "source": [
    "def do_something(f, x): # function and relevant single parameter \n",
    "    return f(x)"
   ]
  },
  {
   "cell_type": "code",
   "execution_count": 3,
   "id": "cff996a5",
   "metadata": {},
   "outputs": [
    {
     "name": "stdout",
     "output_type": "stream",
     "text": [
      "64\n"
     ]
    }
   ],
   "source": [
    "#You can pass functions around as parameters\n",
    "def square_number (n):\n",
    "    return n * n\n",
    "\n",
    "print(do_something(square_number, 8)) # 25"
   ]
  },
  {
   "cell_type": "markdown",
   "id": "9d66240c",
   "metadata": {},
   "source": [
    "### Know the function and pass through it"
   ]
  },
  {
   "cell_type": "code",
   "execution_count": 67,
   "id": "bab7bde2",
   "metadata": {},
   "outputs": [
    {
     "data": {
      "text/plain": [
       "'Nani, welcome to Python for Everyone!'"
      ]
     },
     "execution_count": 67,
     "metadata": {},
     "output_type": "execute_result"
    }
   ],
   "source": [
    "do_something(greetings,'Nani')"
   ]
  },
  {
   "cell_type": "code",
   "execution_count": 68,
   "id": "7d5a6a1d",
   "metadata": {},
   "outputs": [
    {
     "data": {
      "text/plain": [
       "[2, 4, 6, 8, 10, 12, 14, 16, 18, 20]"
      ]
     },
     "execution_count": 68,
     "metadata": {},
     "output_type": "execute_result"
    }
   ],
   "source": [
    "do_something(find_even_numbers,20)"
   ]
  },
  {
   "cell_type": "code",
   "execution_count": 70,
   "id": "2606e4ff",
   "metadata": {},
   "outputs": [
    {
     "name": "stdout",
     "output_type": "stream",
     "text": [
      "15\n"
     ]
    },
    {
     "data": {
      "text/plain": [
       "'Praveen Raj Scientist'"
      ]
     },
     "execution_count": 70,
     "metadata": {},
     "output_type": "execute_result"
    },
    {
     "data": {
      "text/plain": [
       "30.370393999999997"
      ]
     },
     "execution_count": 70,
     "metadata": {},
     "output_type": "execute_result"
    }
   ],
   "source": [
    "do_something(sum_of_numbers,5)\n",
    "do_something(generate_full_name,'Praveen Raj')\n",
    "do_something(area_of_circle,3.11)"
   ]
  },
  {
   "cell_type": "markdown",
   "id": "398020c5",
   "metadata": {},
   "source": [
    "### print vs return"
   ]
  },
  {
   "cell_type": "code",
   "execution_count": 22,
   "id": "8d0b6360",
   "metadata": {},
   "outputs": [],
   "source": [
    "def monthly_emi(p, R, n):\n",
    "    \"\"\"p = Principal or Loan Amount\n",
    "    R = Interest Rate Per annum\n",
    "    n = Number of monthly installments\"\"\"\n",
    "    # Calculating interest rate per month\n",
    "    r = R/(12*100)\n",
    "    # Calculating Equated Monthly Installment (EMI)\n",
    "    emi = p * r * ((1+r)**n)/((1+r)**n - 1)\n",
    "    \n",
    "    return round(emi, 2)"
   ]
  },
  {
   "cell_type": "code",
   "execution_count": 10,
   "id": "d5107ed2",
   "metadata": {},
   "outputs": [
    {
     "data": {
      "text/plain": [
       "7119.72"
      ]
     },
     "execution_count": 10,
     "metadata": {},
     "output_type": "execute_result"
    }
   ],
   "source": [
    "monthly_emi(100000,10,15) # function with return"
   ]
  },
  {
   "cell_type": "code",
   "execution_count": 11,
   "id": "ff1c4b46",
   "metadata": {},
   "outputs": [
    {
     "name": "stdout",
     "output_type": "stream",
     "text": [
      "7119.72\n"
     ]
    }
   ],
   "source": [
    "emi = monthly_emi(100000,10,15)\n",
    "print(emi)"
   ]
  },
  {
   "cell_type": "code",
   "execution_count": 12,
   "id": "14c4a02e",
   "metadata": {},
   "outputs": [],
   "source": [
    "def monthly_emi(p, R, n):\n",
    "    \"\"\"p = Principal or Loan Amount\n",
    "    R = Interest Rate Per annum\n",
    "    n = Number of monthly installments\"\"\"\n",
    "    # Calculating interest rate per month\n",
    "    r = R/(12*100)\n",
    "    # Calculating Equated Monthly Installment (EMI)\n",
    "    emi = p * r * ((1+r)**n)/((1+r)**n - 1)\n",
    "    \n",
    "    print(round(emi, 2))"
   ]
  },
  {
   "cell_type": "code",
   "execution_count": 13,
   "id": "92a49402",
   "metadata": {},
   "outputs": [
    {
     "name": "stdout",
     "output_type": "stream",
     "text": [
      "7119.72\n"
     ]
    }
   ],
   "source": [
    "monthly_emi(100000,10,15) # function with print"
   ]
  },
  {
   "cell_type": "code",
   "execution_count": 14,
   "id": "d1b8cee9",
   "metadata": {},
   "outputs": [
    {
     "name": "stdout",
     "output_type": "stream",
     "text": [
      "7119.72\n",
      "None\n"
     ]
    }
   ],
   "source": [
    "emi = monthly_emi(100000,10,15)\n",
    "print(emi)"
   ]
  },
  {
   "cell_type": "markdown",
   "id": "44e9cef3",
   "metadata": {},
   "source": [
    "Use `return`, when you want to capture the function outcome and use later."
   ]
  },
  {
   "cell_type": "markdown",
   "id": "eec0ff90",
   "metadata": {},
   "source": [
    "### Write a function to calculate BMI"
   ]
  },
  {
   "cell_type": "code",
   "execution_count": 15,
   "id": "77a1cb5f",
   "metadata": {},
   "outputs": [],
   "source": [
    "def BMI_calc(h,w):\n",
    "    \"\"\"h - height in meters\n",
    "        w - weight in Kgs\"\"\"\n",
    "    BMI = round(w/(h**2),1)\n",
    "    return BMI"
   ]
  },
  {
   "cell_type": "code",
   "execution_count": 17,
   "id": "58a67653",
   "metadata": {},
   "outputs": [
    {
     "name": "stdout",
     "output_type": "stream",
     "text": [
      "Enter your height in meters: 1.82\n",
      "Enter your weight in kg: 69\n",
      "Your BMI is:  20.83\n",
      "You are healthy.\n"
     ]
    }
   ],
   "source": [
    "\n",
    "def bodymassindex(height, weight):\n",
    "    return round((weight / height**2),2)\n",
    "\n",
    "\n",
    "h = float(input(\"Enter your height in meters: \"))\n",
    "w = float(input(\"Enter your weight in kg: \"))\n",
    "\n",
    "BMI = bodymassindex(h, w)\n",
    "print(\"Your BMI is: \", BMI)\n",
    "\n",
    "if BMI <= 18.4:\n",
    "    print(\"You are underweight.\")\n",
    "elif BMI <= 24.9:\n",
    "    print(\"You are healthy.\")\n",
    "elif BMI <= 29.9:\n",
    "    print(\"You are over weight.\")\n",
    "elif BMI <= 34.9:\n",
    "    print(\"You are severely over weight.\")\n",
    "elif BMI <= 39.9:\n",
    "    print(\"You are obese.\")\n",
    "else:\n",
    "    print(\"You are severely obese.\")\n",
    "\n"
   ]
  },
  {
   "cell_type": "code",
   "execution_count": 18,
   "id": "688959fb",
   "metadata": {},
   "outputs": [
    {
     "data": {
      "text/plain": [
       "21.91"
      ]
     },
     "execution_count": 18,
     "metadata": {},
     "output_type": "execute_result"
    }
   ],
   "source": [
    "# call the fucntion\n",
    "bodymassindex(1.85,75)"
   ]
  },
  {
   "cell_type": "markdown",
   "id": "d1750e5b",
   "metadata": {},
   "source": [
    "### Write a function for Discount calculator\n",
    "\n",
    "If the shirt with original price as Rs 1999 is 22% off, Print Payable amount and Saved amount."
   ]
  },
  {
   "cell_type": "code",
   "execution_count": 20,
   "id": "8aa5fe33",
   "metadata": {},
   "outputs": [],
   "source": [
    "def discount_calc(mrp, disc):\n",
    "    \"\"\"mrp - in Rupees\n",
    "        disc - in percentage\"\"\"\n",
    "    disc_amt = mrp*(disc/100)\n",
    "    payable_amt = mrp-disc_amt\n",
    "    print(f'Amount payable: {payable_amt}')\n",
    "    print(f'Savings: {disc_amt}')    "
   ]
  },
  {
   "cell_type": "code",
   "execution_count": 20,
   "id": "a7068c6b",
   "metadata": {},
   "outputs": [
    {
     "name": "stdout",
     "output_type": "stream",
     "text": [
      "Amount payable: 1559.22\n",
      "Savings: 439.78000000000003\n"
     ]
    }
   ],
   "source": [
    "discount_calc(1999,22)"
   ]
  },
  {
   "cell_type": "code",
   "execution_count": 22,
   "id": "1990daf1",
   "metadata": {},
   "outputs": [],
   "source": [
    "## Function without parameters\n",
    "\n",
    "def discount_calc():\n",
    "    \"\"\"mrp - in Rupees\n",
    "        disc - in percentage\"\"\"\n",
    "    mrp = float(input('Enter MRP: '))\n",
    "    disc = float(input('Enter discount %: '))\n",
    "    disc_amt = mrp*(disc/100)\n",
    "    payable_amt = mrp-disc_amt\n",
    "    print(f'Amount payable: {payable_amt}')\n",
    "    print(f'Savings: {disc_amt}') "
   ]
  },
  {
   "cell_type": "code",
   "execution_count": 23,
   "id": "7b247239",
   "metadata": {},
   "outputs": [
    {
     "name": "stdout",
     "output_type": "stream",
     "text": [
      "Enter MRP: 2999\n",
      "Enter discount %: 12\n",
      "Amount payable: 2639.12\n",
      "Savings: 359.88\n"
     ]
    }
   ],
   "source": [
    "discount_calc()"
   ]
  },
  {
   "cell_type": "markdown",
   "id": "a3484942",
   "metadata": {},
   "source": [
    "### Function with optional parameter(s)"
   ]
  },
  {
   "cell_type": "code",
   "execution_count": 24,
   "id": "02d9f92f",
   "metadata": {},
   "outputs": [],
   "source": [
    "def discount_calc(mrp, disc = 5, isMember = False):\n",
    "    \"\"\"mrp - in Rupees\n",
    "        disc - in percentage\"\"\"\n",
    "    if(isMember):\n",
    "        disc = disc + 7\n",
    "    disc_amt = mrp*(disc/100)\n",
    "    payable_amt = mrp-disc_amt\n",
    "    print(f'Amount payable: {payable_amt}')\n",
    "    print(f'Savings: {disc_amt}')"
   ]
  },
  {
   "cell_type": "code",
   "execution_count": 25,
   "id": "dc7233be",
   "metadata": {},
   "outputs": [
    {
     "name": "stdout",
     "output_type": "stream",
     "text": [
      "Amount payable: 1519.05\n",
      "Savings: 79.95\n"
     ]
    }
   ],
   "source": [
    "discount_calc(1599)"
   ]
  },
  {
   "cell_type": "code",
   "execution_count": 26,
   "id": "7fe993ab",
   "metadata": {},
   "outputs": [
    {
     "name": "stdout",
     "output_type": "stream",
     "text": [
      "Amount payable: 1407.12\n",
      "Savings: 191.88\n"
     ]
    }
   ],
   "source": [
    "discount_calc(1599, isMember=True)"
   ]
  },
  {
   "cell_type": "markdown",
   "id": "b7e0e10e",
   "metadata": {},
   "source": [
    "#### Accessing the Docstring"
   ]
  },
  {
   "cell_type": "code",
   "execution_count": 27,
   "id": "3ed3b6d5",
   "metadata": {},
   "outputs": [
    {
     "name": "stdout",
     "output_type": "stream",
     "text": [
      "h - height in meters\n",
      "        w - weight in Kgs\n"
     ]
    }
   ],
   "source": [
    "print(BMI_calc.__doc__)"
   ]
  },
  {
   "cell_type": "code",
   "execution_count": 28,
   "id": "4397d37f",
   "metadata": {},
   "outputs": [
    {
     "name": "stdout",
     "output_type": "stream",
     "text": [
      "p = Principal or Loan Amount\n",
      "    R = Interest Rate Per annum\n",
      "    n = Number of monthly installments\n"
     ]
    }
   ],
   "source": [
    "print(monthly_emi.__doc__)"
   ]
  },
  {
   "cell_type": "code",
   "execution_count": 29,
   "id": "d7acc805",
   "metadata": {},
   "outputs": [
    {
     "name": "stdout",
     "output_type": "stream",
     "text": [
      "Round a number to a given precision in decimal digits.\n",
      "\n",
      "The return value is an integer if ndigits is omitted or None.  Otherwise\n",
      "the return value has the same type as the number.  ndigits may be negative.\n"
     ]
    }
   ],
   "source": [
    "print(round.__doc__)"
   ]
  },
  {
   "cell_type": "code",
   "execution_count": 30,
   "id": "54d61c80",
   "metadata": {},
   "outputs": [
    {
     "name": "stdout",
     "output_type": "stream",
     "text": [
      "print(value, ..., sep=' ', end='\\n', file=sys.stdout, flush=False)\n",
      "\n",
      "Prints the values to a stream, or to sys.stdout by default.\n",
      "Optional keyword arguments:\n",
      "file:  a file-like object (stream); defaults to the current sys.stdout.\n",
      "sep:   string inserted between values, default a space.\n",
      "end:   string appended after the last value, default a newline.\n",
      "flush: whether to forcibly flush the stream.\n"
     ]
    }
   ],
   "source": [
    "print(print.__doc__)"
   ]
  },
  {
   "cell_type": "markdown",
   "id": "7613da4f",
   "metadata": {},
   "source": [
    "## Scope of variables\n",
    "\n",
    "* Scope or lifetime of a variable is the portion of a program where the variable is recognized.\n",
    "* Parameters and variables defined inside a function is not visible from outside. Hence, they have a local scope."
   ]
  },
  {
   "cell_type": "code",
   "execution_count": 31,
   "id": "11f01734",
   "metadata": {},
   "outputs": [],
   "source": [
    "def discount_calc(mrp, disc = 5, isMember = False):\n",
    "    \"\"\"mrp - in Rupees\n",
    "        disc - in percentage\"\"\"\n",
    "    if(isMember):\n",
    "        disc = disc + 7\n",
    "    disc_amt = mrp*(disc/100)\n",
    "    payable_amt = mrp-disc_amt\n",
    "    print(f'Amount payable: {payable_amt}')\n",
    "    print(f'Savings: {disc_amt}') "
   ]
  },
  {
   "cell_type": "code",
   "execution_count": 32,
   "id": "1b983fbe",
   "metadata": {},
   "outputs": [
    {
     "name": "stdout",
     "output_type": "stream",
     "text": [
      "Amount payable: 1407.12\n",
      "Savings: 191.88\n"
     ]
    }
   ],
   "source": [
    "discount_calc(1599, isMember=True)"
   ]
  },
  {
   "cell_type": "code",
   "execution_count": 33,
   "id": "3dcb2bdf",
   "metadata": {},
   "outputs": [
    {
     "ename": "NameError",
     "evalue": "name 'disc_amt' is not defined",
     "output_type": "error",
     "traceback": [
      "\u001b[1;31m---------------------------------------------------------------------------\u001b[0m",
      "\u001b[1;31mNameError\u001b[0m                                 Traceback (most recent call last)",
      "Input \u001b[1;32mIn [33]\u001b[0m, in \u001b[0;36m<cell line: 1>\u001b[1;34m()\u001b[0m\n\u001b[1;32m----> 1\u001b[0m \u001b[38;5;28mprint\u001b[39m(\u001b[43mdisc_amt\u001b[49m,payable_amt)\n",
      "\u001b[1;31mNameError\u001b[0m: name 'disc_amt' is not defined"
     ]
    }
   ],
   "source": [
    "print(disc_amt,payable_amt)"
   ]
  },
  {
   "cell_type": "code",
   "execution_count": 34,
   "id": "17eef217",
   "metadata": {},
   "outputs": [],
   "source": [
    "disc_amt,payable_amt = 0,0\n",
    "\n",
    "\n",
    "def discount_calc(mrp, disc = 5, isMember = False):\n",
    "    \"\"\"mrp - in Rupees\n",
    "        disc - in percentage\"\"\"\n",
    "    if(isMember):\n",
    "        disc = disc + 7\n",
    "    disc_amt = mrp*(disc/100)\n",
    "    payable_amt = mrp-disc_amt\n",
    "    print(f'Amount payable: {payable_amt}')\n",
    "    print(f'Savings: {disc_amt}') "
   ]
  },
  {
   "cell_type": "code",
   "execution_count": 35,
   "id": "b9f61d59",
   "metadata": {},
   "outputs": [
    {
     "name": "stdout",
     "output_type": "stream",
     "text": [
      "Amount payable: 1407.12\n",
      "Savings: 191.88\n"
     ]
    }
   ],
   "source": [
    "discount_calc(1599, isMember=True)"
   ]
  },
  {
   "cell_type": "code",
   "execution_count": 36,
   "id": "61e5e846",
   "metadata": {},
   "outputs": [
    {
     "name": "stdout",
     "output_type": "stream",
     "text": [
      "0 0\n"
     ]
    }
   ],
   "source": [
    "print(disc_amt,payable_amt)"
   ]
  },
  {
   "cell_type": "code",
   "execution_count": 94,
   "id": "8a630e39",
   "metadata": {},
   "outputs": [],
   "source": [
    "class A:\n",
    "    def __init__(self,x):\n",
    "        self.x = x\n",
    "    def __add__(self,other):\n",
    "          return A(self.x+other.x)"
   ]
  },
  {
   "cell_type": "code",
   "execution_count": 65,
   "id": "04f3f4d0",
   "metadata": {},
   "outputs": [],
   "source": [
    "a = A(10)"
   ]
  },
  {
   "cell_type": "code",
   "execution_count": 73,
   "id": "8cd63ed7",
   "metadata": {},
   "outputs": [],
   "source": [
    "b = A(20)"
   ]
  },
  {
   "cell_type": "code",
   "execution_count": 72,
   "id": "7b13d7c3",
   "metadata": {},
   "outputs": [
    {
     "name": "stdout",
     "output_type": "stream",
     "text": [
      "<__main__.A object at 0x00000231DAD5B700>\n"
     ]
    }
   ],
   "source": [
    "print(a)"
   ]
  },
  {
   "cell_type": "code",
   "execution_count": 69,
   "id": "c9861037",
   "metadata": {},
   "outputs": [],
   "source": [
    "c = a+b"
   ]
  },
  {
   "cell_type": "code",
   "execution_count": 71,
   "id": "aa85ce09",
   "metadata": {},
   "outputs": [
    {
     "name": "stdout",
     "output_type": "stream",
     "text": [
      "10\n"
     ]
    }
   ],
   "source": [
    "print(c)"
   ]
  },
  {
   "cell_type": "markdown",
   "id": "45e14e6d",
   "metadata": {},
   "source": [
    "### Write a function to compute Income Tax\n",
    "\n",
    "**Print:**\n",
    "\n",
    "* Which tax regime choosen\n",
    "* Gross salary\n",
    "* Tax percentage\n",
    "* Total tax payable\n",
    "* Salary after tax\n"
   ]
  },
  {
   "attachments": {
    "image.png": {
     "image/png": "[encoded data removed]"
    }
   },
   "cell_type": "markdown",
   "id": "c65d23c8",
   "metadata": {},
   "source": [
    "![image.png](attachment:image.png)"
   ]
  },
  {
   "cell_type": "code",
   "execution_count": 1,
   "id": "c8e45007",
   "metadata": {
    "ExecuteTime": {
     "end_time": "2022-12-01T10:11:28.696443Z",
     "start_time": "2022-12-01T10:11:28.678459Z"
    }
   },
   "outputs": [],
   "source": [
    "def incometax_calc():\n",
    "    tax_regime = input(\"Which Tax regime you want to choose (Old/New): \")\n",
    "    salary = float(input(\"Enter your Salary: \"))\n",
    "    \n",
    "    if(tax_regime.lower() == 'new'):\n",
    "        print(f'Selected Tax regime: {tax_regime.upper()}')\n",
    "        print(f'Salary entered: {salary}')\n",
    "        if(salary <= 250000):\n",
    "            print('Tax rate is Nil', 'Tax payable is 0', sep = '\\n')\n",
    "        elif(salary > 250000 and salary <= 500000):\n",
    "            tax_payable = salary*0.05\n",
    "            print('Tax rate is 5%')\n",
    "            print('Tax payable is:', tax_payable)\n",
    "        elif(salary > 500000 and salary <= 750000):\n",
    "            tax_payable = salary*0.1\n",
    "            print('Tax rate is 10%')\n",
    "            print('Tax payable is:', tax_payable)\n",
    "        elif(salary > 750000 and salary <= 1000000):\n",
    "            tax_payable = salary*0.15\n",
    "            print('Tax rate is 15%')\n",
    "            print('Tax payable is:', tax_payable)\n",
    "        elif(salary > 1000000 and salary <= 1250000):\n",
    "            tax_payable = salary*0.2\n",
    "            print('Tax rate is 20%')\n",
    "            print('Tax payable is:', tax_payable)\n",
    "        elif(salary > 1250000 and salary <= 1500000):\n",
    "            tax_payable = salary*0.25\n",
    "            print('Tax rate is 25%')\n",
    "            print('Tax payable is:', tax_payable)\n",
    "        elif(salary > 1500000 and salary <= 3000000):\n",
    "            tax_payable = salary*0.3\n",
    "            print('Tax rate is 30%')\n",
    "            print('Tax payable is:', tax_payable)\n",
    "    elif(tax_regime.lower() == 'old'):\n",
    "        print(f'Selected Tax regime is {tax_regime.upper()}')\n",
    "        print(f'Salary entered: {salary}')\n",
    "        if(salary <= 250000):\n",
    "            print('Tax rate is Nil', 'Tax payable is 0', sep = '\\n')\n",
    "        elif(salary > 250000 and salary <= 500000):\n",
    "            tax_payable = salary*0.05\n",
    "            print('Tax rate is 5%')\n",
    "            print('Tax payable is:', tax_payable)\n",
    "        elif(salary > 500000 and salary <= 1000000):\n",
    "            tax_payable = salary*0.2\n",
    "            print('Tax rate is 20%')\n",
    "            print('Tax payable is:', tax_payable)\n",
    "        elif(salary > 1000000 and salary <= 3000000):\n",
    "            tax_payable = salary*0.3\n",
    "            print('Tax rate is 30%')\n",
    "            print('Tax payable is:', tax_payable)\n",
    "        \n",
    "    return tax_payable"
   ]
  },
  {
   "cell_type": "code",
   "execution_count": 2,
   "id": "c70c28cd",
   "metadata": {},
   "outputs": [
    {
     "name": "stdout",
     "output_type": "stream",
     "text": [
      "Which Tax regime you want to choose (Old/New): New\n",
      "Enter your Salary: 2000000\n",
      "Selected Tax regime: NEW\n",
      "Salary entered: 2000000.0\n",
      "Tax rate is 30%\n",
      "Tax payable is: 600000.0\n"
     ]
    }
   ],
   "source": [
    "finaltax = incometax_calc()"
   ]
  },
  {
   "cell_type": "code",
   "execution_count": 3,
   "id": "0d98ddea",
   "metadata": {},
   "outputs": [
    {
     "name": "stdout",
     "output_type": "stream",
     "text": [
      "600000.0\n"
     ]
    }
   ],
   "source": [
    "print(finaltax)"
   ]
  },
  {
   "cell_type": "code",
   "execution_count": null,
   "id": "bad48e84",
   "metadata": {},
   "outputs": [],
   "source": []
  },
  {
   "cell_type": "markdown",
   "id": "374a57fd",
   "metadata": {},
   "source": [
    "## Lambda Function (Anonymous functions)\n",
    "\n",
    "   While normal functions are defined using the `def` keyword, in Python `anonymous functions` are defined using the `lambda` keyword.\n",
    "\n",
    "Hence, anonymous functions are also called `lambda` functions.\n",
    "\n",
    "* Lambda function is defined without a name.\n",
    "\n",
    "### Syntax of Lambda Function\n",
    "\n",
    "* lambda arguments: expression\n",
    "\n",
    "Lambda functions can have any number of arguments but only one expression. The expression is evaluated and returned."
   ]
  },
  {
   "cell_type": "code",
   "execution_count": 16,
   "id": "b9506aa9",
   "metadata": {},
   "outputs": [],
   "source": [
    "def BMI_calc(h,w):\n",
    "    \"\"\"h - height in meters\n",
    "        w - weight in Kgs\"\"\"\n",
    "    BMI = round(w/(h**2),1)\n",
    "    return BMI"
   ]
  },
  {
   "cell_type": "code",
   "execution_count": 5,
   "id": "d67bb5ef",
   "metadata": {},
   "outputs": [
    {
     "data": {
      "text/plain": [
       "27.2"
      ]
     },
     "execution_count": 5,
     "metadata": {},
     "output_type": "execute_result"
    }
   ],
   "source": [
    "BMI_calc(1.8, 88)"
   ]
  },
  {
   "cell_type": "code",
   "execution_count": 6,
   "id": "d410330e",
   "metadata": {},
   "outputs": [
    {
     "data": {
      "text/plain": [
       "<function __main__.<lambda>(ht, wt)>"
      ]
     },
     "execution_count": 6,
     "metadata": {},
     "output_type": "execute_result"
    }
   ],
   "source": [
    "# create the BMI function using lambda\n",
    "\n",
    "lambda ht,wt: round(wt/(ht**2),1)"
   ]
  },
  {
   "cell_type": "code",
   "execution_count": 7,
   "id": "ddfa5634",
   "metadata": {},
   "outputs": [],
   "source": [
    "# using the lambda func\n",
    "\n",
    "bmicalc = lambda ht,wt: round(wt/(ht**2),1)"
   ]
  },
  {
   "cell_type": "code",
   "execution_count": 8,
   "id": "72509b29",
   "metadata": {},
   "outputs": [
    {
     "data": {
      "text/plain": [
       "function"
      ]
     },
     "execution_count": 8,
     "metadata": {},
     "output_type": "execute_result"
    }
   ],
   "source": [
    "type(bmicalc)"
   ]
  },
  {
   "cell_type": "code",
   "execution_count": 9,
   "id": "9b908078",
   "metadata": {},
   "outputs": [
    {
     "data": {
      "text/plain": [
       "27.2"
      ]
     },
     "execution_count": 9,
     "metadata": {},
     "output_type": "execute_result"
    }
   ],
   "source": [
    "bmicalc(1.8,88)"
   ]
  },
  {
   "cell_type": "code",
   "execution_count": 10,
   "id": "539f67f8",
   "metadata": {},
   "outputs": [],
   "source": [
    "# write a lambda func to compute (a+b)^2\n",
    "\n",
    "myfunc1  = lambda a,b: (a+b)**2"
   ]
  },
  {
   "cell_type": "code",
   "execution_count": 11,
   "id": "3df74057",
   "metadata": {},
   "outputs": [
    {
     "data": {
      "text/plain": [
       "90000"
      ]
     },
     "execution_count": 11,
     "metadata": {},
     "output_type": "execute_result"
    }
   ],
   "source": [
    "a = 100\n",
    "b = 200\n",
    "myfunc1(a,b)"
   ]
  },
  {
   "cell_type": "code",
   "execution_count": 12,
   "id": "f34d0817",
   "metadata": {},
   "outputs": [
    {
     "data": {
      "text/plain": [
       "8100"
      ]
     },
     "execution_count": 12,
     "metadata": {},
     "output_type": "execute_result"
    }
   ],
   "source": [
    "myfunc1(25,65)"
   ]
  },
  {
   "cell_type": "code",
   "execution_count": 13,
   "id": "4582fef9",
   "metadata": {},
   "outputs": [],
   "source": [
    "# write a func to compute to compute area of a circle\n",
    "myfunc2 = lambda r: 3.14*(r**2)"
   ]
  },
  {
   "cell_type": "code",
   "execution_count": 14,
   "id": "5af01c66",
   "metadata": {},
   "outputs": [
    {
     "data": {
      "text/plain": [
       "254.34"
      ]
     },
     "execution_count": 14,
     "metadata": {},
     "output_type": "execute_result"
    }
   ],
   "source": [
    "myfunc2(9)"
   ]
  },
  {
   "cell_type": "code",
   "execution_count": 15,
   "id": "68dde4b6",
   "metadata": {},
   "outputs": [],
   "source": [
    "str1 = 'Lambda functions can have any number of arguments'\n",
    "\n",
    "# extract the words of length upto 3 in capital case into a list"
   ]
  },
  {
   "cell_type": "code",
   "execution_count": 16,
   "id": "8193c7f4",
   "metadata": {},
   "outputs": [
    {
     "name": "stdout",
     "output_type": "stream",
     "text": [
      "['CAN', 'ANY', 'OF']\n"
     ]
    }
   ],
   "source": [
    "k = []\n",
    "for i in str1.upper().split():\n",
    "    if(len(i) <= 3):\n",
    "        k.append(i)\n",
    "        \n",
    "print(k)"
   ]
  },
  {
   "cell_type": "code",
   "execution_count": 17,
   "id": "4ac72be0",
   "metadata": {},
   "outputs": [
    {
     "data": {
      "text/plain": [
       "['CAN', 'ANY', 'OF']"
      ]
     },
     "execution_count": 17,
     "metadata": {},
     "output_type": "execute_result"
    }
   ],
   "source": [
    "# using List comprehension\n",
    "[i for i in str1.upper().split() if(len(i) <= 3)]"
   ]
  },
  {
   "cell_type": "code",
   "execution_count": 18,
   "id": "5b0b049b",
   "metadata": {},
   "outputs": [],
   "source": [
    "# using lambda func with list comprehension\n",
    "myfunc3 = lambda str1: [i for i in str1.upper().split() if(len(i) <= 3)]"
   ]
  },
  {
   "cell_type": "code",
   "execution_count": 19,
   "id": "8122f71b",
   "metadata": {},
   "outputs": [
    {
     "data": {
      "text/plain": [
       "['THE', 'OF', '3', 'IN', 'A']"
      ]
     },
     "execution_count": 19,
     "metadata": {},
     "output_type": "execute_result"
    }
   ],
   "source": [
    "myfunc3('extract the words of length upto 3 in capital case into a list')"
   ]
  },
  {
   "cell_type": "markdown",
   "id": "7a080481",
   "metadata": {},
   "source": [
    "## Use of Lambda Function\n",
    "\n",
    "* Use lambda functions when you require a nameless function for a short period of time.\n",
    "* Lambda functions are used along with built-in functions like filter(), map() etc.\n",
    "\n",
    "### Using with filter()\n",
    "\n",
    "The **filter()** function in Python takes in a **function** and a `list` as arguments.\n",
    "\n",
    "The function is called with all the items in the list and a new list is returned which contains items for which the function evaluates to `True.`"
   ]
  },
  {
   "cell_type": "code",
   "execution_count": 20,
   "id": "d548be64",
   "metadata": {},
   "outputs": [
    {
     "name": "stdout",
     "output_type": "stream",
     "text": [
      "[6, 12, 18, 24, 30, 36, 42, 48, 54, 60, 66, 72, 78, 84, 90, 96]\n"
     ]
    }
   ],
   "source": [
    "# find the numbers divisble by 6 between 1 to 100\n",
    "\n",
    "# regular approach\n",
    "k = []\n",
    "\n",
    "for i in range(1,101):\n",
    "    if(i%6 == 0):\n",
    "        k.append(i)\n",
    "        \n",
    "print(k)"
   ]
  },
  {
   "cell_type": "code",
   "execution_count": 21,
   "id": "449452a9",
   "metadata": {},
   "outputs": [
    {
     "data": {
      "text/plain": [
       "<filter at 0x1bcc4e24c40>"
      ]
     },
     "execution_count": 21,
     "metadata": {},
     "output_type": "execute_result"
    }
   ],
   "source": [
    "# using filter and lambda\n",
    "\n",
    "filter(lambda i: i%6==0, range(1,101))"
   ]
  },
  {
   "cell_type": "code",
   "execution_count": 22,
   "id": "9afa569b",
   "metadata": {},
   "outputs": [
    {
     "name": "stdout",
     "output_type": "stream",
     "text": [
      "[6, 12, 18, 24, 30, 36, 42, 48, 54, 60, 66, 72, 78, 84, 90, 96]\n"
     ]
    }
   ],
   "source": [
    "print(list(filter(lambda i: i%6==0, range(1,101))))"
   ]
  },
  {
   "cell_type": "code",
   "execution_count": 2,
   "id": "112c1ecf",
   "metadata": {},
   "outputs": [
    {
     "data": {
      "text/plain": [
       "[6, 12, 18, 24, 30, 36, 42, 48, 54, 60, 66, 72, 78, 84, 90, 96]"
      ]
     },
     "execution_count": 2,
     "metadata": {},
     "output_type": "execute_result"
    }
   ],
   "source": [
    "# same function with list comprehension\n",
    "[i for i in range(1,101) if(i%6==0)]\n"
   ]
  },
  {
   "cell_type": "code",
   "execution_count": 3,
   "id": "25e9d064",
   "metadata": {},
   "outputs": [],
   "source": [
    "# same function with list comprehension & lambda\n",
    "myfunc4 = lambda x: [i for i in x if(i%6==0)]"
   ]
  },
  {
   "cell_type": "code",
   "execution_count": 4,
   "id": "0c47eb01",
   "metadata": {},
   "outputs": [
    {
     "name": "stdout",
     "output_type": "stream",
     "text": [
      "[6, 12, 18, 24, 30, 36, 42, 48, 54, 60, 66, 72, 78, 84, 90, 96]\n"
     ]
    }
   ],
   "source": [
    "print(myfunc4(range(1,101)))"
   ]
  },
  {
   "cell_type": "markdown",
   "id": "dcef8c26",
   "metadata": {},
   "source": [
    "### Using with map()\n",
    "The **`map()`** function in Python takes in a **`function` and a `list`** as arguments.\n",
    "\n",
    "*The function is called with all the items in the list and a object is returned (can be converted into list) which contains items returned by that function expression for each item.*"
   ]
  },
  {
   "cell_type": "code",
   "execution_count": 5,
   "id": "24c760a9",
   "metadata": {},
   "outputs": [
    {
     "name": "stdout",
     "output_type": "stream",
     "text": [
      "['LAMBDA', 'FUNCTIONS', 'CAN', 'HAVE', 'ANY', 'NUMBER', 'OF', 'ARGUMENTS']\n"
     ]
    }
   ],
   "source": [
    "str1 = 'Lambda functions can have any number of arguments'\n",
    "\n",
    "# convert the string into a list of UPPER CASE words\n",
    "\n",
    "k = []\n",
    "for i in str1.split():\n",
    "    k.append(i.upper())\n",
    "print(k)"
   ]
  },
  {
   "cell_type": "code",
   "execution_count": 6,
   "id": "ed0f8083",
   "metadata": {},
   "outputs": [
    {
     "data": {
      "text/plain": [
       "['LAMBDA', 'FUNCTIONS', 'CAN', 'HAVE', 'ANY', 'NUMBER', 'OF', 'ARGUMENTS']"
      ]
     },
     "execution_count": 6,
     "metadata": {},
     "output_type": "execute_result"
    }
   ],
   "source": [
    "# using lambda & map\n",
    "\n",
    "list(map(lambda x: x.upper(), str1.split()))"
   ]
  },
  {
   "cell_type": "code",
   "execution_count": 7,
   "id": "64ba5225",
   "metadata": {},
   "outputs": [
    {
     "data": {
      "text/plain": [
       "[1, 8, 27, 64, 125, 216, 343, 512, 729, 1000]"
      ]
     },
     "execution_count": 7,
     "metadata": {},
     "output_type": "execute_result"
    }
   ],
   "source": [
    "# get the cubes of numbers 1 to 10\n",
    "\n",
    "list(map(lambda x: x**3, range(1,11)))"
   ]
  },
  {
   "cell_type": "code",
   "execution_count": 8,
   "id": "6de8e104",
   "metadata": {},
   "outputs": [],
   "source": [
    "mystr1 = '''Python is meant to be an easily readable language. \n",
    "Its formatting is visually uncluttered and often uses \n",
    "English keywords where other languages use punctuation. \n",
    "Unlike many other languages, it does not use curly brackets \n",
    "to delimit blocks, and semicolons after statements are \n",
    "allowed but rarely used. It has fewer syntactic exceptions \n",
    "nd special cases than C or Pascal.[83]'''"
   ]
  },
  {
   "cell_type": "code",
   "execution_count": 9,
   "id": "9a101bf1",
   "metadata": {},
   "outputs": [
    {
     "name": "stdout",
     "output_type": "stream",
     "text": [
      "uncluttered\n",
      "uses\n",
      "use\n",
      "Unlike\n",
      "use\n",
      "used.\n"
     ]
    }
   ],
   "source": [
    "for i in mystr1.split():\n",
    "    if(i.lower().startswith('u')):\n",
    "        print(i)"
   ]
  },
  {
   "cell_type": "code",
   "execution_count": 10,
   "id": "2e7d8c77",
   "metadata": {},
   "outputs": [
    {
     "name": "stdout",
     "output_type": "stream",
     "text": [
      "language.\n",
      "visually\n",
      "uncluttered\n",
      "uses\n",
      "languages\n",
      "use\n",
      "punctuation.\n",
      "Unlike\n",
      "languages,\n",
      "use\n",
      "curly\n",
      "but\n",
      "used.\n"
     ]
    }
   ],
   "source": [
    "for i in mystr1.split():\n",
    "    if(i.lower().find('u') != -1):\n",
    "        print(i)"
   ]
  },
  {
   "cell_type": "code",
   "execution_count": 11,
   "id": "c430c147",
   "metadata": {},
   "outputs": [
    {
     "name": "stdout",
     "output_type": "stream",
     "text": [
      "is\n",
      "Its\n",
      "is\n",
      "uses\n",
      "keywords\n",
      "languages\n",
      "does\n",
      "brackets\n",
      "semicolons\n",
      "statements\n",
      "has\n",
      "exceptions\n",
      "cases\n"
     ]
    }
   ],
   "source": [
    "for i in mystr1.split():\n",
    "    if(i.lower().endswith('s')):\n",
    "        print(i)"
   ]
  },
  {
   "cell_type": "markdown",
   "id": "4a6b1f38",
   "metadata": {},
   "source": [
    "## Python Modules\n",
    "\n",
    "**What are modules in Python?**\n",
    "\n",
    "A module is a file containing a set of codes or a set of functions which can be included to an application. A module could be a file containing a single variable, a function or a big code base.\n",
    "\n",
    "In Python, Modules are simply files with the “.py” extension containing Python code that can be imported inside another Python Program.\n",
    "\n",
    "A file containing Python code, for example: example.py, is called a module, and its module name would be example.\n",
    "\n",
    "    We use modules to break down large programs into small manageable and organized files. Furthermore, modules provide reusability of code.\n",
    "\n",
    "    We can define our most used functions in a module and import it, instead of copying their definitions into different programs.\n",
    "\n",
    "**How to create Python Modules?**\n",
    "\n",
    "Create a function and save it in a file with the extension \".py\"."
   ]
  },
  {
   "cell_type": "code",
   "execution_count": 28,
   "id": "af35ae62",
   "metadata": {},
   "outputs": [],
   "source": [
    "# Create a function to return the vowel count from a given input string\n",
    "\n",
    "str1 = 'Python is meant to be an easily readable language.'\n",
    "\n",
    "def vowel_count(str1):\n",
    "    vowels = ['a', 'e', 'i', 'o', 'u']\n",
    "    vowelcount = 0\n",
    "    for i in str1.lower().split():\n",
    "        for j in i:        \n",
    "            if(j in vowels):\n",
    "                vowelcount = vowelcount+1\n",
    "\n",
    "    print(vowelcount)"
   ]
  },
  {
   "cell_type": "code",
   "execution_count": 29,
   "id": "db37b472",
   "metadata": {},
   "outputs": [
    {
     "name": "stdout",
     "output_type": "stream",
     "text": [
      "18\n"
     ]
    },
    {
     "ename": "NameError",
     "evalue": "name 'BMI_calc' is not defined",
     "output_type": "error",
     "traceback": [
      "\u001b[1;31m---------------------------------------------------------------------------\u001b[0m",
      "\u001b[1;31mNameError\u001b[0m                                 Traceback (most recent call last)",
      "\u001b[1;32m~\\AppData\\Local\\Temp\\ipykernel_3104\\4006271350.py\u001b[0m in \u001b[0;36m<module>\u001b[1;34m\u001b[0m\n\u001b[0;32m      2\u001b[0m \u001b[1;33m\u001b[0m\u001b[0m\n\u001b[0;32m      3\u001b[0m \u001b[0mvowel_count\u001b[0m\u001b[1;33m(\u001b[0m\u001b[0mstr1\u001b[0m\u001b[1;33m)\u001b[0m\u001b[1;33m\u001b[0m\u001b[1;33m\u001b[0m\u001b[0m\n\u001b[1;32m----> 4\u001b[1;33m \u001b[0mBMI_calc\u001b[0m\u001b[1;33m(\u001b[0m\u001b[1;36m1.8\u001b[0m\u001b[1;33m,\u001b[0m \u001b[1;36m88\u001b[0m\u001b[1;33m)\u001b[0m\u001b[1;33m\u001b[0m\u001b[1;33m\u001b[0m\u001b[0m\n\u001b[0m\u001b[0;32m      5\u001b[0m \u001b[0mmonthly_emi\u001b[0m\u001b[1;33m(\u001b[0m\u001b[1;36m15000\u001b[0m\u001b[1;33m,\u001b[0m\u001b[1;36m12\u001b[0m\u001b[1;33m,\u001b[0m\u001b[1;36m15\u001b[0m\u001b[1;33m)\u001b[0m\u001b[1;33m\u001b[0m\u001b[1;33m\u001b[0m\u001b[0m\n\u001b[0;32m      6\u001b[0m \u001b[0mdiscount_calc\u001b[0m\u001b[1;33m(\u001b[0m\u001b[1;36m1599\u001b[0m\u001b[1;33m,\u001b[0m\u001b[1;36m12\u001b[0m\u001b[1;33m)\u001b[0m\u001b[1;33m\u001b[0m\u001b[1;33m\u001b[0m\u001b[0m\n",
      "\u001b[1;31mNameError\u001b[0m: name 'BMI_calc' is not defined"
     ]
    }
   ],
   "source": [
    "# let us create a module with the below functions\n",
    "\n",
    "vowel_count(str1)\n",
    "BMI_calc(1.8, 88)\n",
    "monthly_emi(15000,12,15)\n",
    "discount_calc(1599,12)"
   ]
  },
  {
   "cell_type": "markdown",
   "id": "0ed2e451",
   "metadata": {},
   "source": [
    "**Save the above function definitions code into a notepad with \".py\" extension.**\n",
    "\n",
    "####  How to use Python Modules?\n",
    "    \n",
    "*Python modules are used with the keyword `import`.*\n",
    "\n",
    "`import modulename`\n",
    "\n",
    "**Use the required function as -**\n",
    "\n",
    "`module_name.function_name`\n",
    "\n",
    "**Importing all names -**\n",
    "\n",
    "`from module_name import`\n",
    "\n",
    "**Import with renaming**\n",
    "\n",
    "`import module_name as xyz`"
   ]
  },
  {
   "cell_type": "code",
   "execution_count": 24,
   "id": "6c791b41",
   "metadata": {},
   "outputs": [
    {
     "ename": "ModuleNotFoundError",
     "evalue": "No module named 'MyModule_20221105'",
     "output_type": "error",
     "traceback": [
      "\u001b[1;31m---------------------------------------------------------------------------\u001b[0m",
      "\u001b[1;31mModuleNotFoundError\u001b[0m                       Traceback (most recent call last)",
      "Input \u001b[1;32mIn [24]\u001b[0m, in \u001b[0;36m<cell line: 1>\u001b[1;34m()\u001b[0m\n\u001b[1;32m----> 1\u001b[0m \u001b[38;5;28;01mimport\u001b[39;00m \u001b[38;5;21;01mMyModule_20221105\u001b[39;00m\n",
      "\u001b[1;31mModuleNotFoundError\u001b[0m: No module named 'MyModule_20221105'"
     ]
    }
   ],
   "source": [
    "import MyModule_20221105"
   ]
  },
  {
   "cell_type": "markdown",
   "id": "59c87953",
   "metadata": {},
   "source": [
    "### Python default directory"
   ]
  },
  {
   "cell_type": "code",
   "execution_count": 25,
   "id": "39ca8cdb",
   "metadata": {},
   "outputs": [],
   "source": [
    "# important root directories for Python\n",
    "\n",
    "# import a library - \"sys\"\n",
    "\n",
    "import sys"
   ]
  },
  {
   "cell_type": "code",
   "execution_count": 26,
   "id": "6ea6ea9a",
   "metadata": {},
   "outputs": [
    {
     "name": "stdout",
     "output_type": "stream",
     "text": [
      "['__breakpointhook__', '__displayhook__', '__doc__', '__excepthook__', '__interactivehook__', '__loader__', '__name__', '__package__', '__spec__', '__stderr__', '__stdin__', '__stdout__', '__unraisablehook__', '_base_executable', '_clear_type_cache', '_current_frames', '_debugmallocstats', '_enablelegacywindowsfsencoding', '_framework', '_getframe', '_git', '_home', '_xoptions', 'addaudithook', 'api_version', 'argv', 'audit', 'base_exec_prefix', 'base_prefix', 'breakpointhook', 'builtin_module_names', 'byteorder', 'call_tracing', 'copyright', 'displayhook', 'dllhandle', 'dont_write_bytecode', 'exc_info', 'excepthook', 'exec_prefix', 'executable', 'exit', 'flags', 'float_info', 'float_repr_style', 'get_asyncgen_hooks', 'get_coroutine_origin_tracking_depth', 'getallocatedblocks', 'getdefaultencoding', 'getfilesystemencodeerrors', 'getfilesystemencoding', 'getprofile', 'getrecursionlimit', 'getrefcount', 'getsizeof', 'getswitchinterval', 'gettrace', 'getwindowsversion', 'hash_info', 'hexversion', 'implementation', 'int_info', 'intern', 'is_finalizing', 'last_traceback', 'last_type', 'last_value', 'maxsize', 'maxunicode', 'meta_path', 'modules', 'path', 'path_hooks', 'path_importer_cache', 'platform', 'platlibdir', 'prefix', 'ps1', 'ps2', 'ps3', 'pycache_prefix', 'set_asyncgen_hooks', 'set_coroutine_origin_tracking_depth', 'setprofile', 'setrecursionlimit', 'setswitchinterval', 'settrace', 'stderr', 'stdin', 'stdout', 'thread_info', 'unraisablehook', 'version', 'version_info', 'warnoptions', 'winver']\n"
     ]
    }
   ],
   "source": [
    "print(dir(sys))"
   ]
  },
  {
   "cell_type": "code",
   "execution_count": 27,
   "id": "d425f834",
   "metadata": {},
   "outputs": [
    {
     "data": {
      "text/plain": [
       "['C:\\\\Users\\\\prave\\\\Data science course INN\\\\01 Python\\\\Sir Daily Notes',\n",
       " 'C:\\\\Users\\\\prave\\\\anaconda3\\\\python39.zip',\n",
       " 'C:\\\\Users\\\\prave\\\\anaconda3\\\\DLLs',\n",
       " 'C:\\\\Users\\\\prave\\\\anaconda3\\\\lib',\n",
       " 'C:\\\\Users\\\\prave\\\\anaconda3',\n",
       " '',\n",
       " 'C:\\\\Users\\\\prave\\\\anaconda3\\\\lib\\\\site-packages',\n",
       " 'C:\\\\Users\\\\prave\\\\anaconda3\\\\lib\\\\site-packages\\\\win32',\n",
       " 'C:\\\\Users\\\\prave\\\\anaconda3\\\\lib\\\\site-packages\\\\win32\\\\lib',\n",
       " 'C:\\\\Users\\\\prave\\\\anaconda3\\\\lib\\\\site-packages\\\\Pythonwin']"
      ]
     },
     "execution_count": 27,
     "metadata": {},
     "output_type": "execute_result"
    }
   ],
   "source": [
    "sys.path"
   ]
  },
  {
   "cell_type": "code",
   "execution_count": 28,
   "id": "91974bf1",
   "metadata": {},
   "outputs": [],
   "source": [
    "# import another library \"os\"\n",
    "\n",
    "import os"
   ]
  },
  {
   "cell_type": "code",
   "execution_count": 29,
   "id": "f538021d",
   "metadata": {},
   "outputs": [
    {
     "name": "stdout",
     "output_type": "stream",
     "text": [
      "C:\\Users\\prave\\Data science course INN\\01 Python\\Sir Daily Notes\n"
     ]
    }
   ],
   "source": [
    "# get the current working directory with the help of \"os\" module\n",
    "print(os.getcwd())"
   ]
  },
  {
   "cell_type": "code",
   "execution_count": 32,
   "id": "1b295edf",
   "metadata": {},
   "outputs": [],
   "source": [
    "# change your default directory\n",
    "os.chdir(r'C:\\Data science')"
   ]
  },
  {
   "cell_type": "code",
   "execution_count": 34,
   "id": "87e83dca",
   "metadata": {},
   "outputs": [
    {
     "name": "stdout",
     "output_type": "stream",
     "text": [
      "['01_Python_Programming_Batch_191.html', '02_Python Data Structures_Batch_191.html', '03_Python Conditional Statements, Loops & Control Statements_Batch 191.html', '04 Python Functions & Modules_Batch_191.html', '05 DateTime in Python_Batch 191.html', 'Index numbering.png', 'Index-in-Practice.png', 'myfirstmodule.py', 'myfirstmodule.txt', 'python notes upto Lists.pdf']\n"
     ]
    }
   ],
   "source": [
    "print(os.listdir())\n",
    "# Return a list containing the names of the files in the directory."
   ]
  },
  {
   "cell_type": "markdown",
   "id": "7d97badd",
   "metadata": {},
   "source": [
    "### After changing the default directory, try importing your module"
   ]
  },
  {
   "cell_type": "code",
   "execution_count": 35,
   "id": "235e7859",
   "metadata": {},
   "outputs": [],
   "source": [
    "# importing a module only\n",
    "# when you import a module only, to use a function, you need to specify modulename.funcname\n",
    "import myfirstmodule"
   ]
  },
  {
   "cell_type": "code",
   "execution_count": 36,
   "id": "f30f2dc7",
   "metadata": {},
   "outputs": [
    {
     "name": "stdout",
     "output_type": "stream",
     "text": [
      "['__builtins__', '__cached__', '__doc__', '__file__', '__loader__', '__name__', '__package__', '__spec__', 'discount_calc', 'incometax_calc', 'monthly_emi']\n"
     ]
    }
   ],
   "source": [
    "print(dir(myfirstmodule))"
   ]
  },
  {
   "cell_type": "code",
   "execution_count": 38,
   "id": "1e3a4b2e",
   "metadata": {},
   "outputs": [
    {
     "name": "stdout",
     "output_type": "stream",
     "text": [
      "Amount payable: 1407.12\n",
      "Savings: 191.88\n"
     ]
    }
   ],
   "source": [
    "# use a function from your module\n",
    "myfirstmodule.discount_calc(1599, 12)"
   ]
  },
  {
   "cell_type": "code",
   "execution_count": 39,
   "id": "2ed1a2a1",
   "metadata": {},
   "outputs": [],
   "source": [
    "import myfirstmodule as my # import the module with a short name/alias"
   ]
  },
  {
   "cell_type": "code",
   "execution_count": 40,
   "id": "66832646",
   "metadata": {},
   "outputs": [
    {
     "name": "stdout",
     "output_type": "stream",
     "text": [
      "Amount payable: 1709.1\n",
      "Savings: 189.9\n"
     ]
    }
   ],
   "source": [
    "my.discount_calc(1899,10) # you need not to specify the module name every time"
   ]
  },
  {
   "cell_type": "code",
   "execution_count": 41,
   "id": "90cd3f9a",
   "metadata": {},
   "outputs": [],
   "source": [
    "# import only the required functions from the module\n",
    "from myfirstmodule import discount_calc"
   ]
  },
  {
   "cell_type": "code",
   "execution_count": 42,
   "id": "a6f32ddc",
   "metadata": {},
   "outputs": [
    {
     "name": "stdout",
     "output_type": "stream",
     "text": [
      "Amount payable: 1439.1\n",
      "Savings: 159.9\n"
     ]
    }
   ],
   "source": [
    "# now this fucntion can be used directly with out module name\n",
    "discount_calc(1599, 10)"
   ]
  },
  {
   "cell_type": "code",
   "execution_count": 44,
   "id": "5792f1d0",
   "metadata": {},
   "outputs": [],
   "source": [
    "# import more than one/all the fucntions directly\n",
    "from myfirstmodule import incometax_calc, discount_calc,monthly_emi\n",
    "from myfirstmodule import * # imports all functions directly"
   ]
  },
  {
   "cell_type": "code",
   "execution_count": 45,
   "id": "1e955d06",
   "metadata": {},
   "outputs": [
    {
     "name": "stdout",
     "output_type": "stream",
     "text": [
      "Amount payable: 1380.72\n",
      "Savings: 188.28\n"
     ]
    }
   ],
   "source": [
    "discount_calc(1569, 12)"
   ]
  },
  {
   "cell_type": "code",
   "execution_count": null,
   "id": "bf97e4a4",
   "metadata": {},
   "outputs": [],
   "source": [
    "pip list # get all the packages installed with their versions"
   ]
  },
  {
   "cell_type": "markdown",
   "id": "7e6da7b2",
   "metadata": {},
   "source": [
    "## Function Problems"
   ]
  },
  {
   "cell_type": "markdown",
   "id": "4d9bff95",
   "metadata": {},
   "source": [
    "### Exercises: Level 1\n",
    "\n",
    "1. Declare a function _add_two_numbers_. It takes two parameters and it returns a sum.\n",
    "2. Area of a circle is calculated as follows: area = π x r x r. Write a function that calculates _area_of_circle_.\n",
    "3. Write a function called add_all_nums which takes arbitrary number of arguments and sums all the arguments. Check if all the list items are number types. If not do give a reasonable feedback.\n",
    "4. Temperature in °C can be converted to °F using this formula: °F = (°C x 9/5) + 32. Write a function which converts °C to °F, _convert_celsius_to-fahrenheit_.\n",
    "5. Write a function called check-season, it takes a month parameter and returns the season: Autumn, Winter, Spring or Summer.\n",
    "6. Write a function called calculate_slope which return the slope of a linear equation\n",
    "7. Quadratic equation is calculated as follows: ax² + bx + c = 0. Write a function which calculates solution set of a quadratic equation, _solve_quadratic_eqn_.\n",
    "8. Declare a function named print_list. It takes a list as a parameter and it prints out each element of the list.\n",
    "9. Declare a function named reverse_list. It takes an array as a parameter and it returns the reverse of the array (use loops).\n",
    "\n",
    "```py\n",
    "print(reverse_list([1, 2, 3, 4, 5]))\n",
    "# [5, 4, 3, 2, 1]\n",
    "print(reverse_list1([\"A\", \"B\", \"C\"]))\n",
    "# [\"C\", \"B\", \"A\"]\n",
    "```\n",
    "\n",
    "10. Declare a function named capitalize_list_items. It takes a list as a parameter and it returns a capitalized list of items\n",
    "11. Declare a function named add_item. It takes a list and an item parameters. It returns a list with the item added at the end.\n",
    "\n",
    "```py\n",
    "food_staff = ['Potato', 'Tomato', 'Mango', 'Milk'];\n",
    "print(add_item(food_staff, 'Meat'))     # ['Potato', 'Tomato', 'Mango', 'Milk','Meat'];\n",
    "numbers = [2, 3, 7, 9];\n",
    "print(add_item(numbers, 5))      [2, 3, 7, 9, 5]\n",
    "```\n",
    "\n",
    "12. Declare a function named remove_item. It takes a list and an item parameters. It returns a list with the item removed from it.\n",
    "\n",
    "```py\n",
    "food_staff = ['Potato', 'Tomato', 'Mango', 'Milk'];\n",
    "print(remove_item(food_staff, 'Mango'))  # ['Potato', 'Tomato', 'Milk'];\n",
    "numbers = [2, 3, 7, 9];\n",
    "print(remove_item(numbers, 3))  # [2, 7, 9]\n",
    "```\n",
    "\n",
    "13. Declare a function named sum_of_numbers. It takes a number parameter and it adds all the numbers in that range.\n",
    "\n",
    "```py\n",
    "print(sum_of_numbers(5))  # 15\n",
    "print(sum_all_numbers(10)) # 55\n",
    "print(sum_all_numbers(100)) # 5050\n",
    "```\n",
    "\n",
    "14. Declare a function named sum_of_odds. It takes a number parameter and it adds all the odd numbers in that range.\n",
    "15. Declare a function named sum_of_even. It takes a number parameter and it adds all the even numbers in that - range.\n",
    "\n",
    "### Exercises: Level 2\n",
    "\n",
    "1.  Declare a function named evens_and_odds . It takes a positive integer as parameter and it counts number of evens and odds in the number.\n",
    "\n",
    "```py\n",
    "    print(evens_and_odds(100))\n",
    "    # The number of odds are 50.\n",
    "    # The number of evens are 51.\n",
    "```\n",
    "\n",
    "1. Call your function factorial, it takes a whole number as a parameter and it return a factorial of the number\n",
    "1. Call your function _is_empty_, it takes a parameter and it checks if it is empty or not\n",
    "1. Write different functions which take lists. They should calculate_mean, calculate_median, calculate_mode, calculate_range, calculate_variance, calculate_std (standard deviation).\n",
    "\n",
    "### Exercises: Level 3\n",
    "\n",
    "1. Write a function called is_prime, which checks if a number is prime.\n",
    "1. Write a functions which checks if all items are unique in the list.\n",
    "1. Write a function which checks if all the items of the list are of the same data type.\n",
    "1. Write a function which check if provided variable is a valid python variable\n"
   ]
  },
  {
   "cell_type": "code",
   "execution_count": null,
   "id": "ff27bde8",
   "metadata": {},
   "outputs": [],
   "source": []
  },
  {
   "cell_type": "code",
   "execution_count": null,
   "id": "da15e099",
   "metadata": {},
   "outputs": [],
   "source": []
  },
  {
   "cell_type": "code",
   "execution_count": null,
   "id": "e08cd529",
   "metadata": {},
   "outputs": [],
   "source": []
  },
  {
   "cell_type": "code",
   "execution_count": null,
   "id": "2a7b6f4d",
   "metadata": {},
   "outputs": [],
   "source": []
  },
  {
   "cell_type": "code",
   "execution_count": null,
   "id": "48ba5afc",
   "metadata": {},
   "outputs": [],
   "source": []
  },
  {
   "cell_type": "code",
   "execution_count": null,
   "id": "efe30591",
   "metadata": {},
   "outputs": [],
   "source": []
  },
  {
   "cell_type": "code",
   "execution_count": null,
   "id": "f4f471d6",
   "metadata": {},
   "outputs": [],
   "source": []
  },
  {
   "cell_type": "code",
   "execution_count": null,
   "id": "b397fcf5",
   "metadata": {},
   "outputs": [],
   "source": []
  },
  {
   "cell_type": "code",
   "execution_count": 90,
   "id": "0fce1af0",
   "metadata": {},
   "outputs": [],
   "source": [
    "# Default Constructor\n",
    "class BankAccount:\n",
    "    def __init__(self,name):\n",
    "        self.name = name\n",
    "    \n",
    "    # instance method to add instance variable\n",
    "    def __acc_balance__(self, balance):\n",
    "        return BankAccount(self.name + balance.name)"
   ]
  },
  {
   "cell_type": "code",
   "execution_count": 91,
   "id": "5df214bd",
   "metadata": {},
   "outputs": [],
   "source": [
    "a = BankAccount(10)"
   ]
  },
  {
   "cell_type": "code",
   "execution_count": 92,
   "id": "16883ebf",
   "metadata": {},
   "outputs": [],
   "source": [
    "b = BankAccount(20)"
   ]
  },
  {
   "cell_type": "code",
   "execution_count": null,
   "id": "85e10f7f",
   "metadata": {},
   "outputs": [],
   "source": [
    "c = a+b"
   ]
  },
  {
   "cell_type": "code",
   "execution_count": null,
   "id": "988ae549",
   "metadata": {},
   "outputs": [],
   "source": []
  },
  {
   "cell_type": "code",
   "execution_count": null,
   "id": "1326a8a0",
   "metadata": {},
   "outputs": [],
   "source": []
  },
  {
   "cell_type": "code",
   "execution_count": null,
   "id": "a2bc439f",
   "metadata": {},
   "outputs": [],
   "source": []
  },
  {
   "cell_type": "code",
   "execution_count": null,
   "id": "889b31a0",
   "metadata": {},
   "outputs": [],
   "source": []
  },
  {
   "cell_type": "code",
   "execution_count": null,
   "id": "5b926909",
   "metadata": {},
   "outputs": [],
   "source": []
  },
  {
   "cell_type": "code",
   "execution_count": null,
   "id": "2833ed58",
   "metadata": {},
   "outputs": [],
   "source": []
  },
  {
   "cell_type": "code",
   "execution_count": null,
   "id": "a958ae45",
   "metadata": {},
   "outputs": [],
   "source": []
  }
 ],
 "metadata": {
  "kernelspec": {
   "display_name": "Python 3 (ipykernel)",
   "language": "python",
   "name": "python3"
  },
  "language_info": {
   "codemirror_mode": {
    "name": "ipython",
    "version": 3
   },
   "file_extension": ".py",
   "mimetype": "text/x-python",
   "name": "python",
   "nbconvert_exporter": "python",
   "pygments_lexer": "ipython3",
   "version": "3.9.16"
  }
 },
 "nbformat": 4,
 "nbformat_minor": 5
}
