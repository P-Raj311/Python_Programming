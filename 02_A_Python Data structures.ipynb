{
 "cells": [
  {
   "cell_type": "code",
   "execution_count": 33,
   "id": "e11875d0",
   "metadata": {},
   "outputs": [],
   "source": [
    "from IPython.core.interactiveshell import InteractiveShell\n",
    "InteractiveShell.ast_node_interactivity = 'all'"
   ]
  },
  {
   "cell_type": "markdown",
   "id": "404af769",
   "metadata": {},
   "source": [
    " <div style=\"background-color:#1A237E;color:#FFEB3B;padding:20px;border:1px solid #3F51B5;text-align:center;\">\n",
    "<p><font size=\"14\" color=#FFF9C4 face=\"Lora\"><i> Python Data Structures </i></font> </p>\n",
    "</div>"
   ]
  },
  {
   "cell_type": "markdown",
   "id": "6c457e3a",
   "metadata": {},
   "source": [
    "# Python Data structures"
   ]
  },
  {
   "cell_type": "markdown",
   "id": "f1e6fb0a",
   "metadata": {},
   "source": [
    "\n",
    "* **List:** is a collection which is ordered and changeable(modifiable). Allows duplicate members.\n",
    "* **Tuple:** is a collection which is ordered and unchangeable or unmodifiable(immutable). Allows duplicate members.\n",
    "* **Set:** is a collection which is unordered, un-indexed and unmodifiable, but we can add new items to the set. Duplicate members are not allowed.\n",
    "* **Dictionary:** is a collection which is unordered, changeable(modifiable) and indexed. No duplicate members.\n",
    "\n",
    "\n",
    "A list is collection of different data types which is ordered and modifiable(mutable). A list can be empty or it may have different data type items."
   ]
  },
  {
   "cell_type": "markdown",
   "id": "1b2cdd5b",
   "metadata": {},
   "source": [
    "### List\n",
    "* Written with [] braces.\n",
    "* Indexing is allowed and so the ordering of the data.\n",
    "* Data is changeable (mutable).\n",
    "* Duplicates are allowed."
   ]
  },
  {
   "cell_type": "markdown",
   "id": "1ff22895",
   "metadata": {},
   "source": [
    "### How to Create a List\n",
    "In Python we can create lists in two ways:\n",
    "\n",
    "Using list built-in function\n"
   ]
  },
  {
   "cell_type": "code",
   "execution_count": 1,
   "id": "6b571b98",
   "metadata": {},
   "outputs": [],
   "source": [
    "# syntax\n",
    "lst = list()"
   ]
  },
  {
   "cell_type": "code",
   "execution_count": 2,
   "id": "b112a246",
   "metadata": {},
   "outputs": [
    {
     "name": "stdout",
     "output_type": "stream",
     "text": [
      "0\n"
     ]
    }
   ],
   "source": [
    "empty_list = list() # this is an empty list, no item in the list\n",
    "print(len(empty_list)) # 0"
   ]
  },
  {
   "cell_type": "markdown",
   "id": "d7fdedac",
   "metadata": {},
   "source": [
    "**Using square brackets,** []"
   ]
  },
  {
   "cell_type": "code",
   "execution_count": 3,
   "id": "bab8214a",
   "metadata": {},
   "outputs": [
    {
     "name": "stdout",
     "output_type": "stream",
     "text": [
      "0\n"
     ]
    }
   ],
   "source": [
    "# syntax\n",
    "lst = []\n",
    "\n",
    "empty_list = [] # this is an empty list, no item in the list\n",
    "print(len(empty_list)) # 0"
   ]
  },
  {
   "cell_type": "code",
   "execution_count": 4,
   "id": "1f77501f",
   "metadata": {},
   "outputs": [
    {
     "name": "stdout",
     "output_type": "stream",
     "text": [
      "Fruits: ['banana', 'orange', 'mango', 'lemon']\n",
      "Number of fruits: 4\n",
      "Vegetables: ['Tomato', 'Potato', 'Cabbage', 'Onion', 'Carrot']\n",
      "Number of vegetables: 5\n",
      "Animal products: ['milk', 'meat', 'butter', 'yoghurt']\n",
      "Number of animal products: 4\n",
      "Web technologies: ['HTML', 'CSS', 'JS', 'React', 'Redux', 'Node', 'MongDB']\n",
      "Number of web technologies: 7\n",
      "Countries: ['Finland', 'Estonia', 'Denmark', 'Sweden', 'Norway']\n",
      "Number of countries: 5\n"
     ]
    }
   ],
   "source": [
    "fruits = ['banana', 'orange', 'mango', 'lemon']                     # list of fruits\n",
    "vegetables = ['Tomato', 'Potato', 'Cabbage','Onion', 'Carrot']      # list of vegetables\n",
    "animal_products = ['milk', 'meat', 'butter', 'yoghurt']             # list of animal products\n",
    "web_techs = ['HTML', 'CSS', 'JS', 'React','Redux', 'Node', 'MongDB'] # list of web technologies\n",
    "countries = ['Finland', 'Estonia', 'Denmark', 'Sweden', 'Norway']\n",
    "\n",
    "# Print the lists and its length\n",
    "print('Fruits:', fruits)\n",
    "print('Number of fruits:', len(fruits))\n",
    "print('Vegetables:', vegetables)\n",
    "print('Number of vegetables:', len(vegetables))\n",
    "print('Animal products:',animal_products)\n",
    "print('Number of animal products:', len(animal_products))\n",
    "print('Web technologies:', web_techs)\n",
    "print('Number of web technologies:', len(web_techs))\n",
    "print('Countries:', countries)\n",
    "print('Number of countries:', len(countries))"
   ]
  },
  {
   "cell_type": "code",
   "execution_count": 1,
   "id": "bde2699a",
   "metadata": {},
   "outputs": [],
   "source": [
    "# create a list object \n",
    "\n",
    "mystr_list = [\"black\", \"white\", \"grey\", \"silver\", \"maroon\"]\n",
    "\n",
    "mynum_list = [10,20,30,40,50]"
   ]
  },
  {
   "cell_type": "code",
   "execution_count": 5,
   "id": "e5961c28",
   "metadata": {},
   "outputs": [
    {
     "name": "stdout",
     "output_type": "stream",
     "text": [
      "['black', 'white', 'grey', 'silver', 'maroon']\n",
      "[10, 20, 30, 40, 50]\n",
      "<class 'list'>\n",
      "<class 'list'>\n"
     ]
    }
   ],
   "source": [
    "print(mystr_list, mynum_list, sep ='\\n')\n",
    "\n",
    "print(type(mystr_list), type(mynum_list), sep ='\\n')"
   ]
  },
  {
   "cell_type": "markdown",
   "id": "8578294a",
   "metadata": {},
   "source": [
    "Lists can have items of different data types"
   ]
  },
  {
   "cell_type": "code",
   "execution_count": 5,
   "id": "8a859969",
   "metadata": {},
   "outputs": [],
   "source": [
    " lst = ['Nani', 250, True, {'country':'India', 'city':'Hyderabad'}] # list containing different data types"
   ]
  },
  {
   "cell_type": "code",
   "execution_count": 6,
   "id": "1534059a",
   "metadata": {},
   "outputs": [],
   "source": [
    "mylist1 = [\"black\", \"white\", \"grey\", \"silver\", \n",
    "           \"maroon\", 10,20,30,40,50, True, False, \n",
    "           15.5,100.25]"
   ]
  },
  {
   "cell_type": "code",
   "execution_count": 7,
   "id": "d45a4a50",
   "metadata": {},
   "outputs": [
    {
     "data": {
      "text/plain": [
       "14"
      ]
     },
     "execution_count": 7,
     "metadata": {},
     "output_type": "execute_result"
    }
   ],
   "source": [
    "len(mylist1)"
   ]
  },
  {
   "cell_type": "markdown",
   "id": "289dc764",
   "metadata": {},
   "source": [
    "##### List Indexing\n",
    "**Syntax:**\n",
    "\n",
    "* list_name[index num]"
   ]
  },
  {
   "cell_type": "markdown",
   "id": "592f4a24",
   "metadata": {},
   "source": [
    "###### Index numbers can be +ve/-ve\n",
    "* +ve Index numbers always start with 0.\n",
    "* -ve Index numbers always end at -1.\n",
    "* First value will have the Index num : 0 or -(len(list))\n",
    "* Last value will have the Index num : -1 or len(list)-1\n",
    "* Indexing is done by using the operator - []\n",
    "\n",
    "Say, \"a\" is a list variable\n",
    "\n",
    "* a[index num] - extracts the single value\n",
    "* a[start:stop] - items from starting position to stop-1, : is sequence operator.\n",
    "* a[start:] - items start through the rest of the array\n",
    "* a[:stop] - items from the beginning through stop-1\n",
    "* a[:] - a copy of the whole array\n",
    "* a[::-1] - reverse the list (here -1 is the step)"
   ]
  },
  {
   "cell_type": "code",
   "execution_count": 8,
   "id": "4683cef8",
   "metadata": {},
   "outputs": [
    {
     "name": "stdout",
     "output_type": "stream",
     "text": [
      "mylist1[2]:  grey <class 'str'>\n",
      "mylist1[12]:  15.5 <class 'float'>\n",
      "mylist1[12]:  True <class 'bool'>\n",
      "mylist1[12]:  40 <class 'int'>\n",
      "--------------------------------------------------\n",
      "mylist1[0]:  black\n",
      "mylist1[-len(mylist1)]:  black\n",
      "mylist1[-1]:  100.25\n",
      "mylist1[len(mylist1)-1]:  100.25\n",
      "--------------------------------------------------\n",
      "mylist1[0:1]:  ['black'] <class 'list'>\n",
      "mylist1[0:2]:  ['black', 'white'] <class 'list'>\n",
      "mylist1[7:10]:  [30, 40, 50] <class 'list'>\n",
      "mylist1[11:14]:  [False, 15.5, 100.25] <class 'list'>\n",
      "mylist1[7:len(mylist1)]:  [30, 40, 50, True, False, 15.5, 100.25] <class 'list'>\n",
      "--------------------------------------------------\n",
      "mylist1[7:]:  [30, 40, 50, True, False, 15.5, 100.25]\n",
      "mylist1[2:]:  ['grey', 'silver', 'maroon', 10, 20, 30, 40, 50, True, False, 15.5, 100.25]\n",
      "mylist1[:7]:  ['black', 'white', 'grey', 'silver', 'maroon', 10, 20]\n",
      "mylist1[:len(mylist1)]:  ['black', 'white', 'grey', 'silver', 'maroon', 10, 20, 30, 40, 50, True, False, 15.5, 100.25]\n",
      "--------------------------------------------------\n",
      "mylist1[:]: ['black', 'white', 'grey', 'silver', 'maroon', 10, 20, 30, 40, 50, True, False, 15.5, 100.25]\n",
      "--------------------------------------------------\n",
      "mylist1[2:10:2]: ['grey', 'maroon', 20, 40]\n",
      "mylist1[::1]: ['black', 'white', 'grey', 'silver', 'maroon', 10, 20, 30, 40, 50, True, False, 15.5, 100.25]\n",
      "mylist1[::2]: ['black', 'grey', 'maroon', 20, 40, True, 15.5]\n",
      "mylist1[::3]: ['black', 'silver', 20, 50, 15.5]\n",
      "mylist1[::]: ['black', 'white', 'grey', 'silver', 'maroon', 10, 20, 30, 40, 50, True, False, 15.5, 100.25]\n",
      "--------------------------------------------------\n",
      "mylist1[::-1]: [100.25, 15.5, False, True, 50, 40, 30, 20, 10, 'maroon', 'silver', 'grey', 'white', 'black']\n",
      "mylist1[::-2]: [100.25, False, 50, 30, 10, 'silver', 'white']\n",
      "mylist1[::-3]: [100.25, True, 30, 'maroon', 'white']\n",
      "--------------------------------------------------\n",
      "mylist1[0:-8:]: ['black', 'white', 'grey', 'silver', 'maroon', 10]\n",
      "mylist1[-6:1]: []\n",
      "--------------------------------------------------\n",
      "mylist1[-7:-1]: [30, 40, 50, True, False, 15.5]\n",
      "mylist1[-7:]: [30, 40, 50, True, False, 15.5, 100.25]\n",
      "mylist1[-7::-1]: [30, 20, 10, 'maroon', 'silver', 'grey', 'white', 'black']\n",
      "--------------------------------------------------\n",
      "mylist1[2:7][2][1]:  a\n"
     ]
    }
   ],
   "source": [
    "# a[index num] - extracts the single value\n",
    "\n",
    "print(\"mylist1[2]: \", mylist1[2], type(mylist1[2]))\n",
    "print(\"mylist1[12]: \", mylist1[12], type(mylist1[12]))\n",
    "print(\"mylist1[12]: \", mylist1[10], type(mylist1[10]))\n",
    "print(\"mylist1[12]: \", mylist1[8], type(mylist1[8]))\n",
    "\n",
    "print('-'*50)\n",
    "\n",
    "# extract the first value\n",
    "print(\"mylist1[0]: \", mylist1[0])\n",
    "print(\"mylist1[-len(mylist1)]: \", mylist1[-len(mylist1)])\n",
    "\n",
    "# extract the last value\n",
    "print(\"mylist1[-1]: \", mylist1[-1])\n",
    "print(\"mylist1[len(mylist1)-1]: \", mylist1[len(mylist1)-1])\n",
    "\n",
    "print('-'*50)\n",
    "\n",
    "# a[start:stop] - \":\" - colon is the sequence operator used for slicing\n",
    "print('mylist1[0:1]: ', mylist1[0:1], type(mylist1[0:1]))\n",
    "print('mylist1[0:2]: ', mylist1[0:2], type(mylist1[0:2]))\n",
    "print('mylist1[7:10]: ', mylist1[7:10], type(mylist1[7:10]))\n",
    "print('mylist1[11:14]: ', mylist1[11:14], type(mylist1[11:14]))\n",
    "print('mylist1[7:len(mylist1)]: ', mylist1[7:len(mylist1)], type(mylist1[7:len(mylist1)]))\n",
    "\n",
    "print('-'*50)\n",
    "# a[start:]\n",
    "print('mylist1[7:]: ', mylist1[7:])\n",
    "print('mylist1[2:]: ', mylist1[2:])\n",
    "\n",
    "# a[:stop]\n",
    "print('mylist1[:7]: ', mylist1[:7])\n",
    "print('mylist1[:len(mylist1)]: ', mylist1[:len(mylist1)])\n",
    "\n",
    "print('-'*50)\n",
    "\n",
    "# a[:]\n",
    "print('mylist1[:]:', mylist1[:])\n",
    "\n",
    "print('-'*50)\n",
    "# a[start:end:step] - where step is the increment of position; by default step = 1\n",
    "print('mylist1[2:10:2]:', mylist1[2:10:2])\n",
    "print('mylist1[::1]:', mylist1[::1])\n",
    "print('mylist1[::2]:', mylist1[::2])\n",
    "print('mylist1[::3]:', mylist1[::3])\n",
    "print('mylist1[::]:', mylist1[::])\n",
    "\n",
    "print('-'*50)\n",
    "# reversing the list\n",
    "print('mylist1[::-1]:', mylist1[::-1])\n",
    "print('mylist1[::-2]:', mylist1[::-2]) # first reverse the list and pick every second word\n",
    "print('mylist1[::-3]:', mylist1[::-3])\n",
    "\n",
    "print('-'*50)\n",
    "# Using both +ve & -ve indexing numbers\n",
    "print('mylist1[0:-8:]:', mylist1[0:-8:])\n",
    "print('mylist1[-6:1]:', mylist1[-6:1]) # reverse direction doesn't work\n",
    "\n",
    "print('-'*50)\n",
    "# using -ve index numbers\n",
    "print('mylist1[-7:-1]:', mylist1[-7:-1])\n",
    "print('mylist1[-7:]:', mylist1[-7:])\n",
    "print('mylist1[-7::-1]:', mylist1[-7::-1])\n",
    "\n",
    "print('-'*50)\n",
    "# multi level indexing\n",
    "print('mylist1[2:7][2][1]: ', mylist1[2:7][2][1])"
   ]
  },
  {
   "cell_type": "code",
   "execution_count": 9,
   "id": "0d9ad788",
   "metadata": {},
   "outputs": [
    {
     "name": "stdout",
     "output_type": "stream",
     "text": [
      "['black', 'white', 'grey', 'silver', 'maroon', 10, 20, 30, 40, 50, True, False, 15.5, 100.25]\n"
     ]
    }
   ],
   "source": [
    "print(mylist1)"
   ]
  },
  {
   "cell_type": "code",
   "execution_count": 10,
   "id": "df6b5f17",
   "metadata": {},
   "outputs": [
    {
     "name": "stdout",
     "output_type": "stream",
     "text": [
      "a\n",
      "['grey', 'silver', 'maroon', 10, 20] <class 'list'>\n",
      "maroon <class 'str'>\n",
      "a\n"
     ]
    }
   ],
   "source": [
    "print(mylist1[2:7][2][1])\n",
    "\n",
    "print(mylist1[2:7], type(mylist1[2:7]))\n",
    "print(mylist1[2:7][2], type(mylist1[2:7][2]))\n",
    "print(mylist1[2:7][2][1])"
   ]
  },
  {
   "cell_type": "code",
   "execution_count": 11,
   "id": "6497d9e0",
   "metadata": {},
   "outputs": [
    {
     "data": {
      "text/plain": [
       "[30, 40, 50]"
      ]
     },
     "execution_count": 11,
     "metadata": {},
     "output_type": "execute_result"
    },
    {
     "data": {
      "text/plain": [
       "50"
      ]
     },
     "execution_count": 11,
     "metadata": {},
     "output_type": "execute_result"
    },
    {
     "ename": "TypeError",
     "evalue": "'int' object is not subscriptable",
     "output_type": "error",
     "traceback": [
      "\u001b[1;31m---------------------------------------------------------------------------\u001b[0m",
      "\u001b[1;31mTypeError\u001b[0m                                 Traceback (most recent call last)",
      "Input \u001b[1;32mIn [11]\u001b[0m, in \u001b[0;36m<cell line: 3>\u001b[1;34m()\u001b[0m\n\u001b[0;32m      1\u001b[0m mynum_list[\u001b[38;5;241m2\u001b[39m:\u001b[38;5;241m5\u001b[39m]\n\u001b[0;32m      2\u001b[0m mynum_list[\u001b[38;5;241m2\u001b[39m:\u001b[38;5;241m5\u001b[39m][\u001b[38;5;241m2\u001b[39m]\n\u001b[1;32m----> 3\u001b[0m \u001b[43mmynum_list\u001b[49m\u001b[43m[\u001b[49m\u001b[38;5;241;43m2\u001b[39;49m\u001b[43m:\u001b[49m\u001b[38;5;241;43m5\u001b[39;49m\u001b[43m]\u001b[49m\u001b[43m[\u001b[49m\u001b[38;5;241;43m2\u001b[39;49m\u001b[43m]\u001b[49m\u001b[43m[\u001b[49m\u001b[38;5;241;43m1\u001b[39;49m\u001b[43m]\u001b[49m\n",
      "\u001b[1;31mTypeError\u001b[0m: 'int' object is not subscriptable"
     ]
    }
   ],
   "source": [
    "mynum_list[2:5]\n",
    "mynum_list[2:5][2]\n",
    "mynum_list[2:5][2][1]"
   ]
  },
  {
   "cell_type": "markdown",
   "id": "a1be6c65",
   "metadata": {},
   "source": [
    "### Accessing List Items Using Positive Indexing"
   ]
  },
  {
   "attachments": {
    "image.png": {
     "image/png": "[encoded data removed]"
    }
   },
   "cell_type": "markdown",
   "id": "25283e9a",
   "metadata": {},
   "source": [
    "We access each item in a list using their index. A list index starts from 0. The picture below shows clearly where the index starts\n",
    "\n",
    "! ![image.png](attachment:image.png)"
   ]
  },
  {
   "cell_type": "code",
   "execution_count": 6,
   "id": "d6d57dc5",
   "metadata": {},
   "outputs": [
    {
     "name": "stdout",
     "output_type": "stream",
     "text": [
      "banana\n",
      "orange\n",
      "lemon\n"
     ]
    }
   ],
   "source": [
    "fruits = ['banana', 'orange', 'mango', 'lemon']\n",
    "first_fruit = fruits[0] # we are accessing the first item using its index\n",
    "print(first_fruit)      # banana\n",
    "second_fruit = fruits[1]\n",
    "print(second_fruit)     # orange\n",
    "last_fruit = fruits[3]\n",
    "print(last_fruit) # lemon\n",
    "# Last index\n",
    "last_index = len(fruits) - 1\n",
    "last_fruit = fruits[last_index]"
   ]
  },
  {
   "attachments": {
    "image.png": {
     "image/png": "[encoded data removed]"
    }
   },
   "cell_type": "markdown",
   "id": "5825a470",
   "metadata": {},
   "source": [
    "### Accessing List Items Using Negative Indexing\n",
    "Negative indexing means beginning from the end, -1 refers to the last item, -2 refers to the second last item.\n",
    "! ![image.png](attachment:image.png)"
   ]
  },
  {
   "cell_type": "code",
   "execution_count": 7,
   "id": "97eff072",
   "metadata": {},
   "outputs": [
    {
     "name": "stdout",
     "output_type": "stream",
     "text": [
      "banana\n",
      "lemon\n",
      "mango\n"
     ]
    }
   ],
   "source": [
    "fruits = ['banana', 'orange', 'mango', 'lemon']\n",
    "first_fruit = fruits[-4]\n",
    "last_fruit = fruits[-1]\n",
    "second_last = fruits[-2]\n",
    "print(first_fruit)      # banana\n",
    "print(last_fruit)       # lemon\n",
    "print(second_last)      # mango"
   ]
  },
  {
   "cell_type": "markdown",
   "id": "5588e918",
   "metadata": {},
   "source": [
    "### Slicing Items from a List\n",
    "\n",
    "**Positive Indexing**: We can specify a range of positive indexes by specifying the start, end and step, the return value will be a new list. (default values for start = 0, end = len(lst) - 1 (last item), step = 1)"
   ]
  },
  {
   "cell_type": "code",
   "execution_count": 10,
   "id": "63fe4815",
   "metadata": {},
   "outputs": [],
   "source": [
    "fruits = ['banana', 'orange', 'mango', 'lemon']\n",
    "all_fruits = fruits[0:4] # it returns all the fruits\n",
    "# this will also give the same result as the one above\n",
    "all_fruits = fruits[0:] # if we don't set where to stop it takes all the rest\n",
    "orange_and_mango = fruits[1:3] # it does not include the first index\n",
    "orange_mango_lemon = fruits[1:]\n",
    "orange_and_lemon = fruits[::2] # here we used a 3rd argument, step. It will take every 2cnd item - ['banana', 'mango']"
   ]
  },
  {
   "cell_type": "markdown",
   "id": "bf3e4dd4",
   "metadata": {},
   "source": [
    "**Negative Indexing**: We can specify a range of negative indexes by specifying the start, end and step, the return value will be a new list."
   ]
  },
  {
   "cell_type": "code",
   "execution_count": 13,
   "id": "e6e34981",
   "metadata": {},
   "outputs": [],
   "source": [
    "fruits = ['banana', 'orange', 'mango', 'lemon']\n",
    "all_fruits = fruits[-4:] # it returns all the fruits\n",
    "orange_and_mango = fruits[-3:-1] # it does not include the last index,['orange', 'mango']\n",
    "orange_mango_lemon = fruits[-3:] # this will give starting from -3 to the end,['orange', 'mango', 'lemon']\n",
    "reverse_fruits = fruits[::-1] # a negative step will take the list in reverse order,['lemon', 'mango', 'orange', 'banana']"
   ]
  },
  {
   "cell_type": "markdown",
   "id": "146f8cdd",
   "metadata": {},
   "source": [
    "### Unpacking List Items"
   ]
  },
  {
   "cell_type": "code",
   "execution_count": 8,
   "id": "394d908a",
   "metadata": {},
   "outputs": [
    {
     "name": "stdout",
     "output_type": "stream",
     "text": [
      "item\n",
      "item2\n",
      "item3\n",
      "['item4', 'item5']\n"
     ]
    }
   ],
   "source": [
    "lst = ['item','item2','item3', 'item4', 'item5']\n",
    "first_item, second_item, third_item, *rest = lst\n",
    "print(first_item)     # item1\n",
    "print(second_item)    # item2\n",
    "print(third_item)     # item3\n",
    "print(rest)           # ['item4', 'item5']\n"
   ]
  },
  {
   "cell_type": "code",
   "execution_count": 9,
   "id": "4864cec2",
   "metadata": {},
   "outputs": [
    {
     "name": "stdout",
     "output_type": "stream",
     "text": [
      "item\n",
      "item2\n",
      "item3\n",
      "['item4', 'item5']\n",
      "1\n",
      "2\n",
      "3\n",
      "[4, 5, 6, 7, 8, 9]\n",
      "10\n",
      "Germany\n",
      "France\n",
      "Belgium\n",
      "Sweden\n",
      "['Denmark', 'Finland', 'Norway', 'Iceland']\n",
      "Estonia\n"
     ]
    }
   ],
   "source": [
    "# First Example\n",
    "fruits = ['banana', 'orange', 'mango', 'lemon','lime','apple']\n",
    "first_fruit, second_fruit, third_fruit, *rest = lst\n",
    "print(first_fruit)     # banana\n",
    "print(second_fruit)    # orange\n",
    "print(third_fruit)     # mango\n",
    "print(rest)           # ['lemon','lime','apple']\n",
    "\n",
    "\n",
    "# Second Example about unpacking list\n",
    "first, second, third,*rest, tenth = [1,2,3,4,5,6,7,8,9,10]\n",
    "print(first)          # 1\n",
    "print(second)         # 2\n",
    "print(third)          # 3\n",
    "print(rest)           # [4,5,6,7,8,9]\n",
    "print(tenth)          # 10\n",
    "# Third Example about unpacking list\n",
    "\n",
    "countries = ['Germany', 'France','Belgium','Sweden','Denmark','Finland','Norway','Iceland','Estonia']\n",
    "gr, fr, bg, sw, *scandic, es = countries\n",
    "print(gr)\n",
    "print(fr)\n",
    "print(bg)\n",
    "print(sw)\n",
    "print(scandic)\n",
    "print(es)"
   ]
  },
  {
   "cell_type": "markdown",
   "id": "7afbce1a",
   "metadata": {},
   "source": [
    "### Modifying Lists\n",
    "List is a mutable or modifiable ordered collection of items. Lets modify the fruit list."
   ]
  },
  {
   "cell_type": "code",
   "execution_count": 14,
   "id": "8daf2a67",
   "metadata": {},
   "outputs": [
    {
     "name": "stdout",
     "output_type": "stream",
     "text": [
      "['avocado', 'orange', 'mango', 'lemon']\n",
      "['avocado', 'apple', 'mango', 'lemon']\n",
      "['avocado', 'apple', 'mango', 'lime']\n"
     ]
    }
   ],
   "source": [
    "fruits = ['banana', 'orange', 'mango', 'lemon']\n",
    "fruits[0] = 'avocado'\n",
    "print(fruits)       #  ['avocado', 'orange', 'mango', 'lemon']\n",
    "fruits[1] = 'apple'\n",
    "print(fruits)       #  ['avocado', 'apple', 'mango', 'lemon']\n",
    "last_index = len(fruits) - 1\n",
    "fruits[last_index] = 'lime'\n",
    "print(fruits)        #  ['avocado', 'apple', 'mango', 'lime']"
   ]
  },
  {
   "cell_type": "code",
   "execution_count": 12,
   "id": "99fd93f5",
   "metadata": {},
   "outputs": [
    {
     "data": {
      "text/plain": [
       "[10, 20, 30, 40, 50]"
      ]
     },
     "execution_count": 12,
     "metadata": {},
     "output_type": "execute_result"
    }
   ],
   "source": [
    "mynum_list"
   ]
  },
  {
   "cell_type": "code",
   "execution_count": 13,
   "id": "0e0a80c0",
   "metadata": {},
   "outputs": [],
   "source": [
    "mynum_list[3] = 4000 # item assignment is supported"
   ]
  },
  {
   "cell_type": "code",
   "execution_count": 14,
   "id": "2600e1f0",
   "metadata": {},
   "outputs": [
    {
     "data": {
      "text/plain": [
       "[10, 20, 30, 4000, 50]"
      ]
     },
     "execution_count": 14,
     "metadata": {},
     "output_type": "execute_result"
    }
   ],
   "source": [
    "mynum_list"
   ]
  },
  {
   "cell_type": "code",
   "execution_count": 15,
   "id": "574bc19c",
   "metadata": {},
   "outputs": [],
   "source": [
    "mystr_list[1] = mystr_list[1].upper()"
   ]
  },
  {
   "cell_type": "code",
   "execution_count": 16,
   "id": "033514e1",
   "metadata": {},
   "outputs": [
    {
     "data": {
      "text/plain": [
       "['black', 'WHITE', 'grey', 'silver', 'maroon']"
      ]
     },
     "execution_count": 16,
     "metadata": {},
     "output_type": "execute_result"
    }
   ],
   "source": [
    "mystr_list"
   ]
  },
  {
   "cell_type": "markdown",
   "id": "25f2d506",
   "metadata": {},
   "source": [
    "### Duplicate values are allowed"
   ]
  },
  {
   "cell_type": "code",
   "execution_count": 17,
   "id": "4ae01e2f",
   "metadata": {},
   "outputs": [],
   "source": [
    "mynum_list = [10, 20, 300, 40, 50,10, 20, 300, 40, 50]"
   ]
  },
  {
   "cell_type": "code",
   "execution_count": 18,
   "id": "7af759d8",
   "metadata": {},
   "outputs": [
    {
     "data": {
      "text/plain": [
       "[10, 20, 300, 40, 50, 10, 20, 300, 40, 50]"
      ]
     },
     "execution_count": 18,
     "metadata": {},
     "output_type": "execute_result"
    }
   ],
   "source": [
    "mynum_list"
   ]
  },
  {
   "cell_type": "code",
   "execution_count": 19,
   "id": "f0660794",
   "metadata": {},
   "outputs": [],
   "source": [
    "mystr_list = ['black', 'WHITE', 'grey', 'silver', 'WHITE', 'grey', 'silver', 'maroon']"
   ]
  },
  {
   "cell_type": "code",
   "execution_count": 20,
   "id": "3c99087f",
   "metadata": {},
   "outputs": [
    {
     "data": {
      "text/plain": [
       "['black', 'WHITE', 'grey', 'silver', 'WHITE', 'grey', 'silver', 'maroon']"
      ]
     },
     "execution_count": 20,
     "metadata": {},
     "output_type": "execute_result"
    }
   ],
   "source": [
    "mystr_list"
   ]
  },
  {
   "cell_type": "markdown",
   "id": "8f04c060",
   "metadata": {},
   "source": [
    "### Nested List \n"
   ]
  },
  {
   "cell_type": "code",
   "execution_count": 21,
   "id": "9df6d2c1",
   "metadata": {},
   "outputs": [],
   "source": [
    "mylist2 = [['white', 'grey', 'silver'], [2022,2023,2024],\n",
    "           '22-04-2022',[ True, False]]"
   ]
  },
  {
   "cell_type": "code",
   "execution_count": 22,
   "id": "7e25c4c0",
   "metadata": {},
   "outputs": [
    {
     "data": {
      "text/plain": [
       "4"
      ]
     },
     "execution_count": 22,
     "metadata": {},
     "output_type": "execute_result"
    }
   ],
   "source": [
    "len(mylist2)"
   ]
  },
  {
   "cell_type": "code",
   "execution_count": 23,
   "id": "04e6c7bf",
   "metadata": {},
   "outputs": [
    {
     "name": "stdout",
     "output_type": "stream",
     "text": [
      "['white', 'grey', 'silver'] <class 'list'>\n",
      "white <class 'str'>\n",
      "[['white', 'grey', 'silver'], [2022, 2023, 2024], '22-04-2022'] <class 'list'>\n",
      "2024 <class 'int'>\n",
      "22-04-2022 <class 'str'>\n",
      "[True, False] <class 'list'>\n",
      "revlis\n"
     ]
    }
   ],
   "source": [
    "print(mylist2[0],type(mylist2[0]))\n",
    "print(mylist2[0][0],type(mylist2[0][0]))\n",
    "print(mylist2[0:3],type(mylist2[0:3]))\n",
    "print(mylist2[0:3][1][2],type(mylist2[0:3][1][2]))\n",
    "print(mylist2[2],type(mylist2[2]))\n",
    "print(mylist2[3],type(mylist2[3]))\n",
    "print(mylist2[0][2][::-1])"
   ]
  },
  {
   "cell_type": "code",
   "execution_count": 24,
   "id": "9f24b0dd",
   "metadata": {},
   "outputs": [
    {
     "name": "stdout",
     "output_type": "stream",
     "text": [
      "grey True\n",
      "['grey', True]\n"
     ]
    },
    {
     "data": {
      "text/plain": [
       "list"
      ]
     },
     "execution_count": 24,
     "metadata": {},
     "output_type": "execute_result"
    }
   ],
   "source": [
    "print(mylist2[0][1],mylist2[3][0])\n",
    "\n",
    "print([mylist2[0][1],mylist2[3][0]])\n",
    "type([mylist2[0][1],mylist2[3][0]])"
   ]
  },
  {
   "cell_type": "code",
   "execution_count": 25,
   "id": "d59766fa",
   "metadata": {},
   "outputs": [
    {
     "ename": "TypeError",
     "evalue": "type() takes 1 or 3 arguments",
     "output_type": "error",
     "traceback": [
      "\u001b[1;31m---------------------------------------------------------------------------\u001b[0m",
      "\u001b[1;31mTypeError\u001b[0m                                 Traceback (most recent call last)",
      "Input \u001b[1;32mIn [25]\u001b[0m, in \u001b[0;36m<cell line: 1>\u001b[1;34m()\u001b[0m\n\u001b[1;32m----> 1\u001b[0m \u001b[38;5;28;43mtype\u001b[39;49m\u001b[43m(\u001b[49m\u001b[43mmylist2\u001b[49m\u001b[43m[\u001b[49m\u001b[38;5;241;43m0\u001b[39;49m\u001b[43m]\u001b[49m\u001b[43m[\u001b[49m\u001b[38;5;241;43m1\u001b[39;49m\u001b[43m]\u001b[49m\u001b[43m,\u001b[49m\u001b[43mmylist2\u001b[49m\u001b[43m[\u001b[49m\u001b[38;5;241;43m3\u001b[39;49m\u001b[43m]\u001b[49m\u001b[43m[\u001b[49m\u001b[38;5;241;43m0\u001b[39;49m\u001b[43m]\u001b[49m\u001b[43m)\u001b[49m\n",
      "\u001b[1;31mTypeError\u001b[0m: type() takes 1 or 3 arguments"
     ]
    }
   ],
   "source": [
    "type(mylist2[0][1],mylist2[3][0])"
   ]
  },
  {
   "cell_type": "markdown",
   "id": "d37ad7ea",
   "metadata": {},
   "source": [
    "### Common errors in Indexing"
   ]
  },
  {
   "cell_type": "code",
   "execution_count": 26,
   "id": "aa0fb7de",
   "metadata": {},
   "outputs": [
    {
     "ename": "IndexError",
     "evalue": "list index out of range",
     "output_type": "error",
     "traceback": [
      "\u001b[1;31m---------------------------------------------------------------------------\u001b[0m",
      "\u001b[1;31mIndexError\u001b[0m                                Traceback (most recent call last)",
      "Input \u001b[1;32mIn [26]\u001b[0m, in \u001b[0;36m<cell line: 1>\u001b[1;34m()\u001b[0m\n\u001b[1;32m----> 1\u001b[0m \u001b[43mmylist2\u001b[49m\u001b[43m[\u001b[49m\u001b[38;5;241;43m7\u001b[39;49m\u001b[43m]\u001b[49m\n",
      "\u001b[1;31mIndexError\u001b[0m: list index out of range"
     ]
    }
   ],
   "source": [
    "mylist2[7]"
   ]
  },
  {
   "cell_type": "code",
   "execution_count": 27,
   "id": "0f622c8d",
   "metadata": {},
   "outputs": [
    {
     "ename": "TypeError",
     "evalue": "list indices must be integers or slices, not float",
     "output_type": "error",
     "traceback": [
      "\u001b[1;31m---------------------------------------------------------------------------\u001b[0m",
      "\u001b[1;31mTypeError\u001b[0m                                 Traceback (most recent call last)",
      "Input \u001b[1;32mIn [27]\u001b[0m, in \u001b[0;36m<cell line: 1>\u001b[1;34m()\u001b[0m\n\u001b[1;32m----> 1\u001b[0m \u001b[43mmynum_list\u001b[49m\u001b[43m[\u001b[49m\u001b[38;5;241;43m2.5\u001b[39;49m\u001b[43m]\u001b[49m\n",
      "\u001b[1;31mTypeError\u001b[0m: list indices must be integers or slices, not float"
     ]
    }
   ],
   "source": [
    "mynum_list[2.5]"
   ]
  },
  {
   "cell_type": "markdown",
   "id": "b6e6a867",
   "metadata": {},
   "source": [
    "## List Methods"
   ]
  },
  {
   "cell_type": "code",
   "execution_count": 28,
   "id": "84a41aa5",
   "metadata": {},
   "outputs": [
    {
     "name": "stdout",
     "output_type": "stream",
     "text": [
      "['__add__', '__class__', '__class_getitem__', '__contains__', '__delattr__', '__delitem__', '__dir__', '__doc__', '__eq__', '__format__', '__ge__', '__getattribute__', '__getitem__', '__gt__', '__hash__', '__iadd__', '__imul__', '__init__', '__init_subclass__', '__iter__', '__le__', '__len__', '__lt__', '__mul__', '__ne__', '__new__', '__reduce__', '__reduce_ex__', '__repr__', '__reversed__', '__rmul__', '__setattr__', '__setitem__', '__sizeof__', '__str__', '__subclasshook__', 'append', 'clear', 'copy', 'count', 'extend', 'index', 'insert', 'pop', 'remove', 'reverse', 'sort']\n"
     ]
    }
   ],
   "source": [
    "print(dir(list))"
   ]
  },
  {
   "cell_type": "code",
   "execution_count": 29,
   "id": "9d42e500",
   "metadata": {},
   "outputs": [
    {
     "data": {
      "text/plain": [
       "'PYTHON PROGRAMMING'"
      ]
     },
     "execution_count": 29,
     "metadata": {},
     "output_type": "execute_result"
    },
    {
     "data": {
      "text/plain": [
       "'PYTHON PROGRAMMING'"
      ]
     },
     "execution_count": 29,
     "metadata": {},
     "output_type": "execute_result"
    },
    {
     "data": {
      "text/plain": [
       "'PYTHON PROGRAMMING'"
      ]
     },
     "execution_count": 29,
     "metadata": {},
     "output_type": "execute_result"
    }
   ],
   "source": [
    "# usage of str methods\n",
    "r'Python Programming'.upper()\n",
    "'Python Programming'.upper()\n",
    "\n",
    "str1 = 'Python Programming'\n",
    "str1.upper()"
   ]
  },
  {
   "cell_type": "markdown",
   "id": "d48f809e",
   "metadata": {},
   "source": [
    "#### List Methods\n",
    "\n",
    "    'append', \n",
    "    'clear',\n",
    "    'copy',\n",
    "    'count',\n",
    "    'extend',\n",
    "    'index', \n",
    "    'insert',\n",
    "    'pop',\n",
    "    'remove', \n",
    "    'reverse',\n",
    "    'sort'"
   ]
  },
  {
   "cell_type": "markdown",
   "id": "8c69b69d",
   "metadata": {},
   "source": [
    "### Adding Items to a List\n",
    "To add item to the end of an existing list we use the method append().\n",
    "\n",
    "\n",
    "### **1. append()**"
   ]
  },
  {
   "cell_type": "code",
   "execution_count": 30,
   "id": "9bdb1c0a",
   "metadata": {},
   "outputs": [
    {
     "name": "stdout",
     "output_type": "stream",
     "text": [
      "['black', 'WHITE', 'grey', 'silver', 'WHITE', 'grey', 'silver', 'maroon']\n"
     ]
    }
   ],
   "source": [
    "print(mystr_list)"
   ]
  },
  {
   "cell_type": "code",
   "execution_count": 31,
   "id": "24b831ce",
   "metadata": {},
   "outputs": [],
   "source": [
    "# append a single value - str/int/float/bool/date\n",
    "\n",
    "# Append object to the end of the list.\n",
    "mystr_list.append(2022)\n",
    "mystr_list.append('RED')"
   ]
  },
  {
   "cell_type": "code",
   "execution_count": 32,
   "id": "f3620084",
   "metadata": {},
   "outputs": [
    {
     "name": "stdout",
     "output_type": "stream",
     "text": [
      "['black', 'WHITE', 'grey', 'silver', 'WHITE', 'grey', 'silver', 'maroon', 2022, 'RED']\n"
     ]
    }
   ],
   "source": [
    "print(mystr_list)"
   ]
  },
  {
   "cell_type": "code",
   "execution_count": 33,
   "id": "95a82426",
   "metadata": {},
   "outputs": [],
   "source": [
    "mystr_list.append(['red','BLUE','Green'])\n",
    "\n",
    "newlist = ['red','BLUE','Green']\n",
    "mystr_list.append(newlist)"
   ]
  },
  {
   "cell_type": "code",
   "execution_count": 34,
   "id": "99b83d8d",
   "metadata": {},
   "outputs": [
    {
     "name": "stdout",
     "output_type": "stream",
     "text": [
      "['black', 'WHITE', 'grey', 'silver', 'WHITE', 'grey', 'silver', 'maroon', 2022, 'RED', ['red', 'BLUE', 'Green'], ['red', 'BLUE', 'Green']]\n"
     ]
    }
   ],
   "source": [
    "print(mystr_list)"
   ]
  },
  {
   "cell_type": "markdown",
   "id": "43562851",
   "metadata": {},
   "source": [
    "### Copying a List\n",
    "It is possible to copy a list by reassigning it to a new variable in the following way: list2 = list1. Now, list2 is a reference of list1, any changes we make in list2 will also modify the original, list1. \n",
    "\n",
    "But there are lots of case in which we do not like to modify the original instead we like to have a different copy. One of way of avoiding the problem above is using copy().\n",
    "\n",
    "### **2. copy()**"
   ]
  },
  {
   "cell_type": "code",
   "execution_count": 35,
   "id": "d7be0bcd",
   "metadata": {},
   "outputs": [],
   "source": [
    "# create a list from an existing list\n",
    "\n",
    "mystr_list_new = mystr_list"
   ]
  },
  {
   "cell_type": "code",
   "execution_count": 36,
   "id": "bb21997b",
   "metadata": {},
   "outputs": [
    {
     "name": "stdout",
     "output_type": "stream",
     "text": [
      "['black', 'WHITE', 'grey', 'silver', 'WHITE', 'grey', 'silver', 'maroon', 2022, 'RED', ['red', 'BLUE', 'Green'], ['red', 'BLUE', 'Green']]\n",
      "\n",
      "['black', 'WHITE', 'grey', 'silver', 'WHITE', 'grey', 'silver', 'maroon', 2022, 'RED', ['red', 'BLUE', 'Green'], ['red', 'BLUE', 'Green']]\n"
     ]
    }
   ],
   "source": [
    "print(mystr_list_new, mystr_list, sep = '\\n\\n')"
   ]
  },
  {
   "cell_type": "code",
   "execution_count": 37,
   "id": "783da71b",
   "metadata": {},
   "outputs": [],
   "source": [
    "mystr_list_new.append('YELLOW')"
   ]
  },
  {
   "cell_type": "code",
   "execution_count": 38,
   "id": "2c728263",
   "metadata": {},
   "outputs": [
    {
     "name": "stdout",
     "output_type": "stream",
     "text": [
      "['black', 'WHITE', 'grey', 'silver', 'WHITE', 'grey', 'silver', 'maroon', 2022, 'RED', ['red', 'BLUE', 'Green'], ['red', 'BLUE', 'Green'], 'YELLOW']\n",
      "\n",
      "['black', 'WHITE', 'grey', 'silver', 'WHITE', 'grey', 'silver', 'maroon', 2022, 'RED', ['red', 'BLUE', 'Green'], ['red', 'BLUE', 'Green'], 'YELLOW']\n"
     ]
    }
   ],
   "source": [
    "print(mystr_list_new, mystr_list, sep = '\\n\\n')"
   ]
  },
  {
   "cell_type": "code",
   "execution_count": 39,
   "id": "c3a32ecd",
   "metadata": {},
   "outputs": [
    {
     "name": "stdout",
     "output_type": "stream",
     "text": [
      "2244909595712\n",
      "\n",
      "2244909595712\n"
     ]
    }
   ],
   "source": [
    "print(id(mystr_list_new), id(mystr_list), sep = '\\n\\n')"
   ]
  },
  {
   "cell_type": "code",
   "execution_count": 41,
   "id": "b0fbf279",
   "metadata": {},
   "outputs": [],
   "source": [
    "# using copy()\n",
    "\n",
    "mystr_list_new = mystr_list.copy()"
   ]
  },
  {
   "cell_type": "code",
   "execution_count": 42,
   "id": "37b5aa04",
   "metadata": {},
   "outputs": [
    {
     "name": "stdout",
     "output_type": "stream",
     "text": [
      "2244909864384\n",
      "\n",
      "2244909595712\n"
     ]
    }
   ],
   "source": [
    "print(id(mystr_list_new), id(mystr_list), sep = '\\n\\n')"
   ]
  },
  {
   "cell_type": "markdown",
   "id": "e4ce2b6a",
   "metadata": {},
   "source": [
    "### Counting Items in a List\n",
    "The count() method returns the number of times an item appears in a list:\n",
    "\n",
    "### 3. count()"
   ]
  },
  {
   "cell_type": "code",
   "execution_count": 43,
   "id": "014d4b88",
   "metadata": {},
   "outputs": [
    {
     "data": {
      "text/plain": [
       "0"
      ]
     },
     "execution_count": 43,
     "metadata": {},
     "output_type": "execute_result"
    }
   ],
   "source": [
    "mystr_list.count(2023)\n"
   ]
  },
  {
   "cell_type": "code",
   "execution_count": 44,
   "id": "e248938d",
   "metadata": {},
   "outputs": [
    {
     "data": {
      "text/plain": [
       "1"
      ]
     },
     "execution_count": 44,
     "metadata": {},
     "output_type": "execute_result"
    }
   ],
   "source": [
    "mystr_list.count('RED')"
   ]
  },
  {
   "cell_type": "code",
   "execution_count": 45,
   "id": "970eee26",
   "metadata": {},
   "outputs": [
    {
     "data": {
      "text/plain": [
       "2"
      ]
     },
     "execution_count": 45,
     "metadata": {},
     "output_type": "execute_result"
    }
   ],
   "source": [
    "mystr_list.count('silver')"
   ]
  },
  {
   "cell_type": "markdown",
   "id": "1624543f",
   "metadata": {},
   "source": [
    "\n",
    "### 4. extend()\n",
    "Joining using extend() method The extend() method allows to append list in a list. See the example below."
   ]
  },
  {
   "cell_type": "code",
   "execution_count": 46,
   "id": "7c5ec7bb",
   "metadata": {},
   "outputs": [],
   "source": [
    "newlist = ['red','BLUE','Green']\n",
    "mystr_list.extend(newlist)"
   ]
  },
  {
   "cell_type": "code",
   "execution_count": 47,
   "id": "c3d0be55",
   "metadata": {},
   "outputs": [
    {
     "name": "stdout",
     "output_type": "stream",
     "text": [
      "['black', 'WHITE', 'grey', 'silver', 'WHITE', 'grey', 'silver', 'maroon', 2022, 'RED', ['red', 'BLUE', 'Green'], ['red', 'BLUE', 'Green'], 'YELLOW', 'red', 'BLUE', 'Green']\n"
     ]
    }
   ],
   "source": [
    "print(mystr_list)"
   ]
  },
  {
   "cell_type": "code",
   "execution_count": 20,
   "id": "3fbc33b5",
   "metadata": {},
   "outputs": [
    {
     "name": "stdout",
     "output_type": "stream",
     "text": [
      "Numbers: [0, 1, 2, 3, 4, 5, 6]\n",
      "Integers: [-5, -4, -3, -2, -1, 0, 1, 2, 3, 4, 5]\n",
      "Fruits and vegetables: ['banana', 'orange', 'mango', 'lemon', 'Tomato', 'Potato', 'Cabbage', 'Onion', 'Carrot']\n"
     ]
    }
   ],
   "source": [
    "num1 = [0, 1, 2, 3]\n",
    "num2= [4, 5, 6]\n",
    "num1.extend(num2)\n",
    "print('Numbers:', num1) # Numbers: [0, 1, 2, 3, 4, 5, 6]\n",
    "negative_numbers = [-5,-4,-3,-2,-1]\n",
    "positive_numbers = [1, 2, 3,4,5]\n",
    "zero = [0]\n",
    "\n",
    "negative_numbers.extend(zero)\n",
    "negative_numbers.extend(positive_numbers)\n",
    "print('Integers:', negative_numbers) # Integers: [-5, -4, -3, -2, -1, 0, 1, 2, 3, 4, 5]\n",
    "fruits = ['banana', 'orange', 'mango', 'lemon']\n",
    "vegetables = ['Tomato', 'Potato', 'Cabbage', 'Onion', 'Carrot']\n",
    "fruits.extend(vegetables)\n",
    "print('Fruits and vegetables:', fruits )"
   ]
  },
  {
   "cell_type": "markdown",
   "id": "083891c6",
   "metadata": {},
   "source": [
    "### Finding Index of an Item\n",
    "The index() method returns the index of an item in the list:\n",
    "\n",
    "### 5.. index()"
   ]
  },
  {
   "cell_type": "code",
   "execution_count": 48,
   "id": "cfb5e076",
   "metadata": {},
   "outputs": [
    {
     "data": {
      "text/plain": [
       "13"
      ]
     },
     "execution_count": 48,
     "metadata": {},
     "output_type": "execute_result"
    }
   ],
   "source": [
    "mystr_list.index('red') # Return first index of value."
   ]
  },
  {
   "cell_type": "code",
   "execution_count": 49,
   "id": "6dbf53ff",
   "metadata": {},
   "outputs": [
    {
     "data": {
      "text/plain": [
       "3"
      ]
     },
     "execution_count": 49,
     "metadata": {},
     "output_type": "execute_result"
    },
    {
     "data": {
      "text/plain": [
       "6"
      ]
     },
     "execution_count": 49,
     "metadata": {},
     "output_type": "execute_result"
    }
   ],
   "source": [
    "mystr_list.index('silver') # Return first index of value.\n",
    "mystr_list.index('silver', 4) # second index of value."
   ]
  },
  {
   "cell_type": "code",
   "execution_count": 50,
   "id": "fda0ffc2",
   "metadata": {},
   "outputs": [
    {
     "ename": "ValueError",
     "evalue": "'silver' is not in list",
     "output_type": "error",
     "traceback": [
      "\u001b[1;31m---------------------------------------------------------------------------\u001b[0m",
      "\u001b[1;31mValueError\u001b[0m                                Traceback (most recent call last)",
      "Input \u001b[1;32mIn [50]\u001b[0m, in \u001b[0;36m<cell line: 1>\u001b[1;34m()\u001b[0m\n\u001b[1;32m----> 1\u001b[0m \u001b[43mmystr_list\u001b[49m\u001b[38;5;241;43m.\u001b[39;49m\u001b[43mindex\u001b[49m\u001b[43m(\u001b[49m\u001b[38;5;124;43m'\u001b[39;49m\u001b[38;5;124;43msilver\u001b[39;49m\u001b[38;5;124;43m'\u001b[39;49m\u001b[43m,\u001b[49m\u001b[43m \u001b[49m\u001b[38;5;241;43m7\u001b[39;49m\u001b[43m)\u001b[49m\n",
      "\u001b[1;31mValueError\u001b[0m: 'silver' is not in list"
     ]
    }
   ],
   "source": [
    "mystr_list.index('silver', 7)"
   ]
  },
  {
   "cell_type": "markdown",
   "id": "0bcb2076",
   "metadata": {},
   "source": [
    "### Inserting Items into a List\n",
    "We can use insert() method to insert a single item at a specified index in a list. Note that other items are shifted to the right. The insert() methods takes two arguments:index and an item to insert.\n",
    "\n",
    "### 6. insert()"
   ]
  },
  {
   "cell_type": "code",
   "execution_count": 51,
   "id": "b8ef4904",
   "metadata": {},
   "outputs": [],
   "source": [
    "mystr_list.insert(0, 'ORANGE') # Insert object before index."
   ]
  },
  {
   "cell_type": "code",
   "execution_count": 52,
   "id": "ed79f91b",
   "metadata": {},
   "outputs": [
    {
     "name": "stdout",
     "output_type": "stream",
     "text": [
      "['ORANGE', 'black', 'WHITE', 'grey', 'silver', 'WHITE', 'grey', 'silver', 'maroon', 2022, 'RED', ['red', 'BLUE', 'Green'], ['red', 'BLUE', 'Green'], 'YELLOW', 'red', 'BLUE', 'Green']\n"
     ]
    }
   ],
   "source": [
    "print(mystr_list)"
   ]
  },
  {
   "cell_type": "code",
   "execution_count": 53,
   "id": "1ee4a3c2",
   "metadata": {},
   "outputs": [],
   "source": [
    "mystr_list.insert(11, 'ORANGE')"
   ]
  },
  {
   "cell_type": "code",
   "execution_count": 54,
   "id": "a114dafa",
   "metadata": {},
   "outputs": [
    {
     "name": "stdout",
     "output_type": "stream",
     "text": [
      "['ORANGE', 'black', 'WHITE', 'grey', 'silver', 'WHITE', 'grey', 'silver', 'maroon', 2022, 'RED', 'ORANGE', ['red', 'BLUE', 'Green'], ['red', 'BLUE', 'Green'], 'YELLOW', 'red', 'BLUE', 'Green']\n"
     ]
    }
   ],
   "source": [
    "print(mystr_list)"
   ]
  },
  {
   "cell_type": "code",
   "execution_count": 55,
   "id": "f43683c0",
   "metadata": {},
   "outputs": [
    {
     "ename": "TypeError",
     "evalue": "insert expected 2 arguments, got 1",
     "output_type": "error",
     "traceback": [
      "\u001b[1;31m---------------------------------------------------------------------------\u001b[0m",
      "\u001b[1;31mTypeError\u001b[0m                                 Traceback (most recent call last)",
      "Input \u001b[1;32mIn [55]\u001b[0m, in \u001b[0;36m<cell line: 1>\u001b[1;34m()\u001b[0m\n\u001b[1;32m----> 1\u001b[0m \u001b[43mmystr_list\u001b[49m\u001b[38;5;241;43m.\u001b[39;49m\u001b[43minsert\u001b[49m\u001b[43m(\u001b[49m\u001b[38;5;124;43m'\u001b[39;49m\u001b[38;5;124;43mPURPLE\u001b[39;49m\u001b[38;5;124;43m'\u001b[39;49m\u001b[43m)\u001b[49m\n",
      "\u001b[1;31mTypeError\u001b[0m: insert expected 2 arguments, got 1"
     ]
    }
   ],
   "source": [
    "mystr_list.insert('PURPLE')\n"
   ]
  },
  {
   "cell_type": "markdown",
   "id": "c7fba0bb",
   "metadata": {},
   "source": [
    "### Removing Items Using Pop\n",
    "The pop() method removes the specified index, (or the last item if index is not specified):\n",
    "\n",
    "### 7. pop()"
   ]
  },
  {
   "cell_type": "code",
   "execution_count": 56,
   "id": "1c680684",
   "metadata": {},
   "outputs": [
    {
     "data": {
      "text/plain": [
       "'Green'"
      ]
     },
     "execution_count": 56,
     "metadata": {},
     "output_type": "execute_result"
    }
   ],
   "source": [
    "mystr_list.pop() # Remove and return item at index (default last)."
   ]
  },
  {
   "cell_type": "code",
   "execution_count": 57,
   "id": "31e5e8eb",
   "metadata": {},
   "outputs": [
    {
     "data": {
      "text/plain": [
       "'ORANGE'"
      ]
     },
     "execution_count": 57,
     "metadata": {},
     "output_type": "execute_result"
    }
   ],
   "source": [
    "mystr_list.pop(0)"
   ]
  },
  {
   "cell_type": "code",
   "execution_count": 58,
   "id": "2712b349",
   "metadata": {},
   "outputs": [
    {
     "name": "stdout",
     "output_type": "stream",
     "text": [
      "['black', 'WHITE', 'grey', 'silver', 'WHITE', 'grey', 'silver', 'maroon', 2022, 'RED', 'ORANGE', ['red', 'BLUE', 'Green'], ['red', 'BLUE', 'Green'], 'YELLOW', 'red', 'BLUE']\n"
     ]
    }
   ],
   "source": [
    "print(mystr_list)"
   ]
  },
  {
   "cell_type": "markdown",
   "id": "94e31c59",
   "metadata": {},
   "source": [
    "### Removing Items from a List\n",
    "The remove method removes a specified item from a list\n",
    "\n",
    "### 8. remove()"
   ]
  },
  {
   "cell_type": "code",
   "execution_count": 59,
   "id": "ebcdbd44",
   "metadata": {},
   "outputs": [],
   "source": [
    "mystr_list.remove('silver') # Remove first occurrence of value."
   ]
  },
  {
   "cell_type": "code",
   "execution_count": 60,
   "id": "c3b7da94",
   "metadata": {},
   "outputs": [
    {
     "name": "stdout",
     "output_type": "stream",
     "text": [
      "['black', 'WHITE', 'grey', 'WHITE', 'grey', 'silver', 'maroon', 2022, 'RED', 'ORANGE', ['red', 'BLUE', 'Green'], ['red', 'BLUE', 'Green'], 'YELLOW', 'red', 'BLUE']\n"
     ]
    }
   ],
   "source": [
    "print(mystr_list)"
   ]
  },
  {
   "cell_type": "markdown",
   "id": "02eacec3",
   "metadata": {},
   "source": [
    "### Reversing a List\n",
    "The reverse() method reverses the order of a list.\n",
    "\n",
    "### 9. reverse()"
   ]
  },
  {
   "cell_type": "code",
   "execution_count": 62,
   "id": "bff43279",
   "metadata": {},
   "outputs": [],
   "source": [
    "mystr_list.reverse() # Reverse *IN PLACE*. reverses the list and store the output into the same variable"
   ]
  },
  {
   "cell_type": "code",
   "execution_count": 64,
   "id": "3f4132ad",
   "metadata": {},
   "outputs": [
    {
     "name": "stdout",
     "output_type": "stream",
     "text": [
      "['black', 'WHITE', 'grey', 'WHITE', 'grey', 'silver', 'maroon', 2022, 'RED', 'ORANGE', ['red', 'BLUE', 'Green'], ['red', 'BLUE', 'Green'], 'YELLOW', 'red', 'BLUE']\n"
     ]
    }
   ],
   "source": [
    "print(mystr_list)"
   ]
  },
  {
   "cell_type": "code",
   "execution_count": 21,
   "id": "8b98b5dd",
   "metadata": {},
   "outputs": [
    {
     "name": "stdout",
     "output_type": "stream",
     "text": [
      "['lemon', 'mango', 'orange', 'banana']\n",
      "[24, 25, 24, 26, 25, 24, 19, 22]\n"
     ]
    }
   ],
   "source": [
    "fruits = ['banana', 'orange', 'mango', 'lemon']\n",
    "fruits.reverse()\n",
    "print(fruits) # ['lemon', 'mango', 'orange', 'banana']\n",
    "ages = [22, 19, 24, 25, 26, 24, 25, 24]\n",
    "ages.reverse()\n",
    "print(ages) # [24, 25, 24, 26, 25, 24, 19, 22]"
   ]
  },
  {
   "cell_type": "markdown",
   "id": "65dc97a2",
   "metadata": {},
   "source": [
    "### Sorting List Items\n",
    "To sort lists we can use sort() method or sorted() built-in functions. The sort() method reorders the list items in ascending order and modifies the original list.\n",
    "\n",
    "If an argument of sort() method reverse is equal to true, it will arrange the list in descending order.\n",
    "\n",
    "sort(): this method modifies the original list\n",
    "\n",
    "### 10. sort()"
   ]
  },
  {
   "cell_type": "code",
   "execution_count": 65,
   "id": "2d497abe",
   "metadata": {},
   "outputs": [
    {
     "ename": "TypeError",
     "evalue": "'<' not supported between instances of 'int' and 'str'",
     "output_type": "error",
     "traceback": [
      "\u001b[1;31m---------------------------------------------------------------------------\u001b[0m",
      "\u001b[1;31mTypeError\u001b[0m                                 Traceback (most recent call last)",
      "Input \u001b[1;32mIn [65]\u001b[0m, in \u001b[0;36m<cell line: 1>\u001b[1;34m()\u001b[0m\n\u001b[1;32m----> 1\u001b[0m \u001b[43mmystr_list\u001b[49m\u001b[38;5;241;43m.\u001b[39;49m\u001b[43msort\u001b[49m\u001b[43m(\u001b[49m\u001b[43m)\u001b[49m\n",
      "\u001b[1;31mTypeError\u001b[0m: '<' not supported between instances of 'int' and 'str'"
     ]
    }
   ],
   "source": [
    "mystr_list.sort()\n"
   ]
  },
  {
   "cell_type": "code",
   "execution_count": 66,
   "id": "63383a05",
   "metadata": {},
   "outputs": [],
   "source": [
    "mystr_list.sort(key = str)"
   ]
  },
  {
   "cell_type": "code",
   "execution_count": 67,
   "id": "c345b353",
   "metadata": {},
   "outputs": [
    {
     "name": "stdout",
     "output_type": "stream",
     "text": [
      "[2022, 'BLUE', 'ORANGE', 'RED', 'WHITE', 'WHITE', 'YELLOW', ['red', 'BLUE', 'Green'], ['red', 'BLUE', 'Green'], 'black', 'grey', 'grey', 'maroon', 'red', 'silver']\n"
     ]
    }
   ],
   "source": [
    "print(mystr_list)"
   ]
  },
  {
   "cell_type": "code",
   "execution_count": 68,
   "id": "9d43ed02",
   "metadata": {},
   "outputs": [],
   "source": [
    "newlist = ['black', 'grey', 'grey', 'maroon', 'red', 'silver']"
   ]
  },
  {
   "cell_type": "code",
   "execution_count": 69,
   "id": "e77d37d9",
   "metadata": {},
   "outputs": [
    {
     "name": "stdout",
     "output_type": "stream",
     "text": [
      "['black', 'grey', 'grey', 'maroon', 'red', 'silver']\n",
      "['silver', 'red', 'maroon', 'grey', 'grey', 'black']\n"
     ]
    }
   ],
   "source": [
    "newlist.sort()\n",
    "print(newlist)\n",
    "newlist.sort(reverse=True)\n",
    "print(newlist)"
   ]
  },
  {
   "cell_type": "code",
   "execution_count": 22,
   "id": "cc40965e",
   "metadata": {},
   "outputs": [
    {
     "name": "stdout",
     "output_type": "stream",
     "text": [
      "['banana', 'lemon', 'mango', 'orange']\n",
      "['orange', 'mango', 'lemon', 'banana']\n",
      "[19, 22, 24, 24, 24, 25, 25, 26]\n",
      "[26, 25, 25, 24, 24, 24, 22, 19]\n"
     ]
    }
   ],
   "source": [
    "fruits = ['banana', 'orange', 'mango', 'lemon']\n",
    "fruits.sort()\n",
    "print(fruits)             # sorted in alphabetical order, ['banana', 'lemon', 'mango', 'orange']\n",
    "fruits.sort(reverse=True)\n",
    "print(fruits) # ['orange', 'mango', 'lemon', 'banana']\n",
    "ages = [22, 19, 24, 25, 26, 24, 25, 24]\n",
    "ages.sort()\n",
    "print(ages) #  [19, 22, 24, 24, 24, 25, 25, 26]\n",
    "\n",
    "ages.sort(reverse=True)\n",
    "print(ages) #  [26, 25, 25, 24, 24, 24, 22, 19]"
   ]
  },
  {
   "cell_type": "markdown",
   "id": "f632534f",
   "metadata": {},
   "source": [
    "### sorted(): returns the ordered list without modifying the original list Example:"
   ]
  },
  {
   "cell_type": "code",
   "execution_count": 23,
   "id": "abbe0c7a",
   "metadata": {},
   "outputs": [
    {
     "name": "stdout",
     "output_type": "stream",
     "text": [
      "['banana', 'lemon', 'mango', 'orange']\n",
      "['orange', 'mango', 'lemon', 'banana']\n"
     ]
    }
   ],
   "source": [
    "fruits = ['banana', 'orange', 'mango', 'lemon']\n",
    "print(sorted(fruits))   # ['banana', 'lemon', 'mango', 'orange']\n",
    "# Reverse order\n",
    "fruits = ['banana', 'orange', 'mango', 'lemon']\n",
    "fruits = sorted(fruits,reverse=True)\n",
    "print(fruits)     # ['orange', 'mango', 'lemon', 'banana']"
   ]
  },
  {
   "cell_type": "markdown",
   "id": "abf55d59",
   "metadata": {},
   "source": [
    "### Clearing List Items\n",
    "The clear() method empties the list:\n",
    "\n",
    "### 11. clear()"
   ]
  },
  {
   "cell_type": "code",
   "execution_count": 70,
   "id": "c611fedd",
   "metadata": {},
   "outputs": [
    {
     "name": "stdout",
     "output_type": "stream",
     "text": [
      "[]\n"
     ]
    }
   ],
   "source": [
    "mystr_list.clear()\n",
    "print(mystr_list)"
   ]
  },
  {
   "cell_type": "markdown",
   "id": "4749750c",
   "metadata": {},
   "source": [
    "## Empty list"
   ]
  },
  {
   "cell_type": "code",
   "execution_count": 71,
   "id": "b3567030",
   "metadata": {},
   "outputs": [],
   "source": [
    "list1 = [] # this is an empty list"
   ]
  },
  {
   "cell_type": "code",
   "execution_count": 72,
   "id": "3c5dd8e8",
   "metadata": {},
   "outputs": [
    {
     "name": "stdout",
     "output_type": "stream",
     "text": [
      "[]\n"
     ]
    }
   ],
   "source": [
    "print(list1)"
   ]
  },
  {
   "cell_type": "code",
   "execution_count": 73,
   "id": "ccc1bd67",
   "metadata": {},
   "outputs": [],
   "source": [
    "list1.append(100)"
   ]
  },
  {
   "cell_type": "code",
   "execution_count": 74,
   "id": "4f486893",
   "metadata": {},
   "outputs": [
    {
     "name": "stdout",
     "output_type": "stream",
     "text": [
      "[100]\n"
     ]
    }
   ],
   "source": [
    "print(list1)"
   ]
  },
  {
   "cell_type": "markdown",
   "id": "612873c8",
   "metadata": {},
   "source": [
    "### Removing Items Using Del\n",
    "The del keyword removes the specified index and it can also be used to delete items within index range. It can also delete the list completely"
   ]
  },
  {
   "cell_type": "code",
   "execution_count": 16,
   "id": "3953d923",
   "metadata": {},
   "outputs": [],
   "source": [
    "# syntax\n",
    "lst = ['item1', 'item2']\n",
    "del lst[0] # only a single item\n",
    "del lst        # to delete the list completely"
   ]
  },
  {
   "cell_type": "code",
   "execution_count": 17,
   "id": "5648db62",
   "metadata": {},
   "outputs": [
    {
     "name": "stdout",
     "output_type": "stream",
     "text": [
      "['orange', 'mango', 'lemon', 'kiwi', 'lime']\n",
      "['orange', 'lemon', 'kiwi', 'lime']\n",
      "['orange', 'lime']\n"
     ]
    },
    {
     "ename": "NameError",
     "evalue": "name 'fruits' is not defined",
     "output_type": "error",
     "traceback": [
      "\u001b[1;31m---------------------------------------------------------------------------\u001b[0m",
      "\u001b[1;31mNameError\u001b[0m                                 Traceback (most recent call last)",
      "\u001b[1;32m~\\AppData\\Local\\Temp\\ipykernel_11000\\1793915987.py\u001b[0m in \u001b[0;36m<module>\u001b[1;34m\u001b[0m\n\u001b[0;32m      7\u001b[0m \u001b[0mprint\u001b[0m\u001b[1;33m(\u001b[0m\u001b[0mfruits\u001b[0m\u001b[1;33m)\u001b[0m       \u001b[1;31m# ['orange', 'lime']\u001b[0m\u001b[1;33m\u001b[0m\u001b[1;33m\u001b[0m\u001b[0m\n\u001b[0;32m      8\u001b[0m \u001b[1;32mdel\u001b[0m \u001b[0mfruits\u001b[0m\u001b[1;33m\u001b[0m\u001b[1;33m\u001b[0m\u001b[0m\n\u001b[1;32m----> 9\u001b[1;33m \u001b[0mprint\u001b[0m\u001b[1;33m(\u001b[0m\u001b[0mfruits\u001b[0m\u001b[1;33m)\u001b[0m       \u001b[1;31m# This should give: NameError: name 'fruits' is not defined\u001b[0m\u001b[1;33m\u001b[0m\u001b[1;33m\u001b[0m\u001b[0m\n\u001b[0m",
      "\u001b[1;31mNameError\u001b[0m: name 'fruits' is not defined"
     ]
    }
   ],
   "source": [
    "fruits = ['banana', 'orange', 'mango', 'lemon', 'kiwi', 'lime']\n",
    "del fruits[0]\n",
    "print(fruits)       # ['orange', 'mango', 'lemon', 'kiwi', 'lime']\n",
    "del fruits[1]\n",
    "print(fruits)       # ['orange', 'lemon', 'kiwi', 'lime']\n",
    "del fruits[1:3]     # this deletes items between given indexes, so it does not delete the item with index 3!\n",
    "print(fruits)       # ['orange', 'lime']\n",
    "del fruits\n",
    "print(fruits)       # This should give: NameError: name 'fruits' is not defined"
   ]
  },
  {
   "cell_type": "markdown",
   "id": "6d261aa4",
   "metadata": {},
   "source": [
    "### Operators on List\n",
    "Operators like `+` and `*` on lists work in the similar way of strings.\n",
    "\n",
    "`+` - Concatenation. `*` - Repetition.\n",
    "\n",
    "Membership operator works on list as well with keywords - `in` and `not in.`"
   ]
  },
  {
   "cell_type": "markdown",
   "id": "cba2c209",
   "metadata": {},
   "source": [
    "### Joining Lists\n",
    "There are several ways to join, or concatenate, two or more lists in Python.\n",
    "\n",
    "Plus Operator (+)"
   ]
  },
  {
   "cell_type": "code",
   "execution_count": 75,
   "id": "c77847b4",
   "metadata": {},
   "outputs": [],
   "source": [
    "newlist = ['black', 'grey', 'grey', 'maroon', 'red', 'silver']\n",
    "list1 = [10,20,30,40,50]"
   ]
  },
  {
   "cell_type": "code",
   "execution_count": 76,
   "id": "2ed67147",
   "metadata": {},
   "outputs": [
    {
     "name": "stdout",
     "output_type": "stream",
     "text": [
      "['black', 'grey', 'grey', 'maroon', 'red', 'silver', 10, 20, 30, 40, 50]\n"
     ]
    }
   ],
   "source": [
    "print(newlist + list1)"
   ]
  },
  {
   "cell_type": "code",
   "execution_count": 18,
   "id": "0f59a0e4",
   "metadata": {},
   "outputs": [
    {
     "name": "stdout",
     "output_type": "stream",
     "text": [
      "[-5, -4, -3, -2, -1, 0, 1, 2, 3, 4, 5]\n",
      "['banana', 'orange', 'mango', 'lemon', 'Tomato', 'Potato', 'Cabbage', 'Onion', 'Carrot']\n"
     ]
    }
   ],
   "source": [
    "positive_numbers = [1, 2, 3, 4, 5]\n",
    "zero = [0]\n",
    "negative_numbers = [-5,-4,-3,-2,-1]\n",
    "integers = negative_numbers + zero + positive_numbers\n",
    "print(integers) # [-5, -4, -3, -2, -1, 0, 1, 2, 3, 4, 5]\n",
    "fruits = ['banana', 'orange', 'mango', 'lemon']\n",
    "vegetables = ['Tomato', 'Potato', 'Cabbage', 'Onion', 'Carrot']\n",
    "fruits_and_vegetables = fruits + vegetables\n",
    "print(fruits_and_vegetables ) # ['banana', 'orange', 'mango', 'lemon', 'Tomato', 'Potato', 'Cabbage', 'Onion', 'Carrot']"
   ]
  },
  {
   "cell_type": "code",
   "execution_count": 77,
   "id": "682a3a55",
   "metadata": {},
   "outputs": [
    {
     "name": "stdout",
     "output_type": "stream",
     "text": [
      "[10, 20, 30, 40, 50, 10, 20, 30, 40, 50, 10, 20, 30, 40, 50]\n"
     ]
    }
   ],
   "source": [
    "print(list1*3)"
   ]
  },
  {
   "cell_type": "markdown",
   "id": "f1ed792d",
   "metadata": {},
   "source": [
    "#### Checking Items in a List\n",
    "Checking an item if it is a member of a list using in operator. See the example below."
   ]
  },
  {
   "cell_type": "code",
   "execution_count": 78,
   "id": "152dde15",
   "metadata": {},
   "outputs": [
    {
     "data": {
      "text/plain": [
       "True"
      ]
     },
     "execution_count": 78,
     "metadata": {},
     "output_type": "execute_result"
    }
   ],
   "source": [
    "50 in list1"
   ]
  },
  {
   "cell_type": "code",
   "execution_count": 79,
   "id": "f067d4aa",
   "metadata": {},
   "outputs": [
    {
     "data": {
      "text/plain": [
       "False"
      ]
     },
     "execution_count": 79,
     "metadata": {},
     "output_type": "execute_result"
    }
   ],
   "source": [
    "'red' not in newlist"
   ]
  },
  {
   "cell_type": "markdown",
   "id": "5fcc4ae9",
   "metadata": {},
   "source": [
    "## Built-in List Functions"
   ]
  },
  {
   "cell_type": "code",
   "execution_count": 80,
   "id": "a2abd375",
   "metadata": {},
   "outputs": [
    {
     "data": {
      "text/plain": [
       "6"
      ]
     },
     "execution_count": 80,
     "metadata": {},
     "output_type": "execute_result"
    },
    {
     "data": {
      "text/plain": [
       "10"
      ]
     },
     "execution_count": 80,
     "metadata": {},
     "output_type": "execute_result"
    },
    {
     "data": {
      "text/plain": [
       "50"
      ]
     },
     "execution_count": 80,
     "metadata": {},
     "output_type": "execute_result"
    },
    {
     "data": {
      "text/plain": [
       "range(1, 101)"
      ]
     },
     "execution_count": 80,
     "metadata": {},
     "output_type": "execute_result"
    },
    {
     "name": "stdout",
     "output_type": "stream",
     "text": [
      "[1, 11, 21, 31, 41, 51, 61, 71, 81, 91]\n",
      "['P', 'Y', 'T', 'H', 'O', 'N', ' ', 'P', 'R', 'O', 'G', 'R', 'A', 'M']\n"
     ]
    },
    {
     "data": {
      "text/plain": [
       "'P_Y_T_H_O_N_ _P_R_O_G_R_A_M'"
      ]
     },
     "execution_count": 80,
     "metadata": {},
     "output_type": "execute_result"
    },
    {
     "data": {
      "text/plain": [
       "'P.Y.T.H.O.N. .P.R.O.G.R.A.M'"
      ]
     },
     "execution_count": 80,
     "metadata": {},
     "output_type": "execute_result"
    },
    {
     "data": {
      "text/plain": [
       "'PYTHON PROGRAM'"
      ]
     },
     "execution_count": 80,
     "metadata": {},
     "output_type": "execute_result"
    }
   ],
   "source": [
    "# len()\n",
    "len(newlist)\n",
    "\n",
    "# min() & max()\n",
    "min(list1)\n",
    "max(list1)\n",
    "\n",
    "# create a list using \"range\" function\n",
    "range(1,101)\n",
    "\n",
    "# list() - converts an iterable into a list object\n",
    "print(list(range(1,101,10)))\n",
    "\n",
    "# str to list \n",
    "x = list('PYTHON PROGRAM')\n",
    "print(x)\n",
    "# list to str \n",
    "'_'.join(x)\n",
    "'.'.join(x)\n",
    "''.join(x)"
   ]
  },
  {
   "cell_type": "markdown",
   "id": "c3027298",
   "metadata": {},
   "source": [
    "## Practice for list"
   ]
  },
  {
   "cell_type": "markdown",
   "id": "16014792",
   "metadata": {},
   "source": [
    "### Exercises: Level 1\n",
    "\n",
    "1. Declare an empty list\n",
    "2. Declare a list with more than 5 items\n",
    "3. Find the length of your list\n",
    "4. Get the first item, the middle item and the last item of the list\n",
    "5. Declare a list called mixed_data_types, put your(name, age, height, marital status, address)\n",
    "6. Declare a list variable named it_companies and assign initial values Facebook, Google, Microsoft, Apple, IBM, Oracle and Amazon.\n",
    "7. Print the list using _print()_\n",
    "8. Print the number of companies in the list\n",
    "9. Print the first, middle and last company\n",
    "10. Print the list after modifying one of the companies\n",
    "11. Add an IT company to it_companies\n",
    "12. Insert an IT company in the middle of the companies list\n",
    "13. Change one of the it_companies names to uppercase (IBM excluded!)\n",
    "14. Join the it_companies with a string '#;&nbsp; '\n",
    "15. Check if a certain company exists in the it_companies list.\n",
    "16. Sort the list using sort() method\n",
    "17. Reverse the list in descending order using reverse() method\n",
    "18. Slice out the first 3 companies from the list\n",
    "19. Slice out the last 3 companies from the list\n",
    "20. Slice out the middle IT company or companies from the list\n",
    "21. Remove the first IT company from the list\n",
    "22. Remove the middle IT company or companies from the list\n",
    "23. Remove the last IT company from the list\n",
    "24. Remove all IT companies from the list\n",
    "25. Destroy the IT companies list\n",
    "26. Join the following lists:\n",
    "\n",
    "    ```py\n",
    "    front_end = ['HTML', 'CSS', 'JS', 'React', 'Redux']\n",
    "    back_end = ['Node','Express', 'MongoDB']\n",
    "    ```\n",
    "\n",
    "27. After joining the lists in question 26. Copy the joined list and assign it to a variable full_stack. Then insert Python and SQL after Redux.\n",
    "\n",
    "### Exercises: Level 2\n",
    "\n",
    "1. The following is a list of 10 students ages:\n",
    "\n",
    "```sh\n",
    "ages = [19, 22, 19, 24, 20, 25, 26, 24, 25, 24]\n",
    "```\n",
    "\n",
    "- Sort the list and find the min and max age\n",
    "- Add the min age and the max age again to the list\n",
    "- Find the median age (one middle item or two middle items divided by two)\n",
    "- Find the average age (sum of all items divided by their number )\n",
    "- Find the range of the ages (max minus min)\n",
    "- Compare the value of (min - average) and (max - average), use _abs()_ method\n",
    "\n",
    "1. Find the middle country(ies) in the [countries list](https://github.com/Asabeneh/30-Days-Of-Python/tree/master/data/countries.py)\n",
    "1. Divide the countries list into two equal lists if it is even if not one more country for the first half.\n",
    "1. ['China', 'Russia', 'USA', 'Finland', 'Sweden', 'Norway', 'Denmark']. Unpack the first three countries and the rest as scandic countries.\n"
   ]
  },
  {
   "cell_type": "markdown",
   "id": "d49776ef",
   "metadata": {},
   "source": [
    "## Tuples\n",
    "* A tuple is a collection of different data types which is ordered and unchangeable (immutable).\n",
    "* Tuples are written with round brackets(). \n",
    "* Once a tuple is created, we cannot change its values. We cannot use add, insert, remove methods in a tuple because it is not modifiable (mutable).Unlike list, tuple has few methods. Methods related to tuples:\n",
    "\n",
    "\n",
    "\n",
    "- tuple(): to create an empty tuple\n",
    "- count(): to count the number of a specified item in a tuple\n",
    "- index(): to find the index of a specified item in a tuple\n",
    "- operator: to join two or more tuples and to create a new tuple"
   ]
  },
  {
   "cell_type": "code",
   "execution_count": 26,
   "id": "43b2ead5",
   "metadata": {},
   "outputs": [],
   "source": [
    "# A tuple can be created in two ways\n",
    "\n",
    "# approach 1\n",
    "tup1 = (\"black\", \"white\", \"grey\", \"silver\", \"maroon\")\n",
    "\n",
    "# approach 2\n",
    "tup2 = 10,20,30,40,50,50,10\n",
    "\n",
    "# Duplicates are allowed"
   ]
  },
  {
   "cell_type": "code",
   "execution_count": 27,
   "id": "01af20ce",
   "metadata": {},
   "outputs": [
    {
     "name": "stdout",
     "output_type": "stream",
     "text": [
      "('black', 'white', 'grey', 'silver', 'maroon')\n",
      "(10, 20, 30, 40, 50, 50, 10)\n",
      "<class 'tuple'>\n",
      "<class 'tuple'>\n"
     ]
    }
   ],
   "source": [
    "print(tup1, tup2, sep='\\n')\n",
    "print(type(tup1), type(tup2), sep='\\n')"
   ]
  },
  {
   "cell_type": "markdown",
   "id": "bcdb9b2b",
   "metadata": {},
   "source": [
    "### Tuple Indexing"
   ]
  },
  {
   "cell_type": "code",
   "execution_count": 28,
   "id": "ad3efa42",
   "metadata": {},
   "outputs": [
    {
     "name": "stdout",
     "output_type": "stream",
     "text": [
      "white\n",
      "grey\n",
      "r\n",
      "maroon\n",
      "('maroon', 'silver', 'grey', 'white', 'black')\n"
     ]
    }
   ],
   "source": [
    "print(tup1[1])\n",
    "print(tup1[2])\n",
    "print(tup1[2][1])\n",
    "print(tup1[-1])\n",
    "print(tup1[::-1])"
   ]
  },
  {
   "cell_type": "markdown",
   "id": "5673ef7f",
   "metadata": {},
   "source": [
    "### Changing tuple items"
   ]
  },
  {
   "cell_type": "code",
   "execution_count": 29,
   "id": "dc0415a0",
   "metadata": {},
   "outputs": [
    {
     "ename": "TypeError",
     "evalue": "'tuple' object does not support item assignment",
     "output_type": "error",
     "traceback": [
      "\u001b[1;31m---------------------------------------------------------------------------\u001b[0m",
      "\u001b[1;31mTypeError\u001b[0m                                 Traceback (most recent call last)",
      "\u001b[1;32m~\\AppData\\Local\\Temp\\ipykernel_11000\\1865615421.py\u001b[0m in \u001b[0;36m<module>\u001b[1;34m\u001b[0m\n\u001b[1;32m----> 1\u001b[1;33m \u001b[0mtup1\u001b[0m\u001b[1;33m[\u001b[0m\u001b[1;36m2\u001b[0m\u001b[1;33m]\u001b[0m \u001b[1;33m=\u001b[0m \u001b[1;34m'GREY'\u001b[0m\u001b[1;33m\u001b[0m\u001b[1;33m\u001b[0m\u001b[0m\n\u001b[0m",
      "\u001b[1;31mTypeError\u001b[0m: 'tuple' object does not support item assignment"
     ]
    }
   ],
   "source": [
    "tup1[2] = 'GREY'"
   ]
  },
  {
   "cell_type": "markdown",
   "id": "c472f5b3",
   "metadata": {},
   "source": [
    "### Tuple methods"
   ]
  },
  {
   "cell_type": "code",
   "execution_count": 30,
   "id": "0d79b50f",
   "metadata": {},
   "outputs": [
    {
     "name": "stdout",
     "output_type": "stream",
     "text": [
      "['__add__', '__class__', '__class_getitem__', '__contains__', '__delattr__', '__dir__', '__doc__', '__eq__', '__format__', '__ge__', '__getattribute__', '__getitem__', '__getnewargs__', '__gt__', '__hash__', '__init__', '__init_subclass__', '__iter__', '__le__', '__len__', '__lt__', '__mul__', '__ne__', '__new__', '__reduce__', '__reduce_ex__', '__repr__', '__rmul__', '__setattr__', '__sizeof__', '__str__', '__subclasshook__', 'count', 'index']\n"
     ]
    }
   ],
   "source": [
    "print(dir(tuple))"
   ]
  },
  {
   "cell_type": "code",
   "execution_count": 34,
   "id": "55c7d6b2",
   "metadata": {},
   "outputs": [
    {
     "data": {
      "text/plain": [
       "2"
      ]
     },
     "execution_count": 34,
     "metadata": {},
     "output_type": "execute_result"
    },
    {
     "data": {
      "text/plain": [
       "0"
      ]
     },
     "execution_count": 34,
     "metadata": {},
     "output_type": "execute_result"
    },
    {
     "data": {
      "text/plain": [
       "6"
      ]
     },
     "execution_count": 34,
     "metadata": {},
     "output_type": "execute_result"
    }
   ],
   "source": [
    "tup2.count(10)\n",
    "\n",
    "tup2.index(10)\n",
    "tup2.index(10, 1)"
   ]
  },
  {
   "cell_type": "markdown",
   "id": "99d31d36",
   "metadata": {},
   "source": [
    "#### Operators on Tuple\n",
    "\n",
    "    Operators like + and * on tuple work in the similar way of strings.\n",
    "\n",
    "`+` - Concatenation. `*` - Repetition.\n",
    "\n",
    "Membership operator works on tuple as well with keywords - `in` and `not in`."
   ]
  },
  {
   "cell_type": "code",
   "execution_count": 87,
   "id": "317a0e58",
   "metadata": {},
   "outputs": [
    {
     "data": {
      "text/plain": [
       "('black', 'white', 'grey', 'silver', 'maroon', 10, 20, 30, 40, 50, 50, 10)"
      ]
     },
     "execution_count": 87,
     "metadata": {},
     "output_type": "execute_result"
    }
   ],
   "source": [
    "tup1+tup2"
   ]
  },
  {
   "cell_type": "code",
   "execution_count": 88,
   "id": "bfcfac10",
   "metadata": {},
   "outputs": [
    {
     "name": "stdout",
     "output_type": "stream",
     "text": [
      "('black', 'white', 'grey', 'silver', 'maroon', 'black', 'white', 'grey', 'silver', 'maroon')\n"
     ]
    }
   ],
   "source": [
    "print(tup1*2)"
   ]
  },
  {
   "cell_type": "code",
   "execution_count": 89,
   "id": "61a66ab2",
   "metadata": {},
   "outputs": [
    {
     "data": {
      "text/plain": [
       "True"
      ]
     },
     "execution_count": 89,
     "metadata": {},
     "output_type": "execute_result"
    }
   ],
   "source": [
    "'grey' in tup1"
   ]
  },
  {
   "cell_type": "code",
   "execution_count": 90,
   "id": "d572ff83",
   "metadata": {},
   "outputs": [
    {
     "data": {
      "text/plain": [
       "True"
      ]
     },
     "execution_count": 90,
     "metadata": {},
     "output_type": "execute_result"
    }
   ],
   "source": [
    "'GREY' not in tup1"
   ]
  },
  {
   "cell_type": "markdown",
   "id": "0f49b9ee",
   "metadata": {},
   "source": [
    "### Built-in Tuple functions"
   ]
  },
  {
   "cell_type": "code",
   "execution_count": 91,
   "id": "77ddce77",
   "metadata": {},
   "outputs": [
    {
     "data": {
      "text/plain": [
       "5"
      ]
     },
     "execution_count": 91,
     "metadata": {},
     "output_type": "execute_result"
    },
    {
     "name": "stdout",
     "output_type": "stream",
     "text": [
      "10 50\n",
      "('P', 'Y', 'T', 'H', 'O', 'N', ' ', 'P', 'R', 'O', 'G', 'R', 'A', 'M')\n"
     ]
    },
    {
     "data": {
      "text/plain": [
       "'PYTHON PROGRAM'"
      ]
     },
     "execution_count": 91,
     "metadata": {},
     "output_type": "execute_result"
    },
    {
     "name": "stdout",
     "output_type": "stream",
     "text": [
      "[10, 20, 30, 40, 50, 50, 10]\n",
      "[10, 10, 20, 30, 40, 50, 50]\n",
      "(10, 10, 20, 30, 40, 50, 50)\n"
     ]
    }
   ],
   "source": [
    "# len()\n",
    "len(tup1)\n",
    "\n",
    "# min() & max()\n",
    "print(min(tup2), max(tup2))\n",
    "\n",
    "# tuple() # Built-in immutable sequence.\n",
    "\n",
    "# str to tuple\n",
    "x = tuple('PYTHON PROGRAM')\n",
    "print(x)\n",
    "# tuple to str\n",
    "''.join(x)\n",
    "# help(str.join)\n",
    "\n",
    "\n",
    "# tuple to list\n",
    "x = list(tup2)\n",
    "print(x)\n",
    "x.sort()\n",
    "print(x)\n",
    "\n",
    "# list to tuple\n",
    "x = tuple(x)\n",
    "print(x)"
   ]
  },
  {
   "cell_type": "markdown",
   "id": "326298fa",
   "metadata": {},
   "source": [
    "**Iterable is an object which can be looped over or iterated over with the help of a for loop. Objects like lists, tuples, sets, dictionaries, strings, etc. are called iterables.**"
   ]
  },
  {
   "cell_type": "markdown",
   "id": "a8ded0bb",
   "metadata": {},
   "source": [
    "### Unpacking a Tuple"
   ]
  },
  {
   "cell_type": "code",
   "execution_count": 92,
   "id": "e02d75c0",
   "metadata": {},
   "outputs": [
    {
     "name": "stdout",
     "output_type": "stream",
     "text": [
      "(100, 200) <class 'tuple'>\n"
     ]
    }
   ],
   "source": [
    "tup3 = 100,200\n",
    "print(tup3, type(tup3))"
   ]
  },
  {
   "cell_type": "code",
   "execution_count": 93,
   "id": "50f700e8",
   "metadata": {},
   "outputs": [
    {
     "name": "stdout",
     "output_type": "stream",
     "text": [
      "100 200 <class 'int'> <class 'int'>\n",
      "100 200 <class 'int'> <class 'int'>\n"
     ]
    }
   ],
   "source": [
    "# creating int variables from the above tuple\n",
    "\n",
    "i = tup3[0]\n",
    "j = tup3[1]\n",
    "\n",
    "print(i,j, type(i), type(j))\n",
    "\n",
    "# UNPCKING of a tuple\n",
    "\n",
    "i,j = tup3\n",
    "print(i,j, type(i), type(j))"
   ]
  },
  {
   "cell_type": "code",
   "execution_count": 94,
   "id": "3f2cfe01",
   "metadata": {},
   "outputs": [],
   "source": [
    "tup4 = 10,20,30,40"
   ]
  },
  {
   "cell_type": "code",
   "execution_count": 95,
   "id": "94fba5b8",
   "metadata": {},
   "outputs": [
    {
     "ename": "ValueError",
     "evalue": "too many values to unpack (expected 2)",
     "output_type": "error",
     "traceback": [
      "\u001b[1;31m---------------------------------------------------------------------------\u001b[0m",
      "\u001b[1;31mValueError\u001b[0m                                Traceback (most recent call last)",
      "Input \u001b[1;32mIn [95]\u001b[0m, in \u001b[0;36m<cell line: 1>\u001b[1;34m()\u001b[0m\n\u001b[1;32m----> 1\u001b[0m i,j \u001b[38;5;241m=\u001b[39m tup4\n",
      "\u001b[1;31mValueError\u001b[0m: too many values to unpack (expected 2)"
     ]
    }
   ],
   "source": [
    "i,j = tup4"
   ]
  },
  {
   "cell_type": "markdown",
   "id": "f11caffc",
   "metadata": {},
   "source": [
    "### Empty tuple"
   ]
  },
  {
   "cell_type": "code",
   "execution_count": 96,
   "id": "d2eb7d26",
   "metadata": {},
   "outputs": [],
   "source": [
    "tup5 = ()"
   ]
  },
  {
   "cell_type": "code",
   "execution_count": 97,
   "id": "ed604ecf",
   "metadata": {},
   "outputs": [
    {
     "name": "stdout",
     "output_type": "stream",
     "text": [
      "()\n"
     ]
    }
   ],
   "source": [
    "print(tup5)"
   ]
  },
  {
   "cell_type": "code",
   "execution_count": 98,
   "id": "1c8030d7",
   "metadata": {},
   "outputs": [],
   "source": [
    "tup5 = tup5 + (10,20)"
   ]
  },
  {
   "cell_type": "code",
   "execution_count": 99,
   "id": "8cf1c9fa",
   "metadata": {},
   "outputs": [
    {
     "name": "stdout",
     "output_type": "stream",
     "text": [
      "(10, 20)\n"
     ]
    }
   ],
   "source": [
    "print(tup5)"
   ]
  },
  {
   "cell_type": "markdown",
   "id": "e17d5a9b",
   "metadata": {},
   "source": [
    "### Create Tuple With One Item"
   ]
  },
  {
   "cell_type": "code",
   "execution_count": 100,
   "id": "03829920",
   "metadata": {},
   "outputs": [],
   "source": [
    "x = (25) # this is nothing but x = 25"
   ]
  },
  {
   "cell_type": "code",
   "execution_count": 101,
   "id": "f95d4444",
   "metadata": {},
   "outputs": [
    {
     "name": "stdout",
     "output_type": "stream",
     "text": [
      "25 <class 'int'>\n"
     ]
    }
   ],
   "source": [
    "print(x, type(x))"
   ]
  },
  {
   "cell_type": "code",
   "execution_count": 102,
   "id": "8c2e7998",
   "metadata": {},
   "outputs": [],
   "source": [
    "x = (25,)"
   ]
  },
  {
   "cell_type": "code",
   "execution_count": 103,
   "id": "e7b6745c",
   "metadata": {},
   "outputs": [
    {
     "name": "stdout",
     "output_type": "stream",
     "text": [
      "(25,) <class 'tuple'>\n"
     ]
    }
   ],
   "source": [
    "print(x, type(x))"
   ]
  },
  {
   "cell_type": "markdown",
   "id": "fab4a68a",
   "metadata": {},
   "source": [
    "## Practice questions"
   ]
  },
  {
   "cell_type": "markdown",
   "id": "b291a2fa",
   "metadata": {},
   "source": [
    "### Exercises: Level 1\n",
    "\n",
    "1. Create an empty tuple\n",
    "2. Create a tuple containing names of your sisters and your brothers (imaginary siblings are fine)\n",
    "3. Join brothers and sisters tuples and assign it to siblings\n",
    "4. How many siblings do you have?\n",
    "5. Modify the siblings tuple and add the name of your father and mother and assign it to family_members\n",
    "\n",
    "### Exercises: Level 2\n",
    "\n",
    "1. Unpack siblings and parents from family_members\n",
    "1. Create fruits, vegetables and animal products tuples. Join the three tuples and assign it to a variable called food_stuff_tp.\n",
    "1. Change the about food_stuff_tp  tuple to a food_stuff_lt list\n",
    "1. Slice out the middle item or items from the food_stuff_tp tuple or food_stuff_lt list.\n",
    "1. Slice out the first three items and the last three items from food_staff_lt list\n",
    "1. Delete the food_staff_tp tuple completely\n",
    "1. Check if an item exists in  tuple:\n",
    "\n",
    "- Check if 'Estonia' is a nordic country\n",
    "- Check if 'Iceland' is a nordic country\n",
    "\n",
    "  ```py\n",
    "  nordic_countries = ('Denmark', 'Finland','Iceland', 'Norway', 'Sweden')\n",
    "  ```\n",
    "\n"
   ]
  },
  {
   "cell_type": "markdown",
   "id": "72def66d",
   "metadata": {},
   "source": [
    "## Set\n",
    "\n",
    "* Written with {} braces.\n",
    "* Unindexed.\n",
    "* Data is unchangeable (immutable). But we can add/remove data.\n",
    "* Duplicates are not allowed.\n",
    "\n",
    "### Create a Set"
   ]
  },
  {
   "cell_type": "code",
   "execution_count": 104,
   "id": "8628db35",
   "metadata": {},
   "outputs": [],
   "source": [
    "# Create a Set\n",
    "set1 = {'black', 'white', 'grey', 'silver', 'maroon'}"
   ]
  },
  {
   "cell_type": "code",
   "execution_count": 105,
   "id": "9f382ab0",
   "metadata": {},
   "outputs": [
    {
     "name": "stdout",
     "output_type": "stream",
     "text": [
      "{'grey', 'black', 'silver', 'white', 'maroon'}\n",
      "<class 'set'>\n"
     ]
    }
   ],
   "source": [
    "# check the type\n",
    "\n",
    "print(set1, type(set1), sep = '\\n')"
   ]
  },
  {
   "cell_type": "markdown",
   "id": "86c5a902",
   "metadata": {},
   "source": [
    "### Indexing a Set"
   ]
  },
  {
   "cell_type": "code",
   "execution_count": 106,
   "id": "44f46f52",
   "metadata": {},
   "outputs": [
    {
     "ename": "TypeError",
     "evalue": "'set' object is not subscriptable",
     "output_type": "error",
     "traceback": [
      "\u001b[1;31m---------------------------------------------------------------------------\u001b[0m",
      "\u001b[1;31mTypeError\u001b[0m                                 Traceback (most recent call last)",
      "Input \u001b[1;32mIn [106]\u001b[0m, in \u001b[0;36m<cell line: 1>\u001b[1;34m()\u001b[0m\n\u001b[1;32m----> 1\u001b[0m \u001b[43mset1\u001b[49m\u001b[43m[\u001b[49m\u001b[38;5;241;43m3\u001b[39;49m\u001b[43m]\u001b[49m\n",
      "\u001b[1;31mTypeError\u001b[0m: 'set' object is not subscriptable"
     ]
    }
   ],
   "source": [
    "set1[3]"
   ]
  },
  {
   "cell_type": "markdown",
   "id": "5f01acb5",
   "metadata": {},
   "source": [
    "### Changing the set items"
   ]
  },
  {
   "cell_type": "code",
   "execution_count": 107,
   "id": "8d429094",
   "metadata": {},
   "outputs": [
    {
     "ename": "TypeError",
     "evalue": "'set' object does not support item assignment",
     "output_type": "error",
     "traceback": [
      "\u001b[1;31m---------------------------------------------------------------------------\u001b[0m",
      "\u001b[1;31mTypeError\u001b[0m                                 Traceback (most recent call last)",
      "Input \u001b[1;32mIn [107]\u001b[0m, in \u001b[0;36m<cell line: 1>\u001b[1;34m()\u001b[0m\n\u001b[1;32m----> 1\u001b[0m set1[\u001b[38;5;241m3\u001b[39m] \u001b[38;5;241m=\u001b[39m \u001b[38;5;124m'\u001b[39m\u001b[38;5;124mWHITE\u001b[39m\u001b[38;5;124m'\u001b[39m\n",
      "\u001b[1;31mTypeError\u001b[0m: 'set' object does not support item assignment"
     ]
    }
   ],
   "source": [
    "set1[3] = 'WHITE'"
   ]
  },
  {
   "cell_type": "markdown",
   "id": "911b32a4",
   "metadata": {},
   "source": [
    "### Try creating a set with Duplicates"
   ]
  },
  {
   "cell_type": "code",
   "execution_count": 108,
   "id": "2d3f3e45",
   "metadata": {},
   "outputs": [],
   "source": [
    "set2 = {'black', 'white', 'grey', 'silver', 'maroon', 'black', 'white', 'grey'}"
   ]
  },
  {
   "cell_type": "code",
   "execution_count": 109,
   "id": "658ea310",
   "metadata": {},
   "outputs": [
    {
     "name": "stdout",
     "output_type": "stream",
     "text": [
      "{'grey', 'black', 'silver', 'white', 'maroon'}\n"
     ]
    }
   ],
   "source": [
    "print(set2)"
   ]
  },
  {
   "cell_type": "markdown",
   "id": "bf17527b",
   "metadata": {},
   "source": [
    "### Remove Duplicates from a list"
   ]
  },
  {
   "cell_type": "code",
   "execution_count": 110,
   "id": "13f27c3d",
   "metadata": {},
   "outputs": [
    {
     "name": "stdout",
     "output_type": "stream",
     "text": [
      "['black', 'white', 'grey', 'silver', 'maroon', 'white', 'black']\n"
     ]
    }
   ],
   "source": [
    "x = [\"black\", \"white\", \"grey\", \"silver\", \"maroon\", 'white', 'black']\n",
    "print(x)"
   ]
  },
  {
   "cell_type": "code",
   "execution_count": 111,
   "id": "18de1f6d",
   "metadata": {},
   "outputs": [
    {
     "name": "stdout",
     "output_type": "stream",
     "text": [
      "['silver', 'maroon', 'white', 'grey', 'black']\n",
      "['silver', 'maroon', 'white', 'grey', 'black']\n"
     ]
    }
   ],
   "source": [
    "x = set(x)\n",
    "x = list(x)\n",
    "print(x)\n",
    "\n",
    "x = list(set(x))\n",
    "print(x)"
   ]
  },
  {
   "cell_type": "markdown",
   "id": "208fa055",
   "metadata": {},
   "source": [
    "## Set methods"
   ]
  },
  {
   "cell_type": "code",
   "execution_count": 112,
   "id": "c629f7de",
   "metadata": {},
   "outputs": [
    {
     "name": "stdout",
     "output_type": "stream",
     "text": [
      "['__and__', '__class__', '__class_getitem__', '__contains__', '__delattr__', '__dir__', '__doc__', '__eq__', '__format__', '__ge__', '__getattribute__', '__gt__', '__hash__', '__iand__', '__init__', '__init_subclass__', '__ior__', '__isub__', '__iter__', '__ixor__', '__le__', '__len__', '__lt__', '__ne__', '__new__', '__or__', '__rand__', '__reduce__', '__reduce_ex__', '__repr__', '__ror__', '__rsub__', '__rxor__', '__setattr__', '__sizeof__', '__str__', '__sub__', '__subclasshook__', '__xor__', 'add', 'clear', 'copy', 'difference', 'difference_update', 'discard', 'intersection', 'intersection_update', 'isdisjoint', 'issubset', 'issuperset', 'pop', 'remove', 'symmetric_difference', 'symmetric_difference_update', 'union', 'update']\n"
     ]
    }
   ],
   "source": [
    "print(dir(set))"
   ]
  },
  {
   "cell_type": "code",
   "execution_count": 113,
   "id": "b77fcbb1",
   "metadata": {},
   "outputs": [],
   "source": [
    "# add\n",
    "# copy\n",
    "# difference\n",
    "# intersection\n",
    "# union\n",
    "# update\n",
    "# isdisjoint\n",
    "# issubset\n",
    "# issuperset\n",
    "# discard\n",
    "# pop\n",
    "\n",
    "set1 = {\"black\", \"white\", \"gray\", \"silver\", \"maroon\"}\n",
    "set2 =  {\"red\", \"purple\", \"fushsia\", \"green\", \"lime\"} "
   ]
  },
  {
   "cell_type": "markdown",
   "id": "2906215d",
   "metadata": {},
   "source": [
    "### 1. add()"
   ]
  },
  {
   "cell_type": "code",
   "execution_count": 114,
   "id": "eb89a448",
   "metadata": {},
   "outputs": [],
   "source": [
    "set1.add('green')"
   ]
  },
  {
   "cell_type": "code",
   "execution_count": 115,
   "id": "5f5bdf98",
   "metadata": {},
   "outputs": [
    {
     "name": "stdout",
     "output_type": "stream",
     "text": [
      "{'silver', 'gray', 'green', 'black', 'maroon', 'white'}\n"
     ]
    }
   ],
   "source": [
    "print(set1)"
   ]
  },
  {
   "cell_type": "markdown",
   "id": "f094df38",
   "metadata": {},
   "source": [
    "### 2. copy()"
   ]
  },
  {
   "cell_type": "code",
   "execution_count": 116,
   "id": "19649a6e",
   "metadata": {},
   "outputs": [],
   "source": [
    "set3 = set1.copy()"
   ]
  },
  {
   "cell_type": "code",
   "execution_count": 117,
   "id": "226815b8",
   "metadata": {},
   "outputs": [
    {
     "name": "stdout",
     "output_type": "stream",
     "text": [
      "{'silver', 'gray', 'green', 'black', 'maroon', 'white'}\n",
      "2244910870592\n",
      "2244910870816\n"
     ]
    }
   ],
   "source": [
    "print(set3, id(set3), id(set1), sep = '\\n')"
   ]
  },
  {
   "cell_type": "markdown",
   "id": "7ba1263b",
   "metadata": {},
   "source": [
    "### 3. difference()"
   ]
  },
  {
   "cell_type": "code",
   "execution_count": 118,
   "id": "1b222646",
   "metadata": {},
   "outputs": [
    {
     "data": {
      "text/plain": [
       "{'black', 'gray', 'maroon', 'silver', 'white'}"
      ]
     },
     "execution_count": 118,
     "metadata": {},
     "output_type": "execute_result"
    },
    {
     "data": {
      "text/plain": [
       "{'fushsia', 'lime', 'purple', 'red'}"
      ]
     },
     "execution_count": 118,
     "metadata": {},
     "output_type": "execute_result"
    }
   ],
   "source": [
    "set1-set2\n",
    "set2-set1"
   ]
  },
  {
   "cell_type": "markdown",
   "id": "b77a6abd",
   "metadata": {},
   "source": [
    "### 4. intersection()"
   ]
  },
  {
   "cell_type": "code",
   "execution_count": 119,
   "id": "1dd6573f",
   "metadata": {},
   "outputs": [
    {
     "data": {
      "text/plain": [
       "{'green'}"
      ]
     },
     "execution_count": 119,
     "metadata": {},
     "output_type": "execute_result"
    },
    {
     "data": {
      "text/plain": [
       "{'green'}"
      ]
     },
     "execution_count": 119,
     "metadata": {},
     "output_type": "execute_result"
    }
   ],
   "source": [
    "set1 & set2\n",
    "set1.intersection(set2)"
   ]
  },
  {
   "cell_type": "markdown",
   "id": "54f8113c",
   "metadata": {},
   "source": [
    "### 5. union()"
   ]
  },
  {
   "cell_type": "code",
   "execution_count": 120,
   "id": "7c7261ad",
   "metadata": {},
   "outputs": [
    {
     "name": "stdout",
     "output_type": "stream",
     "text": [
      "{'silver', 'green', 'maroon', 'white', 'gray', 'red', 'black', 'lime', 'purple', 'fushsia'}\n",
      "{'silver', 'green', 'maroon', 'white', 'gray', 'red', 'black', 'lime', 'purple', 'fushsia'}\n"
     ]
    }
   ],
   "source": [
    "print(set1 | set2)\n",
    "print(set1.union(set2))"
   ]
  },
  {
   "cell_type": "markdown",
   "id": "325d601d",
   "metadata": {},
   "source": [
    "### 6. update()"
   ]
  },
  {
   "cell_type": "code",
   "execution_count": 121,
   "id": "c76a791a",
   "metadata": {},
   "outputs": [
    {
     "name": "stdout",
     "output_type": "stream",
     "text": [
      "{'R', 'white', 'gray', 'silver', 'green', 'maroon', 'N', 'E', 'black', 'G'}\n"
     ]
    }
   ],
   "source": [
    "set1.update('GREEN')\n",
    "print(set1)"
   ]
  },
  {
   "cell_type": "code",
   "execution_count": 122,
   "id": "9bda69a1",
   "metadata": {},
   "outputs": [
    {
     "name": "stdout",
     "output_type": "stream",
     "text": [
      "{'red', 'RED', 'green', 'purple', 'BLUE', 'lime', 'fushsia'}\n"
     ]
    }
   ],
   "source": [
    "set2.update({'RED', 'BLUE'})\n",
    "print(set2)"
   ]
  },
  {
   "cell_type": "markdown",
   "id": "35a0f55f",
   "metadata": {},
   "source": [
    "### 7. isdisjoint()"
   ]
  },
  {
   "cell_type": "code",
   "execution_count": 123,
   "id": "2917491a",
   "metadata": {},
   "outputs": [
    {
     "data": {
      "text/plain": [
       "False"
      ]
     },
     "execution_count": 123,
     "metadata": {},
     "output_type": "execute_result"
    }
   ],
   "source": [
    "set1.isdisjoint(set2)"
   ]
  },
  {
   "cell_type": "markdown",
   "id": "fba9c368",
   "metadata": {},
   "source": [
    "### 8. issubset()"
   ]
  },
  {
   "cell_type": "code",
   "execution_count": 124,
   "id": "fdd05d92",
   "metadata": {},
   "outputs": [
    {
     "data": {
      "text/plain": [
       "True"
      ]
     },
     "execution_count": 124,
     "metadata": {},
     "output_type": "execute_result"
    }
   ],
   "source": [
    "{'green', 'black'}.issubset(set1)"
   ]
  },
  {
   "cell_type": "markdown",
   "id": "99a691cb",
   "metadata": {},
   "source": [
    "### 9. issuperset()"
   ]
  },
  {
   "cell_type": "code",
   "execution_count": 125,
   "id": "1d717ccc",
   "metadata": {},
   "outputs": [
    {
     "data": {
      "text/plain": [
       "True"
      ]
     },
     "execution_count": 125,
     "metadata": {},
     "output_type": "execute_result"
    }
   ],
   "source": [
    "set1.issuperset({'green', 'black'})"
   ]
  },
  {
   "cell_type": "markdown",
   "id": "06a83749",
   "metadata": {},
   "source": [
    "### 10. discard()"
   ]
  },
  {
   "cell_type": "code",
   "execution_count": 126,
   "id": "7ea94c59",
   "metadata": {},
   "outputs": [],
   "source": [
    "set1.discard('Green')\n",
    "\n",
    "# Remove an element from a set if it is a member.\n",
    "# If the element is not a member, do nothing."
   ]
  },
  {
   "cell_type": "code",
   "execution_count": 127,
   "id": "d7dc2fce",
   "metadata": {},
   "outputs": [
    {
     "name": "stdout",
     "output_type": "stream",
     "text": [
      "{'R', 'white', 'gray', 'silver', 'maroon', 'N', 'E', 'black', 'G'}\n"
     ]
    }
   ],
   "source": [
    "set1.discard('green')\n",
    "print(set1)"
   ]
  },
  {
   "cell_type": "markdown",
   "id": "90e6b4b2",
   "metadata": {},
   "source": [
    "### 11. pop()"
   ]
  },
  {
   "cell_type": "code",
   "execution_count": 128,
   "id": "88516d1e",
   "metadata": {},
   "outputs": [
    {
     "data": {
      "text/plain": [
       "'R'"
      ]
     },
     "execution_count": 128,
     "metadata": {},
     "output_type": "execute_result"
    }
   ],
   "source": [
    "set1.pop()\n",
    "\n",
    "# Remove and return an arbitrary set element.\n",
    "# Raises KeyError if the set is empty."
   ]
  },
  {
   "cell_type": "code",
   "execution_count": 129,
   "id": "2990463d",
   "metadata": {},
   "outputs": [
    {
     "data": {
      "text/plain": [
       "'white'"
      ]
     },
     "execution_count": 129,
     "metadata": {},
     "output_type": "execute_result"
    }
   ],
   "source": [
    "set1.pop()"
   ]
  },
  {
   "cell_type": "code",
   "execution_count": 130,
   "id": "009f24c5",
   "metadata": {},
   "outputs": [
    {
     "name": "stdout",
     "output_type": "stream",
     "text": [
      "{'gray', 'silver', 'maroon', 'N', 'E', 'black', 'G'}\n"
     ]
    }
   ],
   "source": [
    "print(set1)"
   ]
  },
  {
   "cell_type": "markdown",
   "id": "c6d3eeb6",
   "metadata": {},
   "source": [
    "### Finding Symmetric Difference Between Two Sets\n",
    "It returns the the symmetric difference between two sets. It means that it returns a set that contains all items from both sets, except items that are present in both sets, mathematically: (A\\B) ∪ (B\\A)"
   ]
  },
  {
   "cell_type": "code",
   "execution_count": 36,
   "id": "681e7f12",
   "metadata": {},
   "outputs": [
    {
     "data": {
      "text/plain": [
       "{0, 6, 7, 8, 9, 10}"
      ]
     },
     "execution_count": 36,
     "metadata": {},
     "output_type": "execute_result"
    },
    {
     "data": {
      "text/plain": [
       "{'a', 'd', 'g', 'h', 'p', 'r', 't', 'y'}"
      ]
     },
     "execution_count": 36,
     "metadata": {},
     "output_type": "execute_result"
    }
   ],
   "source": [
    "whole_numbers = {0, 1, 2, 3, 4, 5, 6, 7, 8, 9, 10}\n",
    "some_numbers = {1, 2, 3, 4, 5}\n",
    "whole_numbers.symmetric_difference(some_numbers) # {0, 6, 7, 8, 9, 10}\n",
    "\n",
    "python = {'p', 'y', 't', 'h', 'o','n'}\n",
    "dragon = {'d', 'r', 'a', 'g', 'o','n'}\n",
    "python.symmetric_difference(dragon)  # {'r', 't', 'p', 'y', 'g', 'a', 'd', 'h'}"
   ]
  },
  {
   "cell_type": "markdown",
   "id": "1b9affa8",
   "metadata": {},
   "source": [
    "### Operators on set"
   ]
  },
  {
   "cell_type": "code",
   "execution_count": 131,
   "id": "61b0e9ae",
   "metadata": {},
   "outputs": [
    {
     "data": {
      "text/plain": [
       "False"
      ]
     },
     "execution_count": 131,
     "metadata": {},
     "output_type": "execute_result"
    },
    {
     "data": {
      "text/plain": [
       "True"
      ]
     },
     "execution_count": 131,
     "metadata": {},
     "output_type": "execute_result"
    }
   ],
   "source": [
    "'white' in set2\n",
    "'black' in set1"
   ]
  },
  {
   "cell_type": "markdown",
   "id": "01bb1808",
   "metadata": {},
   "source": [
    "### Built-in functions on set"
   ]
  },
  {
   "cell_type": "code",
   "execution_count": 132,
   "id": "2d6cabd1",
   "metadata": {},
   "outputs": [
    {
     "data": {
      "text/plain": [
       "7"
      ]
     },
     "execution_count": 132,
     "metadata": {},
     "output_type": "execute_result"
    }
   ],
   "source": [
    "len(set1)"
   ]
  },
  {
   "cell_type": "code",
   "execution_count": 133,
   "id": "c41b7f2b",
   "metadata": {},
   "outputs": [
    {
     "name": "stdout",
     "output_type": "stream",
     "text": [
      "10 500\n"
     ]
    }
   ],
   "source": [
    "set5 = {10,100,200,300,25,500}\n",
    "print(min(set5), max(set5))"
   ]
  },
  {
   "cell_type": "code",
   "execution_count": 134,
   "id": "94589236",
   "metadata": {},
   "outputs": [],
   "source": [
    "# conversion\n",
    "mylist1 = [10,20,30, 10, 20]\n",
    "mytup1 = (10,20,30, 10)\n",
    "mystr1 = 'PYTHON PROGRAM'"
   ]
  },
  {
   "cell_type": "code",
   "execution_count": 135,
   "id": "4db677ab",
   "metadata": {},
   "outputs": [
    {
     "name": "stdout",
     "output_type": "stream",
     "text": [
      "{10, 20, 30}\n",
      "{10, 20, 30}\n",
      "{'R', 'H', 'Y', 'O', 'M', 'A', 'T', 'N', 'G', 'P', ' '}\n"
     ]
    }
   ],
   "source": [
    "print(set(mylist1), set(mytup1), set(mystr1), sep = '\\n')"
   ]
  },
  {
   "cell_type": "markdown",
   "id": "3cac0021",
   "metadata": {},
   "source": [
    "## Create a set using the ***range***"
   ]
  },
  {
   "cell_type": "code",
   "execution_count": 136,
   "id": "c9942cb5",
   "metadata": {},
   "outputs": [
    {
     "data": {
      "text/plain": [
       "range(10, 30, 5)"
      ]
     },
     "execution_count": 136,
     "metadata": {},
     "output_type": "execute_result"
    }
   ],
   "source": [
    "range(10,30,5)"
   ]
  },
  {
   "cell_type": "code",
   "execution_count": 137,
   "id": "9cce788a",
   "metadata": {},
   "outputs": [
    {
     "data": {
      "text/plain": [
       "[10, 15, 20, 25]"
      ]
     },
     "execution_count": 137,
     "metadata": {},
     "output_type": "execute_result"
    },
    {
     "data": {
      "text/plain": [
       "(10, 15, 20, 25)"
      ]
     },
     "execution_count": 137,
     "metadata": {},
     "output_type": "execute_result"
    },
    {
     "data": {
      "text/plain": [
       "{10, 15, 20, 25}"
      ]
     },
     "execution_count": 137,
     "metadata": {},
     "output_type": "execute_result"
    }
   ],
   "source": [
    "list(range(10,30,5))\n",
    "tuple(range(10,30,5))\n",
    "set(range(10,30,5))"
   ]
  },
  {
   "cell_type": "markdown",
   "id": "71eb5cb8",
   "metadata": {},
   "source": [
    "#### Create an empty set"
   ]
  },
  {
   "cell_type": "code",
   "execution_count": 138,
   "id": "dd267d9a",
   "metadata": {},
   "outputs": [],
   "source": [
    "set6 = {}"
   ]
  },
  {
   "cell_type": "code",
   "execution_count": 139,
   "id": "b97c00c3",
   "metadata": {},
   "outputs": [
    {
     "name": "stdout",
     "output_type": "stream",
     "text": [
      "{}\n",
      "<class 'dict'>\n"
     ]
    }
   ],
   "source": [
    "print(set6, type(set6), sep = '\\n') # this is a dictionary"
   ]
  },
  {
   "cell_type": "code",
   "execution_count": 140,
   "id": "7b898f66",
   "metadata": {},
   "outputs": [],
   "source": [
    "set7 = set()"
   ]
  },
  {
   "cell_type": "code",
   "execution_count": 141,
   "id": "399ada40",
   "metadata": {},
   "outputs": [
    {
     "name": "stdout",
     "output_type": "stream",
     "text": [
      "set()\n",
      "<class 'set'>\n"
     ]
    }
   ],
   "source": [
    "print(set7, type(set7), sep = '\\n')"
   ]
  },
  {
   "cell_type": "code",
   "execution_count": 142,
   "id": "e29d0f98",
   "metadata": {},
   "outputs": [
    {
     "name": "stdout",
     "output_type": "stream",
     "text": [
      "{'yellow'}\n"
     ]
    }
   ],
   "source": [
    "set7.add('yellow')\n",
    "print(set7)"
   ]
  },
  {
   "cell_type": "markdown",
   "id": "ab26f344",
   "metadata": {},
   "source": [
    "### Practice Questions"
   ]
  },
  {
   "cell_type": "markdown",
   "id": "d1ec7e06",
   "metadata": {},
   "source": [
    "\n",
    "```py\n",
    "# sets\n",
    "it_companies = {'Facebook', 'Google', 'Microsoft', 'Apple', 'IBM', 'Oracle', 'Amazon'}\n",
    "A = {19, 22, 24, 20, 25, 26}\n",
    "B = {19, 22, 20, 25, 26, 24, 28, 27}\n",
    "age = [22, 19, 24, 25, 26, 24, 25, 24]\n",
    "```\n",
    "\n",
    "### Exercises: Level 1\n",
    "\n",
    "1. Find the length of the set it_companies\n",
    "2. Add 'Twitter' to it_companies\n",
    "3. Insert multiple IT companies at once to the set it_companies\n",
    "4. Remove one of the companies from the set it_companies\n",
    "5. What is the difference between remove and discard\n",
    "\n",
    "### Exercises: Level 2\n",
    "\n",
    "1. Join A and B\n",
    "1. Find A intersection B\n",
    "1. Is A subset of B\n",
    "1. Are A and B disjoint sets\n",
    "1. Join A with B and B with A\n",
    "1. What is the symmetric difference between A and B\n",
    "1. Delete the sets completely\n",
    "\n",
    "### Exercises: Level 3\n",
    "\n",
    "1. Convert the ages to a set and compare the length of the list and the set, which one is bigger?\n",
    "1. Explain the difference between the following data types: string, list, tuple and set\n",
    "2. _I am a teacher and I love to inspire and teach people._ How many unique words have been used in the sentence? Use the split methods and set to get the unique words."
   ]
  },
  {
   "cell_type": "markdown",
   "id": "e70e9e9a",
   "metadata": {},
   "source": [
    "# Dictionary\n",
    "\n",
    "* Written with {} braces in the form {key:value}.\n",
    "* Unordered and indexed using keys.\n",
    "* Data is changeable (mutable).\n",
    "* Duplicate keys are not allowed."
   ]
  },
  {
   "cell_type": "markdown",
   "id": "c48c5cdb",
   "metadata": {},
   "source": [
    "### Create a dictionary"
   ]
  },
  {
   "cell_type": "code",
   "execution_count": 143,
   "id": "355c9b10",
   "metadata": {},
   "outputs": [],
   "source": [
    "mydict1 = {'Company': 'Google',\n",
    "          'HQ':'California',\n",
    "          'Products': 'Gmail'}"
   ]
  },
  {
   "cell_type": "code",
   "execution_count": 144,
   "id": "c15e9e53",
   "metadata": {},
   "outputs": [
    {
     "name": "stdout",
     "output_type": "stream",
     "text": [
      "{'Company': 'Google', 'HQ': 'California', 'Products': 'Gmail'}\n",
      "<class 'dict'>\n"
     ]
    }
   ],
   "source": [
    "print(mydict1, type(mydict1), sep = '\\n')"
   ]
  },
  {
   "cell_type": "code",
   "execution_count": 47,
   "id": "cc49ccb7",
   "metadata": {},
   "outputs": [],
   "source": [
    "mydict2 = {'Company': 'Google',\n",
    "          'HQ':'California',\n",
    "          'Products': ['Gmail','YouTube','Chrome', 'Drive']}"
   ]
  },
  {
   "cell_type": "code",
   "execution_count": 48,
   "id": "cc8792c2",
   "metadata": {},
   "outputs": [
    {
     "data": {
      "text/plain": [
       "{'Company': 'Google',\n",
       " 'HQ': 'California',\n",
       " 'Products': ['Gmail', 'YouTube', 'Chrome', 'Drive']}"
      ]
     },
     "execution_count": 48,
     "metadata": {},
     "output_type": "execute_result"
    }
   ],
   "source": [
    "mydict2"
   ]
  },
  {
   "cell_type": "code",
   "execution_count": 64,
   "id": "67e98fbd",
   "metadata": {},
   "outputs": [
    {
     "name": "stdout",
     "output_type": "stream",
     "text": [
      "7\n"
     ]
    }
   ],
   "source": [
    "person = {\n",
    "    'first_name':'Nani',\n",
    "    'last_name':'Data_Scientist',\n",
    "    'age':25,\n",
    "    'country':'India',\n",
    "    'is_married':False,\n",
    "    'skills':['JavaScript', 'React', 'Node', 'MongoDB', 'Python'],\n",
    "    'address':{\n",
    "        'street':'Space street',\n",
    "        'zipcode':'02210'\n",
    "    }\n",
    "    }\n",
    "print(len(person))\n"
   ]
  },
  {
   "cell_type": "code",
   "execution_count": 65,
   "id": "297d500d",
   "metadata": {},
   "outputs": [
    {
     "name": "stdout",
     "output_type": "stream",
     "text": [
      "Nani\n",
      "India\n",
      "['JavaScript', 'React', 'Node', 'MongoDB', 'Python']\n",
      "JavaScript\n",
      "Space street\n"
     ]
    },
    {
     "ename": "KeyError",
     "evalue": "'city'",
     "output_type": "error",
     "traceback": [
      "\u001b[1;31m---------------------------------------------------------------------------\u001b[0m",
      "\u001b[1;31mKeyError\u001b[0m                                  Traceback (most recent call last)",
      "\u001b[1;32m~\\AppData\\Local\\Temp\\ipykernel_11000\\1250619522.py\u001b[0m in \u001b[0;36m<module>\u001b[1;34m\u001b[0m\n\u001b[0;32m      4\u001b[0m \u001b[0mprint\u001b[0m\u001b[1;33m(\u001b[0m\u001b[0mperson\u001b[0m\u001b[1;33m[\u001b[0m\u001b[1;34m'skills'\u001b[0m\u001b[1;33m]\u001b[0m\u001b[1;33m[\u001b[0m\u001b[1;36m0\u001b[0m\u001b[1;33m]\u001b[0m\u001b[1;33m)\u001b[0m  \u001b[1;31m# JavaScript\u001b[0m\u001b[1;33m\u001b[0m\u001b[1;33m\u001b[0m\u001b[0m\n\u001b[0;32m      5\u001b[0m \u001b[0mprint\u001b[0m\u001b[1;33m(\u001b[0m\u001b[0mperson\u001b[0m\u001b[1;33m[\u001b[0m\u001b[1;34m'address'\u001b[0m\u001b[1;33m]\u001b[0m\u001b[1;33m[\u001b[0m\u001b[1;34m'street'\u001b[0m\u001b[1;33m]\u001b[0m\u001b[1;33m)\u001b[0m \u001b[1;31m# Space street\u001b[0m\u001b[1;33m\u001b[0m\u001b[1;33m\u001b[0m\u001b[0m\n\u001b[1;32m----> 6\u001b[1;33m \u001b[0mprint\u001b[0m\u001b[1;33m(\u001b[0m\u001b[0mperson\u001b[0m\u001b[1;33m[\u001b[0m\u001b[1;34m'city'\u001b[0m\u001b[1;33m]\u001b[0m\u001b[1;33m)\u001b[0m       \u001b[1;31m# Error because it is not mentioned in dictionary\u001b[0m\u001b[1;33m\u001b[0m\u001b[1;33m\u001b[0m\u001b[0m\n\u001b[0m",
      "\u001b[1;31mKeyError\u001b[0m: 'city'"
     ]
    }
   ],
   "source": [
    "print(person['first_name']) # Asabeneh\n",
    "print(person['country'])    # Finland\n",
    "print(person['skills'])     # ['JavaScript', 'React', 'Node', 'MongoDB', 'Python']\n",
    "print(person['skills'][0])  # JavaScript\n",
    "print(person['address']['street']) # Space street\n",
    "print(person['city'])       # Error because it is not mentioned in dictionary"
   ]
  },
  {
   "cell_type": "markdown",
   "id": "ffd9bb47",
   "metadata": {},
   "source": [
    "\n",
    "Accessing an item by key name raises an error if the key does not exist. To avoid this error first we have to check if a key exist or we can use the get method. \n",
    "\n",
    "The get method returns None, which is a NoneType object data type, if the key does not exist."
   ]
  },
  {
   "cell_type": "code",
   "execution_count": 66,
   "id": "6e18e361",
   "metadata": {},
   "outputs": [
    {
     "name": "stdout",
     "output_type": "stream",
     "text": [
      "Nani\n",
      "India\n",
      "['JavaScript', 'React', 'Node', 'MongoDB', 'Python']\n",
      "None\n"
     ]
    }
   ],
   "source": [
    "print(person.get('first_name')) # Asabeneh\n",
    "print(person.get('country'))    # Finland\n",
    "print(person.get('skills')) #['HTML','CSS','JavaScript', 'React', 'Node', 'MongoDB', 'Python']\n",
    "print(person.get('city'))   # None"
   ]
  },
  {
   "cell_type": "markdown",
   "id": "3cd8ab7c",
   "metadata": {},
   "source": [
    "### Adding Items to a Dictionary\n",
    "We can add new key and value pairs to a dictionary"
   ]
  },
  {
   "cell_type": "code",
   "execution_count": 67,
   "id": "03089d0a",
   "metadata": {},
   "outputs": [
    {
     "name": "stdout",
     "output_type": "stream",
     "text": [
      "{'first_name': 'Nani', 'last_name': 'Data_Scientist', 'age': 25, 'country': 'India', 'is_married': False, 'skills': ['JavaScript', 'React', 'Node', 'MongoDB', 'Python', 'HTML'], 'address': {'street': 'Space street', 'zipcode': '02210'}, 'job_title': 'Instructor'}\n"
     ]
    }
   ],
   "source": [
    "person['job_title'] = 'Instructor'\n",
    "person['skills'].append('HTML')\n",
    "print(person)"
   ]
  },
  {
   "cell_type": "markdown",
   "id": "9f0c4543",
   "metadata": {},
   "source": [
    "### Modifying Items in a Dictionary\n",
    "We can modify items in a dictionary"
   ]
  },
  {
   "cell_type": "code",
   "execution_count": 68,
   "id": "44f484f9",
   "metadata": {},
   "outputs": [],
   "source": [
    "person['first_name'] = 'Eyob'\n",
    "person['age'] = 22"
   ]
  },
  {
   "cell_type": "code",
   "execution_count": 69,
   "id": "b846e13b",
   "metadata": {},
   "outputs": [
    {
     "data": {
      "text/plain": [
       "{'first_name': 'Eyob',\n",
       " 'last_name': 'Data_Scientist',\n",
       " 'age': 22,\n",
       " 'country': 'India',\n",
       " 'is_married': False,\n",
       " 'skills': ['JavaScript', 'React', 'Node', 'MongoDB', 'Python', 'HTML'],\n",
       " 'address': {'street': 'Space street', 'zipcode': '02210'},\n",
       " 'job_title': 'Instructor'}"
      ]
     },
     "execution_count": 69,
     "metadata": {},
     "output_type": "execute_result"
    }
   ],
   "source": [
    "person"
   ]
  },
  {
   "cell_type": "code",
   "execution_count": 70,
   "id": "817c18b2",
   "metadata": {},
   "outputs": [],
   "source": [
    "# creating a table from dict\n",
    "import pandas as pd"
   ]
  },
  {
   "cell_type": "code",
   "execution_count": 71,
   "id": "004c909c",
   "metadata": {},
   "outputs": [
    {
     "data": {
      "text/html": [
       "<div>\n",
       "<style scoped>\n",
       "    .dataframe tbody tr th:only-of-type {\n",
       "        vertical-align: middle;\n",
       "    }\n",
       "\n",
       "    .dataframe tbody tr th {\n",
       "        vertical-align: top;\n",
       "    }\n",
       "\n",
       "    .dataframe thead th {\n",
       "        text-align: right;\n",
       "    }\n",
       "</style>\n",
       "<table border=\"1\" class=\"dataframe\">\n",
       "  <thead>\n",
       "    <tr style=\"text-align: right;\">\n",
       "      <th></th>\n",
       "      <th>Company</th>\n",
       "      <th>HQ</th>\n",
       "      <th>Products</th>\n",
       "    </tr>\n",
       "  </thead>\n",
       "  <tbody>\n",
       "    <tr>\n",
       "      <th>0</th>\n",
       "      <td>Google</td>\n",
       "      <td>California</td>\n",
       "      <td>Gmail</td>\n",
       "    </tr>\n",
       "    <tr>\n",
       "      <th>1</th>\n",
       "      <td>Google</td>\n",
       "      <td>California</td>\n",
       "      <td>YouTube</td>\n",
       "    </tr>\n",
       "    <tr>\n",
       "      <th>2</th>\n",
       "      <td>Google</td>\n",
       "      <td>California</td>\n",
       "      <td>Chrome</td>\n",
       "    </tr>\n",
       "    <tr>\n",
       "      <th>3</th>\n",
       "      <td>Google</td>\n",
       "      <td>California</td>\n",
       "      <td>Drive</td>\n",
       "    </tr>\n",
       "  </tbody>\n",
       "</table>\n",
       "</div>"
      ],
      "text/plain": [
       "  Company          HQ Products\n",
       "0  Google  California    Gmail\n",
       "1  Google  California  YouTube\n",
       "2  Google  California   Chrome\n",
       "3  Google  California    Drive"
      ]
     },
     "execution_count": 71,
     "metadata": {},
     "output_type": "execute_result"
    }
   ],
   "source": [
    "pd.DataFrame(mydict2)"
   ]
  },
  {
   "cell_type": "markdown",
   "id": "0fec3688",
   "metadata": {},
   "source": [
    "### Removing Key and Value Pairs from a Dictionary\n",
    "\n",
    "- pop(key): removes the item with the specified key name\n",
    "- popitem(): removes the last item\n",
    "- del: removes an item with specified key name\n"
   ]
  },
  {
   "cell_type": "code",
   "execution_count": 72,
   "id": "f41b6b1b",
   "metadata": {},
   "outputs": [
    {
     "data": {
      "text/plain": [
       "'Eyob'"
      ]
     },
     "execution_count": 72,
     "metadata": {},
     "output_type": "execute_result"
    },
    {
     "data": {
      "text/plain": [
       "('job_title', 'Instructor')"
      ]
     },
     "execution_count": 72,
     "metadata": {},
     "output_type": "execute_result"
    }
   ],
   "source": [
    "person.pop('first_name')        # Removes the firstname item\n",
    "person.popitem()                # Removes the address item\n",
    "del person['is_married']        # Removes the is_married item"
   ]
  },
  {
   "cell_type": "markdown",
   "id": "72d49c73",
   "metadata": {},
   "source": [
    "### Indexing a Dict"
   ]
  },
  {
   "cell_type": "code",
   "execution_count": 149,
   "id": "ecb29b41",
   "metadata": {},
   "outputs": [
    {
     "ename": "KeyError",
     "evalue": "1",
     "output_type": "error",
     "traceback": [
      "\u001b[1;31m---------------------------------------------------------------------------\u001b[0m",
      "\u001b[1;31mKeyError\u001b[0m                                  Traceback (most recent call last)",
      "Input \u001b[1;32mIn [149]\u001b[0m, in \u001b[0;36m<cell line: 1>\u001b[1;34m()\u001b[0m\n\u001b[1;32m----> 1\u001b[0m \u001b[43mmydict2\u001b[49m\u001b[43m[\u001b[49m\u001b[38;5;241;43m1\u001b[39;49m\u001b[43m]\u001b[49m\n",
      "\u001b[1;31mKeyError\u001b[0m: 1"
     ]
    }
   ],
   "source": [
    "mydict2[1]"
   ]
  },
  {
   "cell_type": "code",
   "execution_count": 150,
   "id": "2b089604",
   "metadata": {},
   "outputs": [
    {
     "data": {
      "text/plain": [
       "['Gmail', 'YouTube', 'Chrome', 'Drive']"
      ]
     },
     "execution_count": 150,
     "metadata": {},
     "output_type": "execute_result"
    },
    {
     "data": {
      "text/plain": [
       "'Chrome'"
      ]
     },
     "execution_count": 150,
     "metadata": {},
     "output_type": "execute_result"
    },
    {
     "data": {
      "text/plain": [
       "'o'"
      ]
     },
     "execution_count": 150,
     "metadata": {},
     "output_type": "execute_result"
    }
   ],
   "source": [
    "# indexing a dict is possible with keys\n",
    "mydict2['Products'] # dict indexing\n",
    "mydict2['Products'][2] # list indexing\n",
    "mydict2['Products'][2][3] # string indexing"
   ]
  },
  {
   "cell_type": "markdown",
   "id": "816039dc",
   "metadata": {},
   "source": [
    "### Change the Data"
   ]
  },
  {
   "cell_type": "code",
   "execution_count": 151,
   "id": "2fd45da1",
   "metadata": {},
   "outputs": [],
   "source": [
    "mydict2['HQ'] = 'California, USA'"
   ]
  },
  {
   "cell_type": "code",
   "execution_count": 152,
   "id": "73268530",
   "metadata": {},
   "outputs": [
    {
     "data": {
      "text/plain": [
       "{'Company': 'Google',\n",
       " 'HQ': 'California, USA',\n",
       " 'Products': ['Gmail', 'YouTube', 'Chrome', 'Drive']}"
      ]
     },
     "execution_count": 152,
     "metadata": {},
     "output_type": "execute_result"
    }
   ],
   "source": [
    "mydict2"
   ]
  },
  {
   "cell_type": "markdown",
   "id": "d0e202e8",
   "metadata": {},
   "source": [
    "### Duplicates"
   ]
  },
  {
   "cell_type": "code",
   "execution_count": 154,
   "id": "7c08c4ca",
   "metadata": {},
   "outputs": [],
   "source": [
    "mydict2['Products'] = ['Gmail', 'YouTube', 'Chrome', 'Drive', 'Gmail']"
   ]
  },
  {
   "cell_type": "code",
   "execution_count": 155,
   "id": "855e37a5",
   "metadata": {},
   "outputs": [
    {
     "data": {
      "text/plain": [
       "{'Company': 'Google',\n",
       " 'HQ': 'California, USA',\n",
       " 'Products': ['Gmail', 'YouTube', 'Chrome', 'Drive', 'Gmail']}"
      ]
     },
     "execution_count": 155,
     "metadata": {},
     "output_type": "execute_result"
    }
   ],
   "source": [
    "mydict2 # dupicate values are allowed"
   ]
  },
  {
   "cell_type": "code",
   "execution_count": 156,
   "id": "8ae70b56",
   "metadata": {},
   "outputs": [],
   "source": [
    "mydict2['HQ'] = 'USA'"
   ]
  },
  {
   "cell_type": "code",
   "execution_count": 157,
   "id": "08a0b8cf",
   "metadata": {},
   "outputs": [
    {
     "data": {
      "text/plain": [
       "{'Company': 'Google',\n",
       " 'HQ': 'USA',\n",
       " 'Products': ['Gmail', 'YouTube', 'Chrome', 'Drive', 'Gmail']}"
      ]
     },
     "execution_count": 157,
     "metadata": {},
     "output_type": "execute_result"
    }
   ],
   "source": [
    "mydict2"
   ]
  },
  {
   "cell_type": "markdown",
   "id": "9c418602",
   "metadata": {},
   "source": [
    "### Add a new `key:value` pair"
   ]
  },
  {
   "cell_type": "code",
   "execution_count": 158,
   "id": "69db14a4",
   "metadata": {},
   "outputs": [],
   "source": [
    "mydict2['Industry'] = 'IT'"
   ]
  },
  {
   "cell_type": "code",
   "execution_count": 159,
   "id": "af3f228b",
   "metadata": {},
   "outputs": [
    {
     "data": {
      "text/plain": [
       "{'Company': 'Google',\n",
       " 'HQ': 'USA',\n",
       " 'Products': ['Gmail', 'YouTube', 'Chrome', 'Drive', 'Gmail'],\n",
       " 'Industry': 'IT'}"
      ]
     },
     "execution_count": 159,
     "metadata": {},
     "output_type": "execute_result"
    }
   ],
   "source": [
    "mydict2"
   ]
  },
  {
   "cell_type": "code",
   "execution_count": 160,
   "id": "d2f0059f",
   "metadata": {},
   "outputs": [],
   "source": [
    "mydict2['Founded Yr'] = 1998"
   ]
  },
  {
   "cell_type": "code",
   "execution_count": 161,
   "id": "09f14641",
   "metadata": {},
   "outputs": [
    {
     "data": {
      "text/plain": [
       "{'Company': 'Google',\n",
       " 'HQ': 'USA',\n",
       " 'Products': ['Gmail', 'YouTube', 'Chrome', 'Drive', 'Gmail'],\n",
       " 'Industry': 'IT',\n",
       " 'Founded Yr': 1998}"
      ]
     },
     "execution_count": 161,
     "metadata": {},
     "output_type": "execute_result"
    }
   ],
   "source": [
    "mydict2"
   ]
  },
  {
   "cell_type": "code",
   "execution_count": 162,
   "id": "660d8c3f",
   "metadata": {},
   "outputs": [],
   "source": [
    "mydict2[12] = 20 # a dummy key:value pair"
   ]
  },
  {
   "cell_type": "code",
   "execution_count": 163,
   "id": "dc681499",
   "metadata": {},
   "outputs": [],
   "source": [
    "mydict2['HQ1'] = None"
   ]
  },
  {
   "cell_type": "code",
   "execution_count": 164,
   "id": "ce7aea51",
   "metadata": {},
   "outputs": [
    {
     "data": {
      "text/plain": [
       "{'Company': 'Google',\n",
       " 'HQ': 'USA',\n",
       " 'Products': ['Gmail', 'YouTube', 'Chrome', 'Drive', 'Gmail'],\n",
       " 'Industry': 'IT',\n",
       " 'Founded Yr': 1998,\n",
       " 12: 20,\n",
       " 'HQ1': None}"
      ]
     },
     "execution_count": 164,
     "metadata": {},
     "output_type": "execute_result"
    }
   ],
   "source": [
    "mydict2"
   ]
  },
  {
   "cell_type": "markdown",
   "id": "70357fbf",
   "metadata": {},
   "source": [
    "### Dictionary Methods"
   ]
  },
  {
   "cell_type": "code",
   "execution_count": 166,
   "id": "c8289089",
   "metadata": {},
   "outputs": [
    {
     "name": "stdout",
     "output_type": "stream",
     "text": [
      "['__class__', '__class_getitem__', '__contains__', '__delattr__', '__delitem__', '__dir__', '__doc__', '__eq__', '__format__', '__ge__', '__getattribute__', '__getitem__', '__gt__', '__hash__', '__init__', '__init_subclass__', '__ior__', '__iter__', '__le__', '__len__', '__lt__', '__ne__', '__new__', '__or__', '__reduce__', '__reduce_ex__', '__repr__', '__reversed__', '__ror__', '__setattr__', '__setitem__', '__sizeof__', '__str__', '__subclasshook__', 'clear', 'copy', 'fromkeys', 'get', 'items', 'keys', 'pop', 'popitem', 'setdefault', 'update', 'values']\n"
     ]
    }
   ],
   "source": [
    "print(dir(dict))"
   ]
  },
  {
   "cell_type": "markdown",
   "id": "d781ba4f",
   "metadata": {},
   "source": [
    "### 1. fromkeys()"
   ]
  },
  {
   "cell_type": "code",
   "execution_count": 167,
   "id": "7825faff",
   "metadata": {},
   "outputs": [
    {
     "data": {
      "text/plain": [
       "{'Company': 1, 'HQ': 1, 'Products': 1}"
      ]
     },
     "execution_count": 167,
     "metadata": {},
     "output_type": "execute_result"
    }
   ],
   "source": [
    "# Create a new dictionary with keys from iterable and values set to value.\n",
    "\n",
    "mylist1 = ['Company', 'HQ', 'Products']\n",
    "val = 1\n",
    "\n",
    "dict.fromkeys(mylist1, val)"
   ]
  },
  {
   "cell_type": "code",
   "execution_count": 168,
   "id": "9dcb6168",
   "metadata": {},
   "outputs": [
    {
     "data": {
      "text/plain": [
       "{'P': 10, 'Y': 10, 'T': 10, 'H': 10, 'O': 10, 'N': 10}"
      ]
     },
     "execution_count": 168,
     "metadata": {},
     "output_type": "execute_result"
    }
   ],
   "source": [
    "mystr = 'PYTHON'\n",
    "val = 10\n",
    "dict.fromkeys(mystr, val)"
   ]
  },
  {
   "cell_type": "code",
   "execution_count": 171,
   "id": "ef18b929",
   "metadata": {},
   "outputs": [
    {
     "data": {
      "text/plain": [
       "{'P': 10, 'Y': 10, 'T': 10, 'H': 10, 'O': 10, 'N': 10}"
      ]
     },
     "execution_count": 171,
     "metadata": {},
     "output_type": "execute_result"
    }
   ],
   "source": [
    "mystr = 'PYTHON'\n",
    "x = dict.fromkeys(mystr, 10)\n",
    "x"
   ]
  },
  {
   "cell_type": "markdown",
   "id": "b1fb5dc4",
   "metadata": {},
   "source": [
    "### 2. get()"
   ]
  },
  {
   "cell_type": "code",
   "execution_count": 172,
   "id": "308aa004",
   "metadata": {},
   "outputs": [
    {
     "data": {
      "text/plain": [
       "'USA'"
      ]
     },
     "execution_count": 172,
     "metadata": {},
     "output_type": "execute_result"
    },
    {
     "data": {
      "text/plain": [
       "'USA'"
      ]
     },
     "execution_count": 172,
     "metadata": {},
     "output_type": "execute_result"
    }
   ],
   "source": [
    "mydict2['HQ']\n",
    "mydict2.get('HQ')"
   ]
  },
  {
   "cell_type": "code",
   "execution_count": 173,
   "id": "3b5f6f0a",
   "metadata": {},
   "outputs": [
    {
     "ename": "KeyError",
     "evalue": "'HQ2'",
     "output_type": "error",
     "traceback": [
      "\u001b[1;31m---------------------------------------------------------------------------\u001b[0m",
      "\u001b[1;31mKeyError\u001b[0m                                  Traceback (most recent call last)",
      "Input \u001b[1;32mIn [173]\u001b[0m, in \u001b[0;36m<cell line: 1>\u001b[1;34m()\u001b[0m\n\u001b[1;32m----> 1\u001b[0m \u001b[43mmydict2\u001b[49m\u001b[43m[\u001b[49m\u001b[38;5;124;43m'\u001b[39;49m\u001b[38;5;124;43mHQ2\u001b[39;49m\u001b[38;5;124;43m'\u001b[39;49m\u001b[43m]\u001b[49m\n",
      "\u001b[1;31mKeyError\u001b[0m: 'HQ2'"
     ]
    }
   ],
   "source": [
    "mydict2['HQ2']"
   ]
  },
  {
   "cell_type": "code",
   "execution_count": 174,
   "id": "c35b7dce",
   "metadata": {},
   "outputs": [
    {
     "name": "stdout",
     "output_type": "stream",
     "text": [
      "None\n"
     ]
    }
   ],
   "source": [
    "print(mydict2.get('HQ2'))"
   ]
  },
  {
   "cell_type": "markdown",
   "id": "76ac717e",
   "metadata": {},
   "source": [
    "### 3. items()"
   ]
  },
  {
   "cell_type": "code",
   "execution_count": 175,
   "id": "d8922a5e",
   "metadata": {},
   "outputs": [
    {
     "data": {
      "text/plain": [
       "dict_items([('Company', 'Google'), ('HQ', 'USA'), ('Products', ['Gmail', 'YouTube', 'Chrome', 'Drive', 'Gmail']), ('Industry', 'IT'), ('Founded Yr', 1998), (12, 20), ('HQ1', None)])"
      ]
     },
     "execution_count": 175,
     "metadata": {},
     "output_type": "execute_result"
    },
    {
     "data": {
      "text/plain": [
       "('HQ', 'USA')"
      ]
     },
     "execution_count": 175,
     "metadata": {},
     "output_type": "execute_result"
    }
   ],
   "source": [
    "mydict2.items()\n",
    "list(mydict2.items())[1]"
   ]
  },
  {
   "cell_type": "markdown",
   "id": "ab972047",
   "metadata": {},
   "source": [
    "### 4. update()"
   ]
  },
  {
   "cell_type": "code",
   "execution_count": 178,
   "id": "badd9424",
   "metadata": {},
   "outputs": [],
   "source": [
    "mydict3 = {'Locations': ['USA','India'],\n",
    "          'Emp_count': '1000+'}"
   ]
  },
  {
   "cell_type": "code",
   "execution_count": 179,
   "id": "9a88d27d",
   "metadata": {},
   "outputs": [
    {
     "data": {
      "text/plain": [
       "{'Company': 'Google',\n",
       " 'HQ': 'USA',\n",
       " 'Products': ['Gmail', 'YouTube', 'Chrome', 'Drive', 'Gmail'],\n",
       " 'Industry': 'IT',\n",
       " 'Founded Yr': 1998,\n",
       " 12: 20,\n",
       " 'HQ1': None}"
      ]
     },
     "execution_count": 179,
     "metadata": {},
     "output_type": "execute_result"
    }
   ],
   "source": [
    "mydict2"
   ]
  },
  {
   "cell_type": "code",
   "execution_count": 180,
   "id": "4a929e99",
   "metadata": {},
   "outputs": [],
   "source": [
    "mydict2.update(mydict3)"
   ]
  },
  {
   "cell_type": "code",
   "execution_count": 181,
   "id": "38cca68b",
   "metadata": {},
   "outputs": [
    {
     "data": {
      "text/plain": [
       "{'Company': 'Google',\n",
       " 'HQ': 'USA',\n",
       " 'Products': ['Gmail', 'YouTube', 'Chrome', 'Drive', 'Gmail'],\n",
       " 'Industry': 'IT',\n",
       " 'Founded Yr': 1998,\n",
       " 12: 20,\n",
       " 'HQ1': None,\n",
       " 'Locations': ['USA', 'India'],\n",
       " 'Emp_count': '1000+'}"
      ]
     },
     "execution_count": 181,
     "metadata": {},
     "output_type": "execute_result"
    }
   ],
   "source": [
    "mydict2"
   ]
  },
  {
   "cell_type": "markdown",
   "id": "3eb52ddd",
   "metadata": {},
   "source": [
    "### Clearing a Dictionary\n",
    "If we don't want the items in a dictionary we can clear them using clear() method"
   ]
  },
  {
   "cell_type": "code",
   "execution_count": 73,
   "id": "5105e40d",
   "metadata": {},
   "outputs": [
    {
     "name": "stdout",
     "output_type": "stream",
     "text": [
      "None\n"
     ]
    }
   ],
   "source": [
    "# syntax\n",
    "dct = {'key1':'value1', 'key2':'value2', 'key3':'value3', 'key4':'value4'}\n",
    "print(dct.clear()) # None"
   ]
  },
  {
   "cell_type": "markdown",
   "id": "a1621023",
   "metadata": {},
   "source": [
    "### Deleting a Dictionary\n",
    "If we do not use the dictionary we can delete it completely\n",
    "\n"
   ]
  },
  {
   "cell_type": "code",
   "execution_count": 74,
   "id": "d037e0ec",
   "metadata": {},
   "outputs": [],
   "source": [
    "# syntax\n",
    "dct = {'key1':'value1', 'key2':'value2', 'key3':'value3', 'key4':'value4'}\n",
    "del dct"
   ]
  },
  {
   "cell_type": "markdown",
   "id": "66c60f19",
   "metadata": {},
   "source": [
    "### Getting Dictionary Keys as a List\n",
    "The keys() method gives us all the keys of a a dictionary as a list."
   ]
  },
  {
   "cell_type": "code",
   "execution_count": 75,
   "id": "774c498a",
   "metadata": {},
   "outputs": [
    {
     "name": "stdout",
     "output_type": "stream",
     "text": [
      "dict_keys(['key1', 'key2', 'key3', 'key4'])\n"
     ]
    }
   ],
   "source": [
    "# syntax\n",
    "dct = {'key1':'value1', 'key2':'value2', 'key3':'value3', 'key4':'value4'}\n",
    "keys = dct.keys()\n",
    "print(keys)     # dict_keys(['key1', 'key2', 'key3', 'key4'])"
   ]
  },
  {
   "cell_type": "markdown",
   "id": "bdb192b1",
   "metadata": {},
   "source": [
    "### Getting Dictionary Values as a List\n",
    "The values method gives us all the values of a a dictionary as a list"
   ]
  },
  {
   "cell_type": "code",
   "execution_count": 76,
   "id": "b5296d46",
   "metadata": {},
   "outputs": [
    {
     "name": "stdout",
     "output_type": "stream",
     "text": [
      "dict_values(['value1', 'value2', 'value3', 'value4'])\n"
     ]
    }
   ],
   "source": [
    "# syntax\n",
    "dct = {'key1':'value1', 'key2':'value2', 'key3':'value3', 'key4':'value4'}\n",
    "values = dct.values()\n",
    "print(values)     # dict_values(['value1', 'value2', 'value3', 'value4'])"
   ]
  },
  {
   "cell_type": "code",
   "execution_count": null,
   "id": "4bc309dd",
   "metadata": {},
   "outputs": [],
   "source": []
  },
  {
   "cell_type": "code",
   "execution_count": null,
   "id": "63083fe7",
   "metadata": {},
   "outputs": [],
   "source": []
  },
  {
   "cell_type": "markdown",
   "id": "16cb693b",
   "metadata": {},
   "source": [
    "### Built-in functions"
   ]
  },
  {
   "cell_type": "code",
   "execution_count": 182,
   "id": "968f7427",
   "metadata": {},
   "outputs": [
    {
     "data": {
      "text/plain": [
       "9"
      ]
     },
     "execution_count": 182,
     "metadata": {},
     "output_type": "execute_result"
    }
   ],
   "source": [
    "len(mydict2)"
   ]
  },
  {
   "cell_type": "code",
   "execution_count": 183,
   "id": "97a20c33",
   "metadata": {},
   "outputs": [],
   "source": [
    "# print the 'Student ID' who scored highest marks\n",
    "mydict4 = {'Student ID': [101,102,103,104,105],\n",
    "          'Marks': [85,99,95,66,78]}"
   ]
  },
  {
   "cell_type": "code",
   "execution_count": 184,
   "id": "570fe468",
   "metadata": {},
   "outputs": [
    {
     "data": {
      "text/plain": [
       "102"
      ]
     },
     "execution_count": 184,
     "metadata": {},
     "output_type": "execute_result"
    }
   ],
   "source": [
    "mydict4['Student ID'][1]"
   ]
  },
  {
   "cell_type": "code",
   "execution_count": 185,
   "id": "c49160a7",
   "metadata": {},
   "outputs": [],
   "source": [
    "# print the 'Student ID' who scored highest marks\n",
    "mydict4 = {'Student ID': [101,102,225,104,105],\n",
    "          'Marks': [85,79,95,66,99]}"
   ]
  },
  {
   "cell_type": "code",
   "execution_count": 186,
   "id": "efece0bc",
   "metadata": {},
   "outputs": [
    {
     "data": {
      "text/plain": [
       "225"
      ]
     },
     "execution_count": 186,
     "metadata": {},
     "output_type": "execute_result"
    }
   ],
   "source": [
    "mydict4['Student ID'][2]"
   ]
  },
  {
   "cell_type": "code",
   "execution_count": 187,
   "id": "c3bf6488",
   "metadata": {},
   "outputs": [
    {
     "data": {
      "text/plain": [
       "[85, 79, 95, 66, 99]"
      ]
     },
     "execution_count": 187,
     "metadata": {},
     "output_type": "execute_result"
    },
    {
     "data": {
      "text/plain": [
       "dict"
      ]
     },
     "execution_count": 187,
     "metadata": {},
     "output_type": "execute_result"
    },
    {
     "data": {
      "text/plain": [
       "list"
      ]
     },
     "execution_count": 187,
     "metadata": {},
     "output_type": "execute_result"
    },
    {
     "data": {
      "text/plain": [
       "99"
      ]
     },
     "execution_count": 187,
     "metadata": {},
     "output_type": "execute_result"
    },
    {
     "data": {
      "text/plain": [
       "int"
      ]
     },
     "execution_count": 187,
     "metadata": {},
     "output_type": "execute_result"
    },
    {
     "data": {
      "text/plain": [
       "2"
      ]
     },
     "execution_count": 187,
     "metadata": {},
     "output_type": "execute_result"
    },
    {
     "data": {
      "text/plain": [
       "4"
      ]
     },
     "execution_count": 187,
     "metadata": {},
     "output_type": "execute_result"
    },
    {
     "data": {
      "text/plain": [
       "105"
      ]
     },
     "execution_count": 187,
     "metadata": {},
     "output_type": "execute_result"
    }
   ],
   "source": [
    "# first get the list of marks\n",
    "mydict4['Marks']\n",
    "\n",
    "type(mydict4)\n",
    "type(mydict4['Marks'])\n",
    "\n",
    "# get the max marks\n",
    "max(mydict4['Marks'])\n",
    "\n",
    "type(max(mydict4['Marks']))\n",
    "\n",
    "mydict4['Marks'].index(95)\n",
    "\n",
    "# get the index of max marks from the marks list\n",
    "mydict4['Marks'].index(max(mydict4['Marks']))\n",
    "\n",
    "\n",
    "# use the above index num code \n",
    "mydict4['Student ID'][mydict4['Marks'].index(max(mydict4['Marks']))]"
   ]
  },
  {
   "cell_type": "markdown",
   "id": "e86eb926",
   "metadata": {},
   "source": [
    "### Practice Questions"
   ]
  },
  {
   "cell_type": "markdown",
   "id": "694d3497",
   "metadata": {},
   "source": [
    "1. Create  an empty dictionary called dog\n",
    "2. Add name, color, breed, legs, age to the dog dictionary\n",
    "3. Create a student dictionary and add first_name, last_name, gender, age, marital status, skills, country, city and address as keys for the dictionary\n",
    "4. Get the length of the student dictionary\n",
    "5. Get the value of skills and check the data type, it should be a list\n",
    "6. Modify the skills values by adding one or two skills\n",
    "7. Get the dictionary keys as a list\n",
    "8. Get the dictionary values as a list\n",
    "9. Change the dictionary to a list of tuples using _items()_ method\n",
    "10. Delete one of the items in the dictionary\n",
    "11. Delete one of the dictionaries"
   ]
  },
  {
   "cell_type": "code",
   "execution_count": null,
   "id": "031add51",
   "metadata": {},
   "outputs": [],
   "source": []
  },
  {
   "cell_type": "code",
   "execution_count": null,
   "id": "e2cf9c45",
   "metadata": {},
   "outputs": [],
   "source": []
  },
  {
   "cell_type": "code",
   "execution_count": null,
   "id": "0cbdf5ca",
   "metadata": {},
   "outputs": [],
   "source": []
  },
  {
   "cell_type": "code",
   "execution_count": null,
   "id": "7e54e9e9",
   "metadata": {},
   "outputs": [],
   "source": []
  },
  {
   "cell_type": "code",
   "execution_count": null,
   "id": "474ef69b",
   "metadata": {},
   "outputs": [],
   "source": []
  },
  {
   "cell_type": "code",
   "execution_count": null,
   "id": "2ad9d3fd",
   "metadata": {},
   "outputs": [],
   "source": []
  },
  {
   "cell_type": "code",
   "execution_count": null,
   "id": "e66ddabe",
   "metadata": {},
   "outputs": [],
   "source": []
  },
  {
   "cell_type": "code",
   "execution_count": null,
   "id": "c5ec988f",
   "metadata": {},
   "outputs": [],
   "source": []
  },
  {
   "cell_type": "code",
   "execution_count": null,
   "id": "f7f52f64",
   "metadata": {},
   "outputs": [],
   "source": []
  },
  {
   "cell_type": "code",
   "execution_count": null,
   "id": "c0a8fd38",
   "metadata": {},
   "outputs": [],
   "source": []
  },
  {
   "cell_type": "code",
   "execution_count": null,
   "id": "78add8d3",
   "metadata": {},
   "outputs": [],
   "source": []
  },
  {
   "cell_type": "code",
   "execution_count": null,
   "id": "a6e59556",
   "metadata": {},
   "outputs": [],
   "source": []
  },
  {
   "cell_type": "code",
   "execution_count": null,
   "id": "ecfa7131",
   "metadata": {},
   "outputs": [],
   "source": []
  },
  {
   "cell_type": "code",
   "execution_count": null,
   "id": "427b1763",
   "metadata": {},
   "outputs": [],
   "source": []
  },
  {
   "cell_type": "code",
   "execution_count": null,
   "id": "db75915e",
   "metadata": {},
   "outputs": [],
   "source": []
  },
  {
   "cell_type": "code",
   "execution_count": null,
   "id": "f8da8257",
   "metadata": {},
   "outputs": [],
   "source": []
  }
 ],
 "metadata": {
  "kernelspec": {
   "display_name": "Python 3 (ipykernel)",
   "language": "python",
   "name": "python3"
  },
  "language_info": {
   "codemirror_mode": {
    "name": "ipython",
    "version": 3
   },
   "file_extension": ".py",
   "mimetype": "text/x-python",
   "name": "python",
   "nbconvert_exporter": "python",
   "pygments_lexer": "ipython3",
   "version": "3.9.16"
  }
 },
 "nbformat": 4,
 "nbformat_minor": 5
}
